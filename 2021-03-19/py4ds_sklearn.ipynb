{
  "nbformat": 4,
  "nbformat_minor": 0,
  "metadata": {
    "colab": {
      "name": "py4ds_sklearn.ipynb",
      "provenance": [],
      "collapsed_sections": [],
      "toc_visible": true
    },
    "kernelspec": {
      "name": "python3",
      "display_name": "Python 3"
    },
    "language_info": {
      "name": "python"
    }
  },
  "cells": [
    {
      "cell_type": "markdown",
      "metadata": {
        "id": "TgtCbP2ln6R4"
      },
      "source": [
        "# I. Prediction"
      ]
    },
    {
      "cell_type": "markdown",
      "metadata": {
        "id": "Nc98Qz96n6MC"
      },
      "source": [
        "## a) Nettoyage et Chargement de la donnée"
      ]
    },
    {
      "cell_type": "markdown",
      "metadata": {
        "id": "sLj7nZIQh1Km"
      },
      "source": [
        "\n",
        "Scikit learn possède quelques datasets de tests qui permettent de rapidement tester avec peux d'efforts\n",
        "\n",
        "Il y a les exemples de jeux et les datasets réels. Dans notre exemple nous allons nous concentrer sur un dataset de jeux\n"
      ]
    },
    {
      "cell_type": "code",
      "metadata": {
        "id": "bz4yx35RhCKt"
      },
      "source": [
        "from sklearn.datasets import load_wine\n",
        "sk_df = load_wine()"
      ],
      "execution_count": 2,
      "outputs": []
    },
    {
      "cell_type": "markdown",
      "metadata": {
        "id": "Ht_jAzqVkUz3"
      },
      "source": [
        "En pratique, les dataframes pandas sont plus utilisé (ou numpy) car ils permettent de traiter et nettoyer la donnée avant leur utilisation\n"
      ]
    },
    {
      "cell_type": "code",
      "metadata": {
        "id": "5iAV5GeXkyEH"
      },
      "source": [
        "import pandas as pd\n",
        "\n",
        "pdf = pd.read_csv('https://s3.amazonaws.com/rawstore.datahub.io/8be2b68381437d055ee597dc53357ff9.csv')\n",
        "pdf_target = pdf['class'].apply(lambda x : x.lower() == 'absent')"
      ],
      "execution_count": 78,
      "outputs": []
    },
    {
      "cell_type": "markdown",
      "metadata": {
        "id": "mGqfLkhgoDuj"
      },
      "source": [
        "## b) Mise en place premier apprentissage\n",
        "\n"
      ]
    },
    {
      "cell_type": "markdown",
      "metadata": {
        "id": "jVsQqNdq2KFl"
      },
      "source": [
        "### Préparation de la donnée\n",
        "Nous allons séparer les données en plusieurs groupes afin de s'assurer que notre rochain modèle fonctionne"
      ]
    },
    {
      "cell_type": "code",
      "metadata": {
        "id": "tSxZYhO0l9Ck"
      },
      "source": [
        "from sklearn import model_selection\n",
        "\n",
        "xdata,ydata,xtarget,ytarget = model_selection.train_test_split(sk_df.data,sk_df.target)\n",
        "pxdata,pydata,pxtarget,pytarget = model_selection.train_test_split(pdf.iloc[:,0:-1],pdf_target)"
      ],
      "execution_count": 90,
      "outputs": []
    },
    {
      "cell_type": "markdown",
      "metadata": {
        "id": "5Rj9YFB26en0"
      },
      "source": [
        "vérifions tout de même que le random nous donnes des données correctes pour le learning et les tests"
      ]
    },
    {
      "cell_type": "code",
      "metadata": {
        "colab": {
          "base_uri": "https://localhost:8080/"
        },
        "id": "QCiaC4XJ6k43",
        "outputId": "904bdbe6-35ba-4905-82de-f6c5bc84cecb"
      },
      "source": [
        "pytarget.value_counts()"
      ],
      "execution_count": 119,
      "outputs": [
        {
          "output_type": "execute_result",
          "data": {
            "text/plain": [
              "True     41\n",
              "False    27\n",
              "Name: class, dtype: int64"
            ]
          },
          "metadata": {
            "tags": []
          },
          "execution_count": 119
        }
      ]
    },
    {
      "cell_type": "code",
      "metadata": {
        "colab": {
          "base_uri": "https://localhost:8080/"
        },
        "id": "xm3cB_g56p8y",
        "outputId": "adbadd37-473b-4dd5-de48-821229e588ba"
      },
      "source": [
        "pxtarget.value_counts()"
      ],
      "execution_count": 120,
      "outputs": [
        {
          "output_type": "execute_result",
          "data": {
            "text/plain": [
              "True     109\n",
              "False     93\n",
              "Name: class, dtype: int64"
            ]
          },
          "metadata": {
            "tags": []
          },
          "execution_count": 120
        }
      ]
    },
    {
      "cell_type": "markdown",
      "metadata": {
        "id": "Ajqd3XaLq130"
      },
      "source": [
        "### Premier apprentissage avec une simple régression\n",
        "Retenez qu'il existe d'autre algorithmes"
      ]
    },
    {
      "cell_type": "code",
      "metadata": {
        "id": "gFcHpxKeim0B"
      },
      "source": [
        "from sklearn.linear_model import LogisticRegression\n",
        "\n",
        "lr = LogisticRegression(solver='liblinear')\n",
        "plr = LogisticRegression(solver='liblinear')\n",
        "\n",
        "model = lr.fit(xdata,xtarget)\n",
        "pmodel = plr.fit(pxdata,pxtarget)\n"
      ],
      "execution_count": 193,
      "outputs": []
    },
    {
      "cell_type": "markdown",
      "metadata": {
        "id": "rVkzxaB2s39W"
      },
      "source": [
        "## c) Regardons les résultats "
      ]
    },
    {
      "cell_type": "markdown",
      "metadata": {
        "id": "5To4gawwuAAu"
      },
      "source": [
        "### avec une simple **matrice de confusion**"
      ]
    },
    {
      "cell_type": "code",
      "metadata": {
        "colab": {
          "base_uri": "https://localhost:8080/"
        },
        "id": "MyWrZxqNrLlM",
        "outputId": "5af01aed-2546-455b-f8cb-b3c71ec05c2b"
      },
      "source": [
        "from sklearn import metrics\n",
        "metrics.confusion_matrix(ytarget,model.predict(ydata))"
      ],
      "execution_count": 93,
      "outputs": [
        {
          "output_type": "execute_result",
          "data": {
            "text/plain": [
              "array([[12,  1,  0],\n",
              "       [ 0, 19,  1],\n",
              "       [ 0,  1, 11]])"
            ]
          },
          "metadata": {
            "tags": []
          },
          "execution_count": 93
        }
      ]
    },
    {
      "cell_type": "code",
      "metadata": {
        "colab": {
          "base_uri": "https://localhost:8080/"
        },
        "id": "oHgD_5OFtO90",
        "outputId": "459843be-f823-4e20-df5e-11f5fe301a14"
      },
      "source": [
        "metrics.confusion_matrix(pytarget,pmodel.predict(pydata))"
      ],
      "execution_count": 94,
      "outputs": [
        {
          "output_type": "execute_result",
          "data": {
            "text/plain": [
              "array([[23,  4],\n",
              "       [ 5, 36]])"
            ]
          },
          "metadata": {
            "tags": []
          },
          "execution_count": 94
        }
      ]
    },
    {
      "cell_type": "markdown",
      "metadata": {
        "id": "ZZtdr0VfKxXF"
      },
      "source": [
        "En plus jolie"
      ]
    },
    {
      "cell_type": "code",
      "metadata": {
        "colab": {
          "base_uri": "https://localhost:8080/",
          "height": 297
        },
        "id": "5lE5W9_uKgAI",
        "outputId": "6aef1da6-7622-4b42-ad4d-fff49c935794"
      },
      "source": [
        "metrics.plot_confusion_matrix(plr,pxdata,pxtarget)"
      ],
      "execution_count": 195,
      "outputs": [
        {
          "output_type": "execute_result",
          "data": {
            "text/plain": [
              "<sklearn.metrics._plot.confusion_matrix.ConfusionMatrixDisplay at 0x7f77a49d3710>"
            ]
          },
          "metadata": {
            "tags": []
          },
          "execution_count": 195
        },
        {
          "output_type": "display_data",
          "data": {
            "image/png": "[encoded data removed]",
            "text/plain": [
              "<Figure size 432x288 with 2 Axes>"
            ]
          },
          "metadata": {
            "tags": [],
            "needs_background": "light"
          }
        }
      ]
    },
    {
      "cell_type": "markdown",
      "metadata": {
        "id": "pZecmhpJuGne"
      },
      "source": [
        "### Puis avec d'autres métriques"
      ]
    },
    {
      "cell_type": "code",
      "metadata": {
        "colab": {
          "base_uri": "https://localhost:8080/"
        },
        "id": "DiD4fLQet3hU",
        "outputId": "2316fc41-dbe9-4104-b521-a2962d5ef92d"
      },
      "source": [
        "print(metrics.f1_score(pytarget,pmodel.predict(pydata)))\n",
        "metrics.recall_score(pytarget,pmodel.predict(pydata))"
      ],
      "execution_count": 95,
      "outputs": [
        {
          "output_type": "stream",
          "text": [
            "0.888888888888889\n"
          ],
          "name": "stdout"
        },
        {
          "output_type": "execute_result",
          "data": {
            "text/plain": [
              "0.8780487804878049"
            ]
          },
          "metadata": {
            "tags": []
          },
          "execution_count": 95
        }
      ]
    },
    {
      "cell_type": "code",
      "metadata": {
        "colab": {
          "base_uri": "https://localhost:8080/"
        },
        "id": "65ckifGvuWR8",
        "outputId": "ea50033b-135b-4ce2-b21f-273b1afe0c88"
      },
      "source": [
        "metrics.accuracy_score(ytarget,model.predict(ydata))"
      ],
      "execution_count": 96,
      "outputs": [
        {
          "output_type": "execute_result",
          "data": {
            "text/plain": [
              "0.9333333333333333"
            ]
          },
          "metadata": {
            "tags": []
          },
          "execution_count": 96
        }
      ]
    },
    {
      "cell_type": "markdown",
      "metadata": {
        "id": "HX0EWUQ7uppo"
      },
      "source": [
        "ou même un scorer personnalisé (exemple jouet sans grands intérêt :)"
      ]
    },
    {
      "cell_type": "code",
      "metadata": {
        "colab": {
          "base_uri": "https://localhost:8080/"
        },
        "id": "6ioB1bo0ufLU",
        "outputId": "a6c948a7-5d97-4559-fe79-16b1defb9587"
      },
      "source": [
        "sc = metrics.make_scorer( lambda yp,yt : pd.Series((yt == yp)).astype(int).sum(),greater_is_better=True)\n",
        "sc(lr,ydata,ytarget)"
      ],
      "execution_count": 97,
      "outputs": [
        {
          "output_type": "execute_result",
          "data": {
            "text/plain": [
              "42"
            ]
          },
          "metadata": {
            "tags": []
          },
          "execution_count": 97
        }
      ]
    },
    {
      "cell_type": "markdown",
      "metadata": {
        "id": "vxYPHY9wwlyr"
      },
      "source": [
        "### Soyons plus visuel!"
      ]
    },
    {
      "cell_type": "code",
      "metadata": {
        "colab": {
          "base_uri": "https://localhost:8080/",
          "height": 297
        },
        "id": "BMNuHhHsxklb",
        "outputId": "bd40bfb3-cae1-46d4-f20e-3db0bd817466"
      },
      "source": [
        "metrics.plot_roc_curve(plr,pxdata,pxtarget)"
      ],
      "execution_count": 98,
      "outputs": [
        {
          "output_type": "execute_result",
          "data": {
            "text/plain": [
              "<sklearn.metrics._plot.roc_curve.RocCurveDisplay at 0x7f77a7ce1910>"
            ]
          },
          "metadata": {
            "tags": []
          },
          "execution_count": 98
        },
        {
          "output_type": "display_data",
          "data": {
            "image/png": "[encoded data removed]",
            "text/plain": [
              "<Figure size 432x288 with 1 Axes>"
            ]
          },
          "metadata": {
            "tags": [],
            "needs_background": "light"
          }
        }
      ]
    },
    {
      "cell_type": "markdown",
      "metadata": {
        "id": "sg8rVY7t1_Wr"
      },
      "source": [
        "## d) Optimisons notre model"
      ]
    },
    {
      "cell_type": "markdown",
      "metadata": {
        "id": "RN6T1o1I28vd"
      },
      "source": [
        "### toutes les features sont elle vraiment importante?"
      ]
    },
    {
      "cell_type": "code",
      "metadata": {
        "colab": {
          "base_uri": "https://localhost:8080/"
        },
        "id": "-9iwkCuA3BTq",
        "outputId": "8f86da7b-4b69-4a37-b62a-87d67039c73e"
      },
      "source": [
        "from sklearn.feature_selection import SelectFromModel\n",
        "\n",
        "plr = LogisticRegression(solver='liblinear')\n",
        "sfm = SelectFromModel(plr)\n",
        "sfm.fit(pxdata,pxtarget)\n",
        "sfm.get_support()"
      ],
      "execution_count": 118,
      "outputs": [
        {
          "output_type": "execute_result",
          "data": {
            "text/plain": [
              "array([False,  True,  True, False, False, False, False, False,  True,\n",
              "        True, False,  True, False])"
            ]
          },
          "metadata": {
            "tags": []
          },
          "execution_count": 118
        }
      ]
    },
    {
      "cell_type": "markdown",
      "metadata": {
        "id": "gbIgZ2R-4OaN"
      },
      "source": [
        "Regardons quelles sont les columnes correspondantes"
      ]
    },
    {
      "cell_type": "code",
      "metadata": {
        "colab": {
          "base_uri": "https://localhost:8080/"
        },
        "id": "P26wVWCo4VRb",
        "outputId": "50714b68-7d5f-443e-922a-9ba91f617dde"
      },
      "source": [
        "pdf.iloc[:,sfm.get_support(indices=True)].columns"
      ],
      "execution_count": 117,
      "outputs": [
        {
          "output_type": "execute_result",
          "data": {
            "text/plain": [
              "Index(['sex', 'chest', 'exercise_induced_angina', 'oldpeak',\n",
              "       'number_of_major_vessels'],\n",
              "      dtype='object')"
            ]
          },
          "metadata": {
            "tags": []
          },
          "execution_count": 117
        }
      ]
    },
    {
      "cell_type": "markdown",
      "metadata": {
        "id": "nloNTzsz6LvM"
      },
      "source": [
        "### A-t-on vraiment choisit le bon modèle ?"
      ]
    },
    {
      "cell_type": "code",
      "metadata": {
        "colab": {
          "base_uri": "https://localhost:8080/",
          "height": 553
        },
        "id": "MM8mfAag62ky",
        "outputId": "c8b7a6f7-4a54-406e-a0f5-175a8d8e7c20"
      },
      "source": [
        "params = [{'solver' : ['newton-cg','liblinear'], 'C' : [1,0.75,0.5]}]\n",
        "plr = LogisticRegression(solver='liblinear')\n",
        "model_benchs = model_selection.GridSearchCV(estimator=plr,param_grid=params,scoring='accuracy').fit(pxdata,pxtarget)\n",
        "\n",
        "#pour l'affichage un dataframe est plus jolie\n",
        "pd.DataFrame(model_benchs.cv_results_)"
      ],
      "execution_count": 122,
      "outputs": [
        {
          "output_type": "execute_result",
          "data": {
            "text/html": [
              "<div>\n",
              "<style scoped>\n",
              "    .dataframe tbody tr th:only-of-type {\n",
              "        vertical-align: middle;\n",
              "    }\n",
              "\n",
              "    .dataframe tbody tr th {\n",
              "        vertical-align: top;\n",
              "    }\n",
              "\n",
              "    .dataframe thead th {\n",
              "        text-align: right;\n",
              "    }\n",
              "</style>\n",
              "<table border=\"1\" class=\"dataframe\">\n",
              "  <thead>\n",
              "    <tr style=\"text-align: right;\">\n",
              "      <th></th>\n",
              "      <th>mean_fit_time</th>\n",
              "      <th>std_fit_time</th>\n",
              "      <th>mean_score_time</th>\n",
              "      <th>std_score_time</th>\n",
              "      <th>param_C</th>\n",
              "      <th>param_solver</th>\n",
              "      <th>params</th>\n",
              "      <th>split0_test_score</th>\n",
              "      <th>split1_test_score</th>\n",
              "      <th>split2_test_score</th>\n",
              "      <th>split3_test_score</th>\n",
              "      <th>split4_test_score</th>\n",
              "      <th>mean_test_score</th>\n",
              "      <th>std_test_score</th>\n",
              "      <th>rank_test_score</th>\n",
              "    </tr>\n",
              "  </thead>\n",
              "  <tbody>\n",
              "    <tr>\n",
              "      <th>0</th>\n",
              "      <td>0.040308</td>\n",
              "      <td>0.007445</td>\n",
              "      <td>0.001308</td>\n",
              "      <td>0.000096</td>\n",
              "      <td>1</td>\n",
              "      <td>newton-cg</td>\n",
              "      <td>{'C': 1, 'solver': 'newton-cg'}</td>\n",
              "      <td>0.658537</td>\n",
              "      <td>0.804878</td>\n",
              "      <td>0.825</td>\n",
              "      <td>0.85</td>\n",
              "      <td>0.850</td>\n",
              "      <td>0.797683</td>\n",
              "      <td>0.071601</td>\n",
              "      <td>4</td>\n",
              "    </tr>\n",
              "    <tr>\n",
              "      <th>1</th>\n",
              "      <td>0.002608</td>\n",
              "      <td>0.000247</td>\n",
              "      <td>0.001136</td>\n",
              "      <td>0.000256</td>\n",
              "      <td>1</td>\n",
              "      <td>liblinear</td>\n",
              "      <td>{'C': 1, 'solver': 'liblinear'}</td>\n",
              "      <td>0.804878</td>\n",
              "      <td>0.780488</td>\n",
              "      <td>0.800</td>\n",
              "      <td>0.85</td>\n",
              "      <td>0.825</td>\n",
              "      <td>0.812073</td>\n",
              "      <td>0.023667</td>\n",
              "      <td>3</td>\n",
              "    </tr>\n",
              "    <tr>\n",
              "      <th>2</th>\n",
              "      <td>0.036228</td>\n",
              "      <td>0.004062</td>\n",
              "      <td>0.001259</td>\n",
              "      <td>0.000036</td>\n",
              "      <td>0.75</td>\n",
              "      <td>newton-cg</td>\n",
              "      <td>{'C': 0.75, 'solver': 'newton-cg'}</td>\n",
              "      <td>0.658537</td>\n",
              "      <td>0.804878</td>\n",
              "      <td>0.825</td>\n",
              "      <td>0.85</td>\n",
              "      <td>0.850</td>\n",
              "      <td>0.797683</td>\n",
              "      <td>0.071601</td>\n",
              "      <td>4</td>\n",
              "    </tr>\n",
              "    <tr>\n",
              "      <th>3</th>\n",
              "      <td>0.002230</td>\n",
              "      <td>0.000085</td>\n",
              "      <td>0.000940</td>\n",
              "      <td>0.000025</td>\n",
              "      <td>0.75</td>\n",
              "      <td>liblinear</td>\n",
              "      <td>{'C': 0.75, 'solver': 'liblinear'}</td>\n",
              "      <td>0.780488</td>\n",
              "      <td>0.780488</td>\n",
              "      <td>0.825</td>\n",
              "      <td>0.85</td>\n",
              "      <td>0.825</td>\n",
              "      <td>0.812195</td>\n",
              "      <td>0.027451</td>\n",
              "      <td>1</td>\n",
              "    </tr>\n",
              "    <tr>\n",
              "      <th>4</th>\n",
              "      <td>0.030677</td>\n",
              "      <td>0.004468</td>\n",
              "      <td>0.001222</td>\n",
              "      <td>0.000012</td>\n",
              "      <td>0.5</td>\n",
              "      <td>newton-cg</td>\n",
              "      <td>{'C': 0.5, 'solver': 'newton-cg'}</td>\n",
              "      <td>0.682927</td>\n",
              "      <td>0.804878</td>\n",
              "      <td>0.825</td>\n",
              "      <td>0.85</td>\n",
              "      <td>0.825</td>\n",
              "      <td>0.797561</td>\n",
              "      <td>0.059077</td>\n",
              "      <td>6</td>\n",
              "    </tr>\n",
              "    <tr>\n",
              "      <th>5</th>\n",
              "      <td>0.002218</td>\n",
              "      <td>0.000108</td>\n",
              "      <td>0.000940</td>\n",
              "      <td>0.000055</td>\n",
              "      <td>0.5</td>\n",
              "      <td>liblinear</td>\n",
              "      <td>{'C': 0.5, 'solver': 'liblinear'}</td>\n",
              "      <td>0.780488</td>\n",
              "      <td>0.780488</td>\n",
              "      <td>0.825</td>\n",
              "      <td>0.85</td>\n",
              "      <td>0.825</td>\n",
              "      <td>0.812195</td>\n",
              "      <td>0.027451</td>\n",
              "      <td>1</td>\n",
              "    </tr>\n",
              "  </tbody>\n",
              "</table>\n",
              "</div>"
            ],
            "text/plain": [
              "   mean_fit_time  std_fit_time  ...  std_test_score  rank_test_score\n",
              "0       0.040308      0.007445  ...        0.071601                4\n",
              "1       0.002608      0.000247  ...        0.023667                3\n",
              "2       0.036228      0.004062  ...        0.071601                4\n",
              "3       0.002230      0.000085  ...        0.027451                1\n",
              "4       0.030677      0.004468  ...        0.059077                6\n",
              "5       0.002218      0.000108  ...        0.027451                1\n",
              "\n",
              "[6 rows x 15 columns]"
            ]
          },
          "metadata": {
            "tags": []
          },
          "execution_count": 122
        }
      ]
    },
    {
      "cell_type": "markdown",
      "metadata": {
        "id": "0C2T52Wh8PPJ"
      },
      "source": [
        "# II. Clustering"
      ]
    },
    {
      "cell_type": "markdown",
      "metadata": {
        "id": "pdYIszSLE5kb"
      },
      "source": [
        "## Chargement de la donnée\n",
        "Créons des clusters à la main en random"
      ]
    },
    {
      "cell_type": "code",
      "metadata": {
        "id": "NVBdeSBMFo_X"
      },
      "source": [
        "from sklearn.datasets import make_blobs\n",
        "\n",
        "features, true_labels = make_blobs(\n",
        "    n_samples=400,\n",
        "     centers=4,\n",
        "     cluster_std=2.0,\n",
        "     random_state=42\n",
        " )\n"
      ],
      "execution_count": 184,
      "outputs": []
    },
    {
      "cell_type": "markdown",
      "metadata": {
        "id": "pclSxsVBGdkL"
      },
      "source": [
        "Regardons le résultat"
      ]
    },
    {
      "cell_type": "code",
      "metadata": {
        "colab": {
          "base_uri": "https://localhost:8080/",
          "height": 276
        },
        "id": "i3S1AxbRGhRS",
        "outputId": "5c7bb584-87bc-4f0d-fb8c-df5f2c606f80"
      },
      "source": [
        "pd.DataFrame(features,columns=['x','y']).plot.scatter(x='x',y='y',c=true_labels,colormap='viridis')"
      ],
      "execution_count": 186,
      "outputs": [
        {
          "output_type": "execute_result",
          "data": {
            "text/plain": [
              "<matplotlib.axes._subplots.AxesSubplot at 0x7f77a60e1610>"
            ]
          },
          "metadata": {
            "tags": []
          },
          "execution_count": 186
        },
        {
          "output_type": "display_data",
          "data": {
            "image/png": "[encoded data removed]",
            "text/plain": [
              "<Figure size 432x288 with 2 Axes>"
            ]
          },
          "metadata": {
            "tags": [],
            "needs_background": "light"
          }
        }
      ]
    },
    {
      "cell_type": "markdown",
      "metadata": {
        "id": "6ONzMFGNGXAL"
      },
      "source": [
        "## Mise en place du clustering\n",
        "\n",
        "Un pipeline sert à ajouter des transformations dans un workflow de traitement de données\n",
        "(la bonne pratique est l'itulisation de ce pipeline)"
      ]
    },
    {
      "cell_type": "code",
      "metadata": {
        "colab": {
          "base_uri": "https://localhost:8080/"
        },
        "id": "nSGlLN4qGXW6",
        "outputId": "7ed0eed2-b2c8-424a-b12a-9b64a7e3f4dc"
      },
      "source": [
        "from sklearn.preprocessing import StandardScaler\n",
        "from sklearn.pipeline import Pipeline\n",
        "from sklearn.cluster import KMeans\n",
        "\n",
        "pipe = Pipeline([\n",
        "        ('scale', StandardScaler()),\n",
        "        ('clustering',KMeans(\n",
        "            init=\"random\",\n",
        "            n_clusters=4,\n",
        "            n_init=15,\n",
        "            max_iter=300,\n",
        "            random_state=42\n",
        "         )\n",
        "        )\n",
        "])\n",
        "pipe.fit(features,true_labels)"
      ],
      "execution_count": 190,
      "outputs": [
        {
          "output_type": "execute_result",
          "data": {
            "text/plain": [
              "Pipeline(memory=None,\n",
              "         steps=[('scale',\n",
              "                 StandardScaler(copy=True, with_mean=True, with_std=True)),\n",
              "                ('clustering',\n",
              "                 KMeans(algorithm='auto', copy_x=True, init='random',\n",
              "                        max_iter=300, n_clusters=4, n_init=15, n_jobs=None,\n",
              "                        precompute_distances='auto', random_state=42,\n",
              "                        tol=0.0001, verbose=0))],\n",
              "         verbose=False)"
            ]
          },
          "metadata": {
            "tags": []
          },
          "execution_count": 190
        }
      ]
    },
    {
      "cell_type": "markdown",
      "metadata": {
        "id": "htgi0S77Jy46"
      },
      "source": [
        "## Resultats\n",
        "Observons notre nouvelles sorties"
      ]
    },
    {
      "cell_type": "code",
      "metadata": {
        "colab": {
          "base_uri": "https://localhost:8080/",
          "height": 276
        },
        "id": "ql7TltnSJkx2",
        "outputId": "859f9ca5-f4f6-4289-f10e-afe541dcd15d"
      },
      "source": [
        "pd.DataFrame(features,columns=['x','y']).plot.scatter(x='x',y='y',c=pipe.predict(features),colormap='viridis')"
      ],
      "execution_count": 191,
      "outputs": [
        {
          "output_type": "execute_result",
          "data": {
            "text/plain": [
              "<matplotlib.axes._subplots.AxesSubplot at 0x7f77a4afcdd0>"
            ]
          },
          "metadata": {
            "tags": []
          },
          "execution_count": 191
        },
        {
          "output_type": "display_data",
          "data": {
            "image/png": "[encoded data removed]",
            "text/plain": [
              "<Figure size 432x288 with 2 Axes>"
            ]
          },
          "metadata": {
            "tags": [],
            "needs_background": "light"
          }
        }
      ]
    },
    {
      "cell_type": "markdown",
      "metadata": {
        "id": "ad8ZjXVrJ_Bs"
      },
      "source": [
        "Exceptionnellement puisque nous avons simuler les clusters, nous pouvons nous amuser à comparer par rapport à notre generateur"
      ]
    },
    {
      "cell_type": "code",
      "metadata": {
        "colab": {
          "base_uri": "https://localhost:8080/"
        },
        "id": "vClfOXwcKOku",
        "outputId": "260b0372-fb0a-46b8-a9c0-cf29f2a6d605"
      },
      "source": [
        "metrics.confusion_matrix(true_labels,pipe.predict(features))"
      ],
      "execution_count": 196,
      "outputs": [
        {
          "output_type": "execute_result",
          "data": {
            "text/plain": [
              "array([[ 98,   0,   0,   2],\n",
              "       [  0, 100,   0,   0],\n",
              "       [  0,   0, 100,   0],\n",
              "       [  7,   0,   0,  93]])"
            ]
          },
          "metadata": {
            "tags": []
          },
          "execution_count": 196
        }
      ]
    },
    {
      "cell_type": "markdown",
      "metadata": {
        "id": "3gnsWz5CM2tH"
      },
      "source": [
        "# III Regression"
      ]
    },
    {
      "cell_type": "markdown",
      "metadata": {
        "id": "Egy3W2R0NEtD"
      },
      "source": [
        "## chargement de la donnée"
      ]
    },
    {
      "cell_type": "code",
      "metadata": {
        "colab": {
          "base_uri": "https://localhost:8080/"
        },
        "id": "zZj9BxuGNBfj",
        "outputId": "2c2658d6-2ea5-4631-b024-841fc09207e3"
      },
      "source": [
        "from sklearn.datasets import fetch_california_housing\n",
        "\n",
        "chp = fetch_california_housing()"
      ],
      "execution_count": 202,
      "outputs": [
        {
          "output_type": "stream",
          "text": [
            "Downloading Cal. housing from https://ndownloader.figshare.com/files/5976036 to /root/scikit_learn_data\n"
          ],
          "name": "stderr"
        }
      ]
    },
    {
      "cell_type": "markdown",
      "metadata": {
        "id": "QL0oJPDfN01x"
      },
      "source": [
        "regardons les tendances des résultats (les prix)\n",
        "\n",
        "Et profitons en pour donner un exemples avec seaborn !"
      ]
    },
    {
      "cell_type": "code",
      "metadata": {
        "colab": {
          "base_uri": "https://localhost:8080/",
          "height": 340
        },
        "id": "anO9M1mdN3TR",
        "outputId": "7cc486f4-e1d6-46cf-bb43-2c728c5b63ef"
      },
      "source": [
        "import seaborn as sns\n",
        "# Attention condainstall seaborn ou pip install seaborn necessaire (sauf sur google colab)\n",
        "sns.distplot(chp.target, bins=30)"
      ],
      "execution_count": 203,
      "outputs": [
        {
          "output_type": "stream",
          "text": [
            "/usr/local/lib/python3.7/dist-packages/seaborn/distributions.py:2557: FutureWarning: `distplot` is a deprecated function and will be removed in a future version. Please adapt your code to use either `displot` (a figure-level function with similar flexibility) or `histplot` (an axes-level function for histograms).\n",
            "  warnings.warn(msg, FutureWarning)\n"
          ],
          "name": "stderr"
        },
        {
          "output_type": "execute_result",
          "data": {
            "text/plain": [
              "<matplotlib.axes._subplots.AxesSubplot at 0x7f77a4088510>"
            ]
          },
          "metadata": {
            "tags": []
          },
          "execution_count": 203
        },
        {
          "output_type": "display_data",
          "data": {
            "image/png": "[encoded data removed]",
            "text/plain": [
              "<Figure size 432x288 with 1 Axes>"
            ]
          },
          "metadata": {
            "tags": [],
            "needs_background": "light"
          }
        }
      ]
    },
    {
      "cell_type": "markdown",
      "metadata": {
        "id": "LLPo1VOzPqin"
      },
      "source": [
        "Et sepraons la donnée pour nos tests"
      ]
    },
    {
      "cell_type": "code",
      "metadata": {
        "id": "kX3NSWyOPtns"
      },
      "source": [
        "rxdata,rydata,rxtarget,rytarget = model_selection.train_test_split(chp.data,chp.target)"
      ],
      "execution_count": 204,
      "outputs": []
    },
    {
      "cell_type": "markdown",
      "metadata": {
        "id": "oy18jwuOPGh-"
      },
      "source": [
        "## Mise en place des modèles"
      ]
    },
    {
      "cell_type": "code",
      "metadata": {
        "colab": {
          "base_uri": "https://localhost:8080/"
        },
        "id": "PAljAIc5PUtX",
        "outputId": "2a38c9a7-1d04-4427-9870-ac23fc4ea330"
      },
      "source": [
        "from sklearn.linear_model import ElasticNet\n",
        "from sklearn.ensemble import RandomForestRegressor\n",
        "\n",
        "prices = ElasticNet()\n",
        "prices2 = RandomForestRegressor()\n",
        "\n",
        "prices.fit(rxdata,rxtarget)\n",
        "prices2.fit(rxdata,rxtarget)"
      ],
      "execution_count": 210,
      "outputs": [
        {
          "output_type": "execute_result",
          "data": {
            "text/plain": [
              "RandomForestRegressor(bootstrap=True, ccp_alpha=0.0, criterion='mse',\n",
              "                      max_depth=None, max_features='auto', max_leaf_nodes=None,\n",
              "                      max_samples=None, min_impurity_decrease=0.0,\n",
              "                      min_impurity_split=None, min_samples_leaf=1,\n",
              "                      min_samples_split=2, min_weight_fraction_leaf=0.0,\n",
              "                      n_estimators=100, n_jobs=None, oob_score=False,\n",
              "                      random_state=None, verbose=0, warm_start=False)"
            ]
          },
          "metadata": {
            "tags": []
          },
          "execution_count": 210
        }
      ]
    },
    {
      "cell_type": "markdown",
      "metadata": {
        "id": "v30IZYk8Q2sa"
      },
      "source": [
        "## Regardons les résultats"
      ]
    },
    {
      "cell_type": "code",
      "metadata": {
        "colab": {
          "base_uri": "https://localhost:8080/"
        },
        "id": "uzC1H5U5Q7hx",
        "outputId": "0692e852-fc00-4fdf-c8cc-79bcf765006c"
      },
      "source": [
        "prices.score(rydata,rytarget)"
      ],
      "execution_count": 211,
      "outputs": [
        {
          "output_type": "execute_result",
          "data": {
            "text/plain": [
              "0.41549917993410623"
            ]
          },
          "metadata": {
            "tags": []
          },
          "execution_count": 211
        }
      ]
    },
    {
      "cell_type": "markdown",
      "metadata": {
        "id": "iBMG_MswRhv4"
      },
      "source": [
        "Cela n'est pas très bon car beaucoup trop éloigné de 1, et notre autre solution ?"
      ]
    },
    {
      "cell_type": "code",
      "metadata": {
        "colab": {
          "base_uri": "https://localhost:8080/"
        },
        "id": "CsHOVFTPRl6H",
        "outputId": "244333bb-d69a-4bed-d29b-ca25ab813ea7"
      },
      "source": [
        "prices2.score(rxdata,rxtarget)"
      ],
      "execution_count": 212,
      "outputs": [
        {
          "output_type": "execute_result",
          "data": {
            "text/plain": [
              "0.9732444416272611"
            ]
          },
          "metadata": {
            "tags": []
          },
          "execution_count": 212
        }
      ]
    },
    {
      "cell_type": "markdown",
      "metadata": {
        "id": "5B1vHXzvQumF"
      },
      "source": [
        "Les solutions de machine learning ensembliste sont très consommatrice en ressource mais offre de bon résultat avec peu d'optimisation manuelles\n",
        "\n",
        "De plus le randomforest nous offre la possibiltié de regarder les entrées qui sont le plus utilisé"
      ]
    },
    {
      "cell_type": "code",
      "metadata": {
        "colab": {
          "base_uri": "https://localhost:8080/"
        },
        "id": "rMwgd0YHSZr4",
        "outputId": "c03e14ba-d891-469a-f010-17cb0174a7a6"
      },
      "source": [
        "dict(zip(chp.feature_names,prices2.feature_importances_))"
      ],
      "execution_count": 221,
      "outputs": [
        {
          "output_type": "execute_result",
          "data": {
            "text/plain": [
              "{'AveBedrms': 0.02899484336827611,\n",
              " 'AveOccup': 0.13556711216981412,\n",
              " 'AveRooms': 0.03975300350642458,\n",
              " 'HouseAge': 0.0567637219243821,\n",
              " 'Latitude': 0.09460127141796632,\n",
              " 'Longitude': 0.0933201021155374,\n",
              " 'MedInc': 0.5195141268389354,\n",
              " 'Population': 0.03148581865866414}"
            ]
          },
          "metadata": {
            "tags": []
          },
          "execution_count": 221
        }
      ]
    },
    {
      "cell_type": "markdown",
      "metadata": {
        "id": "Rbai9_pQTI2c"
      },
      "source": [
        "Et en jolie"
      ]
    },
    {
      "cell_type": "code",
      "metadata": {
        "colab": {
          "base_uri": "https://localhost:8080/",
          "height": 330
        },
        "id": "hKeDt2spTKpR",
        "outputId": "1fc9ae9a-978a-451a-b5a5-f60a9e092e33"
      },
      "source": [
        "pd.DataFrame(prices2.feature_importances_,index=chp.feature_names,columns=['importance de la colonne']).plot.bar()"
      ],
      "execution_count": 266,
      "outputs": [
        {
          "output_type": "execute_result",
          "data": {
            "text/plain": [
              "<matplotlib.axes._subplots.AxesSubplot at 0x7f77a0c18050>"
            ]
          },
          "metadata": {
            "tags": []
          },
          "execution_count": 266
        },
        {
          "output_type": "display_data",
          "data": {
            "image/png": "[encoded data removed]",
            "text/plain": [
              "<Figure size 432x288 with 1 Axes>"
            ]
          },
          "metadata": {
            "tags": [],
            "needs_background": "light"
          }
        }
      ]
    },
    {
      "cell_type": "markdown",
      "metadata": {
        "id": "tZ66TyQSu8nd"
      },
      "source": [
        "# TP ! Maintenant : A vous de jouer\n"
      ]
    },
    {
      "cell_type": "markdown",
      "metadata": {
        "id": "t3OTqVlbvAjg"
      },
      "source": [
        "Pouvez vous prédire si un personnes sur le titanic va survivre à plus de 92% ?"
      ]
    },
    {
      "cell_type": "code",
      "metadata": {
        "id": "7SVf4OX4u_ob"
      },
      "source": [
        "df_titanic = pd.read_csv('https://gist.githubusercontent.com/michhar/2dfd2de0d4f8727f873422c5d959fff5/raw/fa71405126017e6a37bea592440b4bee94bf7b9e/titanic.csv')\n",
        "target_titanic = df_titanic[\"Survived\"]\n",
        "df.describe(include='all')"
      ],
      "execution_count": 63,
      "outputs": []
    },
    {
      "cell_type": "markdown",
      "metadata": {
        "id": "9et9MaEJCYAY"
      },
      "source": [
        "------\n",
        "\n",
        "\n",
        "Un autre dataset pour prendre la main sur scikit learn : prévoir si le client du VTC utilisera le coupon de réduction donnée\n",
        "\n",
        "Pour un expert, un AUX de 0.81 est posible en 10 lignes (personnellement, je l'ai fait mais en utilisant autre chose que la regressionlogistic)"
      ]
    },
    {
      "cell_type": "code",
      "metadata": {
        "id": "qdulTnuxvOQL"
      },
      "source": [
        "df_coupon = pd.read_csv('https://archive.ics.uci.edu/ml/machine-learning-databases/00603/in-vehicle-coupon-recommendation.csv')\n",
        "target_coupon = df_coupon['Y']"
      ],
      "execution_count": null,
      "outputs": []
    },
    {
      "cell_type": "markdown",
      "metadata": {
        "id": "q2dCGiEmCVKq"
      },
      "source": [
        ""
      ]
    },
    {
      "cell_type": "code",
      "metadata": {
        "id": "MKOD7Mw28peB"
      },
      "source": [
        ""
      ],
      "execution_count": null,
      "outputs": []
    },
    {
      "cell_type": "code",
      "metadata": {
        "id": "kCKVX8k_BASv"
      },
      "source": [
        ""
      ],
      "execution_count": null,
      "outputs": []
    }
  ]
}