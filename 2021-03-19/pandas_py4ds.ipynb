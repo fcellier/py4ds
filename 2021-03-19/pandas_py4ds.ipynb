{
  "nbformat": 4,
  "nbformat_minor": 0,
  "metadata": {
    "colab": {
      "name": "pandas py4ds.ipynb",
      "provenance": [],
      "collapsed_sections": []
    },
    "kernelspec": {
      "name": "python3",
      "display_name": "Python 3"
    },
    "language_info": {
      "name": "python"
    }
  },
  "cells": [
    {
      "cell_type": "markdown",
      "metadata": {
        "id": "vc6FURSAn6Q9"
      },
      "source": [
        "# I. premier pas"
      ]
    },
    {
      "cell_type": "markdown",
      "metadata": {
        "id": "t7HklTuAnwA6"
      },
      "source": [
        "##chargement\n",
        "Commencons par télécharger un dataset (ici csv mais télécharger des bases de données SQL ou prendre des ficheir excel est tout aussi facile)\n",
        "\n",
        "Pour un scrapping sur du html, on regardera plutôt du côté de _beautiful soup_ ou _scrapy_"
      ]
    },
    {
      "cell_type": "code",
      "metadata": {
        "id": "P0dwi8l3jzSE"
      },
      "source": [
        "import pandas as pd\n",
        "\n",
        "df = pd.read_csv('https://raw.githubusercontent.com/tk3369/seoul-bike-sharing-demand/main/SeoulBikeData.csv', encoding='ISO-8859-1')"
      ],
      "execution_count": 11,
      "outputs": []
    },
    {
      "cell_type": "code",
      "metadata": {
        "id": "ThBQxeFy1eUT"
      },
      "source": [
        "df_titanic = pd.read_csv('https://gist.githubusercontent.com/michhar/2dfd2de0d4f8727f873422c5d959fff5/raw/fa71405126017e6a37bea592440b4bee94bf7b9e/titanic.csv')"
      ],
      "execution_count": null,
      "outputs": []
    },
    {
      "cell_type": "markdown",
      "metadata": {
        "id": "wJsV-sGqm_kG"
      },
      "source": [
        "Il est aussi possible de créer le dataset à la main"
      ]
    },
    {
      "cell_type": "code",
      "metadata": {
        "colab": {
          "base_uri": "https://localhost:8080/",
          "height": 162
        },
        "id": "bpEzplm7m_Kw",
        "outputId": "5e95aa73-65a0-4723-d69a-af3f266e6fc8"
      },
      "source": [
        "toy = pd.DataFrame({'A':['un',None,'trois']})\n",
        "print(type(toy))\n",
        "toy"
      ],
      "execution_count": 9,
      "outputs": [
        {
          "output_type": "stream",
          "text": [
            "<class 'pandas.core.frame.DataFrame'>\n"
          ],
          "name": "stdout"
        },
        {
          "output_type": "execute_result",
          "data": {
            "text/html": [
              "<div>\n",
              "<style scoped>\n",
              "    .dataframe tbody tr th:only-of-type {\n",
              "        vertical-align: middle;\n",
              "    }\n",
              "\n",
              "    .dataframe tbody tr th {\n",
              "        vertical-align: top;\n",
              "    }\n",
              "\n",
              "    .dataframe thead th {\n",
              "        text-align: right;\n",
              "    }\n",
              "</style>\n",
              "<table border=\"1\" class=\"dataframe\">\n",
              "  <thead>\n",
              "    <tr style=\"text-align: right;\">\n",
              "      <th></th>\n",
              "      <th>A</th>\n",
              "    </tr>\n",
              "  </thead>\n",
              "  <tbody>\n",
              "    <tr>\n",
              "      <th>0</th>\n",
              "      <td>un</td>\n",
              "    </tr>\n",
              "    <tr>\n",
              "      <th>1</th>\n",
              "      <td>None</td>\n",
              "    </tr>\n",
              "    <tr>\n",
              "      <th>2</th>\n",
              "      <td>trois</td>\n",
              "    </tr>\n",
              "  </tbody>\n",
              "</table>\n",
              "</div>"
            ],
            "text/plain": [
              "       A\n",
              "0     un\n",
              "1   None\n",
              "2  trois"
            ]
          },
          "metadata": {
            "tags": []
          },
          "execution_count": 9
        }
      ]
    },
    {
      "cell_type": "markdown",
      "metadata": {
        "id": "Yo5SaywebO1P"
      },
      "source": [
        "et souvent, on le nettoie directement avant de l'utiliser"
      ]
    },
    {
      "cell_type": "code",
      "metadata": {
        "colab": {
          "base_uri": "https://localhost:8080/",
          "height": 143
        },
        "id": "etSRhShSa7dn",
        "outputId": "0270de16-5a91-4f30-844b-27a1d71734c4"
      },
      "source": [
        "toy.fillna(\"deux\")"
      ],
      "execution_count": 18,
      "outputs": [
        {
          "output_type": "execute_result",
          "data": {
            "text/html": [
              "<div>\n",
              "<style scoped>\n",
              "    .dataframe tbody tr th:only-of-type {\n",
              "        vertical-align: middle;\n",
              "    }\n",
              "\n",
              "    .dataframe tbody tr th {\n",
              "        vertical-align: top;\n",
              "    }\n",
              "\n",
              "    .dataframe thead th {\n",
              "        text-align: right;\n",
              "    }\n",
              "</style>\n",
              "<table border=\"1\" class=\"dataframe\">\n",
              "  <thead>\n",
              "    <tr style=\"text-align: right;\">\n",
              "      <th></th>\n",
              "      <th>A</th>\n",
              "    </tr>\n",
              "  </thead>\n",
              "  <tbody>\n",
              "    <tr>\n",
              "      <th>0</th>\n",
              "      <td>un</td>\n",
              "    </tr>\n",
              "    <tr>\n",
              "      <th>1</th>\n",
              "      <td>deux</td>\n",
              "    </tr>\n",
              "    <tr>\n",
              "      <th>2</th>\n",
              "      <td>trois</td>\n",
              "    </tr>\n",
              "  </tbody>\n",
              "</table>\n",
              "</div>"
            ],
            "text/plain": [
              "       A\n",
              "0     un\n",
              "1   deux\n",
              "2  trois"
            ]
          },
          "metadata": {
            "tags": []
          },
          "execution_count": 18
        }
      ]
    },
    {
      "cell_type": "markdown",
      "metadata": {
        "id": "61QEiVteZszy"
      },
      "source": [
        "## Quelques opérations basiques comme introduction"
      ]
    },
    {
      "cell_type": "markdown",
      "metadata": {
        "id": "KS1-q-RibEai"
      },
      "source": [
        "### Regardons globalement le **dataset**"
      ]
    },
    {
      "cell_type": "code",
      "metadata": {
        "colab": {
          "base_uri": "https://localhost:8080/",
          "height": 310
        },
        "id": "pQKX7UtpaYQQ",
        "outputId": "607f4f37-f7f6-40c4-d10d-e18138b6ba94"
      },
      "source": [
        "df.head()"
      ],
      "execution_count": 16,
      "outputs": [
        {
          "output_type": "execute_result",
          "data": {
            "text/html": [
              "<div>\n",
              "<style scoped>\n",
              "    .dataframe tbody tr th:only-of-type {\n",
              "        vertical-align: middle;\n",
              "    }\n",
              "\n",
              "    .dataframe tbody tr th {\n",
              "        vertical-align: top;\n",
              "    }\n",
              "\n",
              "    .dataframe thead th {\n",
              "        text-align: right;\n",
              "    }\n",
              "</style>\n",
              "<table border=\"1\" class=\"dataframe\">\n",
              "  <thead>\n",
              "    <tr style=\"text-align: right;\">\n",
              "      <th></th>\n",
              "      <th>Date</th>\n",
              "      <th>Rented Bike Count</th>\n",
              "      <th>Hour</th>\n",
              "      <th>Temperature(°C)</th>\n",
              "      <th>Humidity(%)</th>\n",
              "      <th>Wind speed (m/s)</th>\n",
              "      <th>Visibility (10m)</th>\n",
              "      <th>Dew point temperature(°C)</th>\n",
              "      <th>Solar Radiation (MJ/m2)</th>\n",
              "      <th>Rainfall(mm)</th>\n",
              "      <th>Snowfall (cm)</th>\n",
              "      <th>Seasons</th>\n",
              "      <th>Holiday</th>\n",
              "      <th>Functioning Day</th>\n",
              "    </tr>\n",
              "  </thead>\n",
              "  <tbody>\n",
              "    <tr>\n",
              "      <th>0</th>\n",
              "      <td>01/12/2017</td>\n",
              "      <td>254</td>\n",
              "      <td>0</td>\n",
              "      <td>-5.2</td>\n",
              "      <td>37</td>\n",
              "      <td>2.2</td>\n",
              "      <td>2000</td>\n",
              "      <td>-17.6</td>\n",
              "      <td>0.0</td>\n",
              "      <td>0.0</td>\n",
              "      <td>0.0</td>\n",
              "      <td>Winter</td>\n",
              "      <td>No Holiday</td>\n",
              "      <td>Yes</td>\n",
              "    </tr>\n",
              "    <tr>\n",
              "      <th>1</th>\n",
              "      <td>01/12/2017</td>\n",
              "      <td>204</td>\n",
              "      <td>1</td>\n",
              "      <td>-5.5</td>\n",
              "      <td>38</td>\n",
              "      <td>0.8</td>\n",
              "      <td>2000</td>\n",
              "      <td>-17.6</td>\n",
              "      <td>0.0</td>\n",
              "      <td>0.0</td>\n",
              "      <td>0.0</td>\n",
              "      <td>Winter</td>\n",
              "      <td>No Holiday</td>\n",
              "      <td>Yes</td>\n",
              "    </tr>\n",
              "    <tr>\n",
              "      <th>2</th>\n",
              "      <td>01/12/2017</td>\n",
              "      <td>173</td>\n",
              "      <td>2</td>\n",
              "      <td>-6.0</td>\n",
              "      <td>39</td>\n",
              "      <td>1.0</td>\n",
              "      <td>2000</td>\n",
              "      <td>-17.7</td>\n",
              "      <td>0.0</td>\n",
              "      <td>0.0</td>\n",
              "      <td>0.0</td>\n",
              "      <td>Winter</td>\n",
              "      <td>No Holiday</td>\n",
              "      <td>Yes</td>\n",
              "    </tr>\n",
              "    <tr>\n",
              "      <th>3</th>\n",
              "      <td>01/12/2017</td>\n",
              "      <td>107</td>\n",
              "      <td>3</td>\n",
              "      <td>-6.2</td>\n",
              "      <td>40</td>\n",
              "      <td>0.9</td>\n",
              "      <td>2000</td>\n",
              "      <td>-17.6</td>\n",
              "      <td>0.0</td>\n",
              "      <td>0.0</td>\n",
              "      <td>0.0</td>\n",
              "      <td>Winter</td>\n",
              "      <td>No Holiday</td>\n",
              "      <td>Yes</td>\n",
              "    </tr>\n",
              "    <tr>\n",
              "      <th>4</th>\n",
              "      <td>01/12/2017</td>\n",
              "      <td>78</td>\n",
              "      <td>4</td>\n",
              "      <td>-6.0</td>\n",
              "      <td>36</td>\n",
              "      <td>2.3</td>\n",
              "      <td>2000</td>\n",
              "      <td>-18.6</td>\n",
              "      <td>0.0</td>\n",
              "      <td>0.0</td>\n",
              "      <td>0.0</td>\n",
              "      <td>Winter</td>\n",
              "      <td>No Holiday</td>\n",
              "      <td>Yes</td>\n",
              "    </tr>\n",
              "  </tbody>\n",
              "</table>\n",
              "</div>"
            ],
            "text/plain": [
              "         Date  Rented Bike Count  Hour  ...  Seasons     Holiday  Functioning Day\n",
              "0  01/12/2017                254     0  ...   Winter  No Holiday              Yes\n",
              "1  01/12/2017                204     1  ...   Winter  No Holiday              Yes\n",
              "2  01/12/2017                173     2  ...   Winter  No Holiday              Yes\n",
              "3  01/12/2017                107     3  ...   Winter  No Holiday              Yes\n",
              "4  01/12/2017                 78     4  ...   Winter  No Holiday              Yes\n",
              "\n",
              "[5 rows x 14 columns]"
            ]
          },
          "metadata": {
            "tags": []
          },
          "execution_count": 16
        }
      ]
    },
    {
      "cell_type": "code",
      "metadata": {
        "colab": {
          "base_uri": "https://localhost:8080/",
          "height": 300
        },
        "id": "vt1r02DSasLg",
        "outputId": "2d8a9dbd-557e-44ac-ba9e-706161ba01d1"
      },
      "source": [
        "df.describe()"
      ],
      "execution_count": 17,
      "outputs": [
        {
          "output_type": "execute_result",
          "data": {
            "text/html": [
              "<div>\n",
              "<style scoped>\n",
              "    .dataframe tbody tr th:only-of-type {\n",
              "        vertical-align: middle;\n",
              "    }\n",
              "\n",
              "    .dataframe tbody tr th {\n",
              "        vertical-align: top;\n",
              "    }\n",
              "\n",
              "    .dataframe thead th {\n",
              "        text-align: right;\n",
              "    }\n",
              "</style>\n",
              "<table border=\"1\" class=\"dataframe\">\n",
              "  <thead>\n",
              "    <tr style=\"text-align: right;\">\n",
              "      <th></th>\n",
              "      <th>Rented Bike Count</th>\n",
              "      <th>Hour</th>\n",
              "      <th>Temperature(°C)</th>\n",
              "      <th>Humidity(%)</th>\n",
              "      <th>Wind speed (m/s)</th>\n",
              "      <th>Visibility (10m)</th>\n",
              "      <th>Dew point temperature(°C)</th>\n",
              "      <th>Solar Radiation (MJ/m2)</th>\n",
              "      <th>Rainfall(mm)</th>\n",
              "      <th>Snowfall (cm)</th>\n",
              "    </tr>\n",
              "  </thead>\n",
              "  <tbody>\n",
              "    <tr>\n",
              "      <th>count</th>\n",
              "      <td>8760.000000</td>\n",
              "      <td>8760.000000</td>\n",
              "      <td>8760.000000</td>\n",
              "      <td>8760.000000</td>\n",
              "      <td>8760.000000</td>\n",
              "      <td>8760.000000</td>\n",
              "      <td>8760.000000</td>\n",
              "      <td>8760.000000</td>\n",
              "      <td>8760.000000</td>\n",
              "      <td>8760.000000</td>\n",
              "    </tr>\n",
              "    <tr>\n",
              "      <th>mean</th>\n",
              "      <td>704.602055</td>\n",
              "      <td>11.500000</td>\n",
              "      <td>12.882922</td>\n",
              "      <td>58.226256</td>\n",
              "      <td>1.724909</td>\n",
              "      <td>1436.825799</td>\n",
              "      <td>4.073813</td>\n",
              "      <td>0.569111</td>\n",
              "      <td>0.148687</td>\n",
              "      <td>0.075068</td>\n",
              "    </tr>\n",
              "    <tr>\n",
              "      <th>std</th>\n",
              "      <td>644.997468</td>\n",
              "      <td>6.922582</td>\n",
              "      <td>11.944825</td>\n",
              "      <td>20.362413</td>\n",
              "      <td>1.036300</td>\n",
              "      <td>608.298712</td>\n",
              "      <td>13.060369</td>\n",
              "      <td>0.868746</td>\n",
              "      <td>1.128193</td>\n",
              "      <td>0.436746</td>\n",
              "    </tr>\n",
              "    <tr>\n",
              "      <th>min</th>\n",
              "      <td>0.000000</td>\n",
              "      <td>0.000000</td>\n",
              "      <td>-17.800000</td>\n",
              "      <td>0.000000</td>\n",
              "      <td>0.000000</td>\n",
              "      <td>27.000000</td>\n",
              "      <td>-30.600000</td>\n",
              "      <td>0.000000</td>\n",
              "      <td>0.000000</td>\n",
              "      <td>0.000000</td>\n",
              "    </tr>\n",
              "    <tr>\n",
              "      <th>25%</th>\n",
              "      <td>191.000000</td>\n",
              "      <td>5.750000</td>\n",
              "      <td>3.500000</td>\n",
              "      <td>42.000000</td>\n",
              "      <td>0.900000</td>\n",
              "      <td>940.000000</td>\n",
              "      <td>-4.700000</td>\n",
              "      <td>0.000000</td>\n",
              "      <td>0.000000</td>\n",
              "      <td>0.000000</td>\n",
              "    </tr>\n",
              "    <tr>\n",
              "      <th>50%</th>\n",
              "      <td>504.500000</td>\n",
              "      <td>11.500000</td>\n",
              "      <td>13.700000</td>\n",
              "      <td>57.000000</td>\n",
              "      <td>1.500000</td>\n",
              "      <td>1698.000000</td>\n",
              "      <td>5.100000</td>\n",
              "      <td>0.010000</td>\n",
              "      <td>0.000000</td>\n",
              "      <td>0.000000</td>\n",
              "    </tr>\n",
              "    <tr>\n",
              "      <th>75%</th>\n",
              "      <td>1065.250000</td>\n",
              "      <td>17.250000</td>\n",
              "      <td>22.500000</td>\n",
              "      <td>74.000000</td>\n",
              "      <td>2.300000</td>\n",
              "      <td>2000.000000</td>\n",
              "      <td>14.800000</td>\n",
              "      <td>0.930000</td>\n",
              "      <td>0.000000</td>\n",
              "      <td>0.000000</td>\n",
              "    </tr>\n",
              "    <tr>\n",
              "      <th>max</th>\n",
              "      <td>3556.000000</td>\n",
              "      <td>23.000000</td>\n",
              "      <td>39.400000</td>\n",
              "      <td>98.000000</td>\n",
              "      <td>7.400000</td>\n",
              "      <td>2000.000000</td>\n",
              "      <td>27.200000</td>\n",
              "      <td>3.520000</td>\n",
              "      <td>35.000000</td>\n",
              "      <td>8.800000</td>\n",
              "    </tr>\n",
              "  </tbody>\n",
              "</table>\n",
              "</div>"
            ],
            "text/plain": [
              "       Rented Bike Count         Hour  ...  Rainfall(mm)  Snowfall (cm)\n",
              "count        8760.000000  8760.000000  ...   8760.000000    8760.000000\n",
              "mean          704.602055    11.500000  ...      0.148687       0.075068\n",
              "std           644.997468     6.922582  ...      1.128193       0.436746\n",
              "min             0.000000     0.000000  ...      0.000000       0.000000\n",
              "25%           191.000000     5.750000  ...      0.000000       0.000000\n",
              "50%           504.500000    11.500000  ...      0.000000       0.000000\n",
              "75%          1065.250000    17.250000  ...      0.000000       0.000000\n",
              "max          3556.000000    23.000000  ...     35.000000       8.800000\n",
              "\n",
              "[8 rows x 10 columns]"
            ]
          },
          "metadata": {
            "tags": []
          },
          "execution_count": 17
        }
      ]
    },
    {
      "cell_type": "markdown",
      "metadata": {
        "id": "vnuz7CdNbhMD"
      },
      "source": [
        "Il nous manque des colonnes...\n",
        "\n",
        "Essayons d'exclure les numerics"
      ]
    },
    {
      "cell_type": "code",
      "metadata": {
        "colab": {
          "base_uri": "https://localhost:8080/",
          "height": 394
        },
        "id": "HBCOlLmga4Du",
        "outputId": "7000d25c-0c1b-46b4-a492-9c6534265547"
      },
      "source": [
        "df.describe(exclude=float)"
      ],
      "execution_count": 19,
      "outputs": [
        {
          "output_type": "execute_result",
          "data": {
            "text/html": [
              "<div>\n",
              "<style scoped>\n",
              "    .dataframe tbody tr th:only-of-type {\n",
              "        vertical-align: middle;\n",
              "    }\n",
              "\n",
              "    .dataframe tbody tr th {\n",
              "        vertical-align: top;\n",
              "    }\n",
              "\n",
              "    .dataframe thead th {\n",
              "        text-align: right;\n",
              "    }\n",
              "</style>\n",
              "<table border=\"1\" class=\"dataframe\">\n",
              "  <thead>\n",
              "    <tr style=\"text-align: right;\">\n",
              "      <th></th>\n",
              "      <th>Date</th>\n",
              "      <th>Rented Bike Count</th>\n",
              "      <th>Hour</th>\n",
              "      <th>Humidity(%)</th>\n",
              "      <th>Visibility (10m)</th>\n",
              "      <th>Seasons</th>\n",
              "      <th>Holiday</th>\n",
              "      <th>Functioning Day</th>\n",
              "    </tr>\n",
              "  </thead>\n",
              "  <tbody>\n",
              "    <tr>\n",
              "      <th>count</th>\n",
              "      <td>8760</td>\n",
              "      <td>8760.000000</td>\n",
              "      <td>8760.000000</td>\n",
              "      <td>8760.000000</td>\n",
              "      <td>8760.000000</td>\n",
              "      <td>8760</td>\n",
              "      <td>8760</td>\n",
              "      <td>8760</td>\n",
              "    </tr>\n",
              "    <tr>\n",
              "      <th>unique</th>\n",
              "      <td>365</td>\n",
              "      <td>NaN</td>\n",
              "      <td>NaN</td>\n",
              "      <td>NaN</td>\n",
              "      <td>NaN</td>\n",
              "      <td>4</td>\n",
              "      <td>2</td>\n",
              "      <td>2</td>\n",
              "    </tr>\n",
              "    <tr>\n",
              "      <th>top</th>\n",
              "      <td>04/05/2018</td>\n",
              "      <td>NaN</td>\n",
              "      <td>NaN</td>\n",
              "      <td>NaN</td>\n",
              "      <td>NaN</td>\n",
              "      <td>Summer</td>\n",
              "      <td>No Holiday</td>\n",
              "      <td>Yes</td>\n",
              "    </tr>\n",
              "    <tr>\n",
              "      <th>freq</th>\n",
              "      <td>24</td>\n",
              "      <td>NaN</td>\n",
              "      <td>NaN</td>\n",
              "      <td>NaN</td>\n",
              "      <td>NaN</td>\n",
              "      <td>2208</td>\n",
              "      <td>8328</td>\n",
              "      <td>8465</td>\n",
              "    </tr>\n",
              "    <tr>\n",
              "      <th>mean</th>\n",
              "      <td>NaN</td>\n",
              "      <td>704.602055</td>\n",
              "      <td>11.500000</td>\n",
              "      <td>58.226256</td>\n",
              "      <td>1436.825799</td>\n",
              "      <td>NaN</td>\n",
              "      <td>NaN</td>\n",
              "      <td>NaN</td>\n",
              "    </tr>\n",
              "    <tr>\n",
              "      <th>std</th>\n",
              "      <td>NaN</td>\n",
              "      <td>644.997468</td>\n",
              "      <td>6.922582</td>\n",
              "      <td>20.362413</td>\n",
              "      <td>608.298712</td>\n",
              "      <td>NaN</td>\n",
              "      <td>NaN</td>\n",
              "      <td>NaN</td>\n",
              "    </tr>\n",
              "    <tr>\n",
              "      <th>min</th>\n",
              "      <td>NaN</td>\n",
              "      <td>0.000000</td>\n",
              "      <td>0.000000</td>\n",
              "      <td>0.000000</td>\n",
              "      <td>27.000000</td>\n",
              "      <td>NaN</td>\n",
              "      <td>NaN</td>\n",
              "      <td>NaN</td>\n",
              "    </tr>\n",
              "    <tr>\n",
              "      <th>25%</th>\n",
              "      <td>NaN</td>\n",
              "      <td>191.000000</td>\n",
              "      <td>5.750000</td>\n",
              "      <td>42.000000</td>\n",
              "      <td>940.000000</td>\n",
              "      <td>NaN</td>\n",
              "      <td>NaN</td>\n",
              "      <td>NaN</td>\n",
              "    </tr>\n",
              "    <tr>\n",
              "      <th>50%</th>\n",
              "      <td>NaN</td>\n",
              "      <td>504.500000</td>\n",
              "      <td>11.500000</td>\n",
              "      <td>57.000000</td>\n",
              "      <td>1698.000000</td>\n",
              "      <td>NaN</td>\n",
              "      <td>NaN</td>\n",
              "      <td>NaN</td>\n",
              "    </tr>\n",
              "    <tr>\n",
              "      <th>75%</th>\n",
              "      <td>NaN</td>\n",
              "      <td>1065.250000</td>\n",
              "      <td>17.250000</td>\n",
              "      <td>74.000000</td>\n",
              "      <td>2000.000000</td>\n",
              "      <td>NaN</td>\n",
              "      <td>NaN</td>\n",
              "      <td>NaN</td>\n",
              "    </tr>\n",
              "    <tr>\n",
              "      <th>max</th>\n",
              "      <td>NaN</td>\n",
              "      <td>3556.000000</td>\n",
              "      <td>23.000000</td>\n",
              "      <td>98.000000</td>\n",
              "      <td>2000.000000</td>\n",
              "      <td>NaN</td>\n",
              "      <td>NaN</td>\n",
              "      <td>NaN</td>\n",
              "    </tr>\n",
              "  </tbody>\n",
              "</table>\n",
              "</div>"
            ],
            "text/plain": [
              "              Date  Rented Bike Count  ...     Holiday  Functioning Day\n",
              "count         8760        8760.000000  ...        8760             8760\n",
              "unique         365                NaN  ...           2                2\n",
              "top     04/05/2018                NaN  ...  No Holiday              Yes\n",
              "freq            24                NaN  ...        8328             8465\n",
              "mean           NaN         704.602055  ...         NaN              NaN\n",
              "std            NaN         644.997468  ...         NaN              NaN\n",
              "min            NaN           0.000000  ...         NaN              NaN\n",
              "25%            NaN         191.000000  ...         NaN              NaN\n",
              "50%            NaN         504.500000  ...         NaN              NaN\n",
              "75%            NaN        1065.250000  ...         NaN              NaN\n",
              "max            NaN        3556.000000  ...         NaN              NaN\n",
              "\n",
              "[11 rows x 8 columns]"
            ]
          },
          "metadata": {
            "tags": []
          },
          "execution_count": 19
        }
      ]
    },
    {
      "cell_type": "markdown",
      "metadata": {
        "id": "FjnoBIelbm6y"
      },
      "source": [
        "Ce n'est pas suffisant.\n",
        "\n",
        "Naturellement, numpy fait la différence entre les entiers et les réels. Essayons d'inclure seulement les autres types"
      ]
    },
    {
      "cell_type": "code",
      "metadata": {
        "colab": {
          "base_uri": "https://localhost:8080/",
          "height": 175
        },
        "id": "kF4QYmhAbbdT",
        "outputId": "d57c3d2f-5389-448f-94de-fda3274ef9df"
      },
      "source": [
        "df.describe(include=object)"
      ],
      "execution_count": 20,
      "outputs": [
        {
          "output_type": "execute_result",
          "data": {
            "text/html": [
              "<div>\n",
              "<style scoped>\n",
              "    .dataframe tbody tr th:only-of-type {\n",
              "        vertical-align: middle;\n",
              "    }\n",
              "\n",
              "    .dataframe tbody tr th {\n",
              "        vertical-align: top;\n",
              "    }\n",
              "\n",
              "    .dataframe thead th {\n",
              "        text-align: right;\n",
              "    }\n",
              "</style>\n",
              "<table border=\"1\" class=\"dataframe\">\n",
              "  <thead>\n",
              "    <tr style=\"text-align: right;\">\n",
              "      <th></th>\n",
              "      <th>Date</th>\n",
              "      <th>Seasons</th>\n",
              "      <th>Holiday</th>\n",
              "      <th>Functioning Day</th>\n",
              "    </tr>\n",
              "  </thead>\n",
              "  <tbody>\n",
              "    <tr>\n",
              "      <th>count</th>\n",
              "      <td>8760</td>\n",
              "      <td>8760</td>\n",
              "      <td>8760</td>\n",
              "      <td>8760</td>\n",
              "    </tr>\n",
              "    <tr>\n",
              "      <th>unique</th>\n",
              "      <td>365</td>\n",
              "      <td>4</td>\n",
              "      <td>2</td>\n",
              "      <td>2</td>\n",
              "    </tr>\n",
              "    <tr>\n",
              "      <th>top</th>\n",
              "      <td>04/05/2018</td>\n",
              "      <td>Summer</td>\n",
              "      <td>No Holiday</td>\n",
              "      <td>Yes</td>\n",
              "    </tr>\n",
              "    <tr>\n",
              "      <th>freq</th>\n",
              "      <td>24</td>\n",
              "      <td>2208</td>\n",
              "      <td>8328</td>\n",
              "      <td>8465</td>\n",
              "    </tr>\n",
              "  </tbody>\n",
              "</table>\n",
              "</div>"
            ],
            "text/plain": [
              "              Date Seasons     Holiday Functioning Day\n",
              "count         8760    8760        8760            8760\n",
              "unique         365       4           2               2\n",
              "top     04/05/2018  Summer  No Holiday             Yes\n",
              "freq            24    2208        8328            8465"
            ]
          },
          "metadata": {
            "tags": []
          },
          "execution_count": 20
        }
      ]
    },
    {
      "cell_type": "markdown",
      "metadata": {
        "id": "bM3i8SGkb5an"
      },
      "source": [
        "C'est plutôt pas mal. Notons pour plus tard que les date ne sont pas encore gérer correctements\n",
        "\n",
        "Terminons en regardant les informations global du dataframe"
      ]
    },
    {
      "cell_type": "code",
      "metadata": {
        "colab": {
          "base_uri": "https://localhost:8080/"
        },
        "id": "FRFFiiJacaFW",
        "outputId": "f8e4f60f-efa2-4c8b-df2b-e600463ef7ea"
      },
      "source": [
        "df.dtypes"
      ],
      "execution_count": 22,
      "outputs": [
        {
          "output_type": "execute_result",
          "data": {
            "text/plain": [
              "Date                          object\n",
              "Rented Bike Count              int64\n",
              "Hour                           int64\n",
              "Temperature(°C)              float64\n",
              "Humidity(%)                    int64\n",
              "Wind speed (m/s)             float64\n",
              "Visibility (10m)               int64\n",
              "Dew point temperature(°C)    float64\n",
              "Solar Radiation (MJ/m2)      float64\n",
              "Rainfall(mm)                 float64\n",
              "Snowfall (cm)                float64\n",
              "Seasons                       object\n",
              "Holiday                       object\n",
              "Functioning Day               object\n",
              "dtype: object"
            ]
          },
          "metadata": {
            "tags": []
          },
          "execution_count": 22
        }
      ]
    },
    {
      "cell_type": "code",
      "metadata": {
        "colab": {
          "base_uri": "https://localhost:8080/"
        },
        "id": "2G0-BY2JckVb",
        "outputId": "7b0b99f4-8e80-4d72-dc99-1f43bc976f5a"
      },
      "source": [
        "df.info()"
      ],
      "execution_count": 24,
      "outputs": [
        {
          "output_type": "stream",
          "text": [
            "<class 'pandas.core.frame.DataFrame'>\n",
            "RangeIndex: 8760 entries, 0 to 8759\n",
            "Data columns (total 14 columns):\n",
            " #   Column                     Non-Null Count  Dtype  \n",
            "---  ------                     --------------  -----  \n",
            " 0   Date                       8760 non-null   object \n",
            " 1   Rented Bike Count          8760 non-null   int64  \n",
            " 2   Hour                       8760 non-null   int64  \n",
            " 3   Temperature(°C)            8760 non-null   float64\n",
            " 4   Humidity(%)                8760 non-null   int64  \n",
            " 5   Wind speed (m/s)           8760 non-null   float64\n",
            " 6   Visibility (10m)           8760 non-null   int64  \n",
            " 7   Dew point temperature(°C)  8760 non-null   float64\n",
            " 8   Solar Radiation (MJ/m2)    8760 non-null   float64\n",
            " 9   Rainfall(mm)               8760 non-null   float64\n",
            " 10  Snowfall (cm)              8760 non-null   float64\n",
            " 11  Seasons                    8760 non-null   object \n",
            " 12  Holiday                    8760 non-null   object \n",
            " 13  Functioning Day            8760 non-null   object \n",
            "dtypes: float64(6), int64(4), object(4)\n",
            "memory usage: 958.2+ KB\n"
          ],
          "name": "stdout"
        }
      ]
    },
    {
      "cell_type": "markdown",
      "metadata": {
        "id": "LsPUAXspcqMW"
      },
      "source": [
        "Nous avons donc aussi la consommation mémoire du dataframe !"
      ]
    },
    {
      "cell_type": "markdown",
      "metadata": {
        "id": "84Zwsox6ag9n"
      },
      "source": [
        "### Les series pandas, Un extension de numpy"
      ]
    },
    {
      "cell_type": "code",
      "metadata": {
        "colab": {
          "base_uri": "https://localhost:8080/"
        },
        "id": "LfulTDFPnjBl",
        "outputId": "94eb0605-6aa9-408a-ddac-b7a848712bdf"
      },
      "source": [
        "df.shape"
      ],
      "execution_count": 13,
      "outputs": [
        {
          "output_type": "execute_result",
          "data": {
            "text/plain": [
              "(8760, 14)"
            ]
          },
          "metadata": {
            "tags": []
          },
          "execution_count": 13
        }
      ]
    },
    {
      "cell_type": "code",
      "metadata": {
        "colab": {
          "base_uri": "https://localhost:8080/"
        },
        "id": "fMLQeCT3aaF4",
        "outputId": "fc6fe47a-9725-4bc9-96bd-02cbb71311dc"
      },
      "source": [
        "df.Date == df['Date']"
      ],
      "execution_count": 15,
      "outputs": [
        {
          "output_type": "execute_result",
          "data": {
            "text/plain": [
              "0       True\n",
              "1       True\n",
              "2       True\n",
              "3       True\n",
              "4       True\n",
              "        ... \n",
              "8755    True\n",
              "8756    True\n",
              "8757    True\n",
              "8758    True\n",
              "8759    True\n",
              "Name: Date, Length: 8760, dtype: bool"
            ]
          },
          "metadata": {
            "tags": []
          },
          "execution_count": 15
        }
      ]
    },
    {
      "cell_type": "code",
      "metadata": {
        "colab": {
          "base_uri": "https://localhost:8080/"
        },
        "id": "rPqm8RlVaf9A",
        "outputId": "cda4ee97-6d44-4a99-959d-1344917fdde8"
      },
      "source": [
        "df['Temperature(°C)']*2"
      ],
      "execution_count": 25,
      "outputs": [
        {
          "output_type": "execute_result",
          "data": {
            "text/plain": [
              "0      -10.4\n",
              "1      -11.0\n",
              "2      -12.0\n",
              "3      -12.4\n",
              "4      -12.0\n",
              "        ... \n",
              "8755     8.4\n",
              "8756     6.8\n",
              "8757     5.2\n",
              "8758     4.2\n",
              "8759     3.8\n",
              "Name: Temperature(°C), Length: 8760, dtype: float64"
            ]
          },
          "metadata": {
            "tags": []
          },
          "execution_count": 25
        }
      ]
    },
    {
      "cell_type": "code",
      "metadata": {
        "colab": {
          "base_uri": "https://localhost:8080/"
        },
        "id": "Wl1GO4aEdDu4",
        "outputId": "b97fefb6-5881-4c7c-8156-447c34f572bb"
      },
      "source": [
        "df['Temperature(°C)'].std()"
      ],
      "execution_count": 26,
      "outputs": [
        {
          "output_type": "execute_result",
          "data": {
            "text/plain": [
              "11.944825230027941"
            ]
          },
          "metadata": {
            "tags": []
          },
          "execution_count": 26
        }
      ]
    },
    {
      "cell_type": "code",
      "metadata": {
        "colab": {
          "base_uri": "https://localhost:8080/"
        },
        "id": "WJ5DjQEzfDqN",
        "outputId": "47c8e868-4519-4f7c-9a13-5d59eee6ae0f"
      },
      "source": [
        "df['Temperature(°C)'].unique().size"
      ],
      "execution_count": 42,
      "outputs": [
        {
          "output_type": "execute_result",
          "data": {
            "text/plain": [
              "546"
            ]
          },
          "metadata": {
            "tags": []
          },
          "execution_count": 42
        }
      ]
    },
    {
      "cell_type": "markdown",
      "metadata": {
        "id": "muCzBNmOdOxq"
      },
      "source": [
        "Nous retrouvons bien les possibilités de numpy\n",
        "\n",
        "Avons nous gardé celle de python?"
      ]
    },
    {
      "cell_type": "code",
      "metadata": {
        "colab": {
          "base_uri": "https://localhost:8080/"
        },
        "id": "uKxfldc8dbxI",
        "outputId": "28e02e23-dfe0-4a9f-dead-fc49ebf8c3a1"
      },
      "source": [
        "df['Temperature(°C)'][3:7]"
      ],
      "execution_count": 30,
      "outputs": [
        {
          "output_type": "execute_result",
          "data": {
            "text/plain": [
              "3   -6.2\n",
              "4   -6.0\n",
              "5   -6.4\n",
              "6   -6.6\n",
              "Name: Temperature(°C), dtype: float64"
            ]
          },
          "metadata": {
            "tags": []
          },
          "execution_count": 30
        }
      ]
    },
    {
      "cell_type": "code",
      "metadata": {
        "colab": {
          "base_uri": "https://localhost:8080/"
        },
        "id": "zFL0SeIxdd_v",
        "outputId": "78887109-0e72-47ff-f93c-599ab5d062f1"
      },
      "source": [
        "df['Temperature(°C)'][:4]"
      ],
      "execution_count": 31,
      "outputs": [
        {
          "output_type": "execute_result",
          "data": {
            "text/plain": [
              "0   -5.2\n",
              "1   -5.5\n",
              "2   -6.0\n",
              "3   -6.2\n",
              "Name: Temperature(°C), dtype: float64"
            ]
          },
          "metadata": {
            "tags": []
          },
          "execution_count": 31
        }
      ]
    },
    {
      "cell_type": "markdown",
      "metadata": {
        "id": "1T57bE0Odvcn"
      },
      "source": [
        "D'accord, mais cette surcouche à un cout, comment retrouver mon bon vieux numpy?"
      ]
    },
    {
      "cell_type": "code",
      "metadata": {
        "colab": {
          "base_uri": "https://localhost:8080/"
        },
        "id": "LvI12nTudgtH",
        "outputId": "51208c0f-4d38-4881-c1a8-646f2b90949b"
      },
      "source": [
        "type(df['Temperature(°C)'].values)"
      ],
      "execution_count": 33,
      "outputs": [
        {
          "output_type": "execute_result",
          "data": {
            "text/plain": [
              "numpy.ndarray"
            ]
          },
          "metadata": {
            "tags": []
          },
          "execution_count": 33
        }
      ]
    },
    {
      "cell_type": "markdown",
      "metadata": {
        "id": "UY3PzQDMd8b8"
      },
      "source": [
        "D'accord mais alors cela apporte quoi ?"
      ]
    },
    {
      "cell_type": "code",
      "metadata": {
        "colab": {
          "base_uri": "https://localhost:8080/"
        },
        "id": "9MZRNl1Md302",
        "outputId": "fc2ca6cd-7a3d-4eb8-abc1-a96947e70cf3"
      },
      "source": [
        "df['Temperature(°C)'].head()"
      ],
      "execution_count": 34,
      "outputs": [
        {
          "output_type": "execute_result",
          "data": {
            "text/plain": [
              "0   -5.2\n",
              "1   -5.5\n",
              "2   -6.0\n",
              "3   -6.2\n",
              "4   -6.0\n",
              "Name: Temperature(°C), dtype: float64"
            ]
          },
          "metadata": {
            "tags": []
          },
          "execution_count": 34
        }
      ]
    },
    {
      "cell_type": "code",
      "metadata": {
        "colab": {
          "base_uri": "https://localhost:8080/"
        },
        "id": "b-IAuOT4ecEt",
        "outputId": "4289d348-976c-467d-c960-13f065c104c3"
      },
      "source": [
        "df['Temperature(°C)'].describe()"
      ],
      "execution_count": 37,
      "outputs": [
        {
          "output_type": "execute_result",
          "data": {
            "text/plain": [
              "count    8760.000000\n",
              "mean       12.882922\n",
              "std        11.944825\n",
              "min       -17.800000\n",
              "25%         3.500000\n",
              "50%        13.700000\n",
              "75%        22.500000\n",
              "max        39.400000\n",
              "Name: Temperature(°C), dtype: float64"
            ]
          },
          "metadata": {
            "tags": []
          },
          "execution_count": 37
        }
      ]
    },
    {
      "cell_type": "markdown",
      "metadata": {
        "id": "7JyD4nrFen20"
      },
      "source": [
        "Ok, mais ca n'est qu'une ligne ou deux python.\n",
        "\n",
        "Rien de plus avancé ?\n"
      ]
    },
    {
      "cell_type": "code",
      "metadata": {
        "colab": {
          "base_uri": "https://localhost:8080/"
        },
        "id": "ZbQgPSBWee6i",
        "outputId": "cfafe5d7-642b-4283-db94-b0dba2925b9b"
      },
      "source": [
        "(df['Temperature(°C)'] < 0).value_counts()"
      ],
      "execution_count": 38,
      "outputs": [
        {
          "output_type": "execute_result",
          "data": {
            "text/plain": [
              "False    7327\n",
              "True     1433\n",
              "Name: Temperature(°C), dtype: int64"
            ]
          },
          "metadata": {
            "tags": []
          },
          "execution_count": 38
        }
      ]
    },
    {
      "cell_type": "markdown",
      "metadata": {
        "id": "ZpnmKqmqfoc5"
      },
      "source": [
        "**Des dernières fonctions à connaitres sur les séries?**\n",
        "\n",
        "\n",
        "\n"
      ]
    },
    {
      "cell_type": "code",
      "metadata": {
        "colab": {
          "base_uri": "https://localhost:8080/",
          "height": 206
        },
        "id": "iB4OVOHafO6q",
        "outputId": "57ff0ffe-8188-4b01-de0d-4c0b0dbe5a50"
      },
      "source": [
        "pd.get_dummies(df.Seasons).head()"
      ],
      "execution_count": 44,
      "outputs": [
        {
          "output_type": "execute_result",
          "data": {
            "text/html": [
              "<div>\n",
              "<style scoped>\n",
              "    .dataframe tbody tr th:only-of-type {\n",
              "        vertical-align: middle;\n",
              "    }\n",
              "\n",
              "    .dataframe tbody tr th {\n",
              "        vertical-align: top;\n",
              "    }\n",
              "\n",
              "    .dataframe thead th {\n",
              "        text-align: right;\n",
              "    }\n",
              "</style>\n",
              "<table border=\"1\" class=\"dataframe\">\n",
              "  <thead>\n",
              "    <tr style=\"text-align: right;\">\n",
              "      <th></th>\n",
              "      <th>Autumn</th>\n",
              "      <th>Spring</th>\n",
              "      <th>Summer</th>\n",
              "      <th>Winter</th>\n",
              "    </tr>\n",
              "  </thead>\n",
              "  <tbody>\n",
              "    <tr>\n",
              "      <th>0</th>\n",
              "      <td>0</td>\n",
              "      <td>0</td>\n",
              "      <td>0</td>\n",
              "      <td>1</td>\n",
              "    </tr>\n",
              "    <tr>\n",
              "      <th>1</th>\n",
              "      <td>0</td>\n",
              "      <td>0</td>\n",
              "      <td>0</td>\n",
              "      <td>1</td>\n",
              "    </tr>\n",
              "    <tr>\n",
              "      <th>2</th>\n",
              "      <td>0</td>\n",
              "      <td>0</td>\n",
              "      <td>0</td>\n",
              "      <td>1</td>\n",
              "    </tr>\n",
              "    <tr>\n",
              "      <th>3</th>\n",
              "      <td>0</td>\n",
              "      <td>0</td>\n",
              "      <td>0</td>\n",
              "      <td>1</td>\n",
              "    </tr>\n",
              "    <tr>\n",
              "      <th>4</th>\n",
              "      <td>0</td>\n",
              "      <td>0</td>\n",
              "      <td>0</td>\n",
              "      <td>1</td>\n",
              "    </tr>\n",
              "  </tbody>\n",
              "</table>\n",
              "</div>"
            ],
            "text/plain": [
              "   Autumn  Spring  Summer  Winter\n",
              "0       0       0       0       1\n",
              "1       0       0       0       1\n",
              "2       0       0       0       1\n",
              "3       0       0       0       1\n",
              "4       0       0       0       1"
            ]
          },
          "metadata": {
            "tags": []
          },
          "execution_count": 44
        }
      ]
    },
    {
      "cell_type": "markdown",
      "metadata": {
        "id": "az4hsq9-gQuT"
      },
      "source": [
        "La fonction ci-dessus permet de transformer les catégories en numérique.\n",
        "\n",
        "Particulièrement intéressant pour les algorithmes d'apprentissages.\n",
        "\n",
        "Dans le cas ou les catégories sont dans la même échelles et peuvent être ordonnée "
      ]
    },
    {
      "cell_type": "code",
      "metadata": {
        "colab": {
          "base_uri": "https://localhost:8080/"
        },
        "id": "dqP5kLNDgnFm",
        "outputId": "698a0862-6402-4178-f249-4c1e642e3c09"
      },
      "source": [
        "pd.factorize(df.Seasons)"
      ],
      "execution_count": 46,
      "outputs": [
        {
          "output_type": "execute_result",
          "data": {
            "text/plain": [
              "(array([0, 0, 0, ..., 3, 3, 3]),\n",
              " Index(['Winter', 'Spring', 'Summer', 'Autumn'], dtype='object'))"
            ]
          },
          "metadata": {
            "tags": []
          },
          "execution_count": 46
        }
      ]
    },
    {
      "cell_type": "markdown",
      "metadata": {
        "id": "HiqJKZrEg_Ch"
      },
      "source": [
        "## Les selections avancées"
      ]
    },
    {
      "cell_type": "markdown",
      "metadata": {
        "id": "kqsG5UXBiQYD"
      },
      "source": [
        "Nous pouvons faire des selection avancées comme le SQL"
      ]
    },
    {
      "cell_type": "code",
      "metadata": {
        "colab": {
          "base_uri": "https://localhost:8080/",
          "height": 206
        },
        "id": "h9OurfYog-qI",
        "outputId": "f47d3835-99a2-4b67-8106-e2713089a143"
      },
      "source": [
        "df[df.Seasons.isin(['Winter','Summer'])][['Rainfall(mm)','Holiday']].drop_duplicates().head()"
      ],
      "execution_count": 54,
      "outputs": [
        {
          "output_type": "execute_result",
          "data": {
            "text/html": [
              "<div>\n",
              "<style scoped>\n",
              "    .dataframe tbody tr th:only-of-type {\n",
              "        vertical-align: middle;\n",
              "    }\n",
              "\n",
              "    .dataframe tbody tr th {\n",
              "        vertical-align: top;\n",
              "    }\n",
              "\n",
              "    .dataframe thead th {\n",
              "        text-align: right;\n",
              "    }\n",
              "</style>\n",
              "<table border=\"1\" class=\"dataframe\">\n",
              "  <thead>\n",
              "    <tr style=\"text-align: right;\">\n",
              "      <th></th>\n",
              "      <th>Rainfall(mm)</th>\n",
              "      <th>Holiday</th>\n",
              "    </tr>\n",
              "  </thead>\n",
              "  <tbody>\n",
              "    <tr>\n",
              "      <th>0</th>\n",
              "      <td>0.0</td>\n",
              "      <td>No Holiday</td>\n",
              "    </tr>\n",
              "    <tr>\n",
              "      <th>51</th>\n",
              "      <td>0.5</td>\n",
              "      <td>No Holiday</td>\n",
              "    </tr>\n",
              "    <tr>\n",
              "      <th>54</th>\n",
              "      <td>1.0</td>\n",
              "      <td>No Holiday</td>\n",
              "    </tr>\n",
              "    <tr>\n",
              "      <th>57</th>\n",
              "      <td>2.5</td>\n",
              "      <td>No Holiday</td>\n",
              "    </tr>\n",
              "    <tr>\n",
              "      <th>78</th>\n",
              "      <td>0.1</td>\n",
              "      <td>No Holiday</td>\n",
              "    </tr>\n",
              "  </tbody>\n",
              "</table>\n",
              "</div>"
            ],
            "text/plain": [
              "    Rainfall(mm)     Holiday\n",
              "0            0.0  No Holiday\n",
              "51           0.5  No Holiday\n",
              "54           1.0  No Holiday\n",
              "57           2.5  No Holiday\n",
              "78           0.1  No Holiday"
            ]
          },
          "metadata": {
            "tags": []
          },
          "execution_count": 54
        }
      ]
    },
    {
      "cell_type": "markdown",
      "metadata": {
        "id": "8Ymx40dCiIan"
      },
      "source": [
        "peut être un peu moins avancées ci-après\n",
        "\n",
        "la fonction ___iloc___ permet de voir le dataframe comme un tableaux numpy (ou python)"
      ]
    },
    {
      "cell_type": "code",
      "metadata": {
        "colab": {
          "base_uri": "https://localhost:8080/",
          "height": 206
        },
        "id": "9xvDCmrng6g1",
        "outputId": "be764943-2fb6-4590-d047-d3ab00faba5e"
      },
      "source": [
        "df.iloc[0:5,6:9]"
      ],
      "execution_count": 55,
      "outputs": [
        {
          "output_type": "execute_result",
          "data": {
            "text/html": [
              "<div>\n",
              "<style scoped>\n",
              "    .dataframe tbody tr th:only-of-type {\n",
              "        vertical-align: middle;\n",
              "    }\n",
              "\n",
              "    .dataframe tbody tr th {\n",
              "        vertical-align: top;\n",
              "    }\n",
              "\n",
              "    .dataframe thead th {\n",
              "        text-align: right;\n",
              "    }\n",
              "</style>\n",
              "<table border=\"1\" class=\"dataframe\">\n",
              "  <thead>\n",
              "    <tr style=\"text-align: right;\">\n",
              "      <th></th>\n",
              "      <th>Visibility (10m)</th>\n",
              "      <th>Dew point temperature(°C)</th>\n",
              "      <th>Solar Radiation (MJ/m2)</th>\n",
              "    </tr>\n",
              "  </thead>\n",
              "  <tbody>\n",
              "    <tr>\n",
              "      <th>0</th>\n",
              "      <td>2000</td>\n",
              "      <td>-17.6</td>\n",
              "      <td>0.0</td>\n",
              "    </tr>\n",
              "    <tr>\n",
              "      <th>1</th>\n",
              "      <td>2000</td>\n",
              "      <td>-17.6</td>\n",
              "      <td>0.0</td>\n",
              "    </tr>\n",
              "    <tr>\n",
              "      <th>2</th>\n",
              "      <td>2000</td>\n",
              "      <td>-17.7</td>\n",
              "      <td>0.0</td>\n",
              "    </tr>\n",
              "    <tr>\n",
              "      <th>3</th>\n",
              "      <td>2000</td>\n",
              "      <td>-17.6</td>\n",
              "      <td>0.0</td>\n",
              "    </tr>\n",
              "    <tr>\n",
              "      <th>4</th>\n",
              "      <td>2000</td>\n",
              "      <td>-18.6</td>\n",
              "      <td>0.0</td>\n",
              "    </tr>\n",
              "  </tbody>\n",
              "</table>\n",
              "</div>"
            ],
            "text/plain": [
              "   Visibility (10m)  Dew point temperature(°C)  Solar Radiation (MJ/m2)\n",
              "0              2000                      -17.6                      0.0\n",
              "1              2000                      -17.6                      0.0\n",
              "2              2000                      -17.7                      0.0\n",
              "3              2000                      -17.6                      0.0\n",
              "4              2000                      -18.6                      0.0"
            ]
          },
          "metadata": {
            "tags": []
          },
          "execution_count": 55
        }
      ]
    },
    {
      "cell_type": "markdown",
      "metadata": {
        "id": "Xc7SP-xDigu6"
      },
      "source": [
        "la fonction ___loc___ permet de faire un filtrage par pattern\n",
        "\n",
        " (filtre par valeur pour la première partie et nom des colonne pour la deuxième)"
      ]
    },
    {
      "cell_type": "code",
      "metadata": {
        "colab": {
          "base_uri": "https://localhost:8080/",
          "height": 206
        },
        "id": "SZZ4YvDbjfZq",
        "outputId": "75b02598-fee5-4634-b1af-c166f9a6c64b"
      },
      "source": [
        "df.loc[df['Temperature(°C)'] > 0, 'Hour' : 'Seasons'].head()"
      ],
      "execution_count": 58,
      "outputs": [
        {
          "output_type": "execute_result",
          "data": {
            "text/html": [
              "<div>\n",
              "<style scoped>\n",
              "    .dataframe tbody tr th:only-of-type {\n",
              "        vertical-align: middle;\n",
              "    }\n",
              "\n",
              "    .dataframe tbody tr th {\n",
              "        vertical-align: top;\n",
              "    }\n",
              "\n",
              "    .dataframe thead th {\n",
              "        text-align: right;\n",
              "    }\n",
              "</style>\n",
              "<table border=\"1\" class=\"dataframe\">\n",
              "  <thead>\n",
              "    <tr style=\"text-align: right;\">\n",
              "      <th></th>\n",
              "      <th>Hour</th>\n",
              "      <th>Temperature(°C)</th>\n",
              "      <th>Humidity(%)</th>\n",
              "      <th>Wind speed (m/s)</th>\n",
              "      <th>Visibility (10m)</th>\n",
              "      <th>Dew point temperature(°C)</th>\n",
              "      <th>Solar Radiation (MJ/m2)</th>\n",
              "      <th>Rainfall(mm)</th>\n",
              "      <th>Snowfall (cm)</th>\n",
              "      <th>Seasons</th>\n",
              "    </tr>\n",
              "  </thead>\n",
              "  <tbody>\n",
              "    <tr>\n",
              "      <th>12</th>\n",
              "      <td>12</td>\n",
              "      <td>1.7</td>\n",
              "      <td>23</td>\n",
              "      <td>1.4</td>\n",
              "      <td>2000</td>\n",
              "      <td>-17.2</td>\n",
              "      <td>1.11</td>\n",
              "      <td>0.0</td>\n",
              "      <td>0.0</td>\n",
              "      <td>Winter</td>\n",
              "    </tr>\n",
              "    <tr>\n",
              "      <th>13</th>\n",
              "      <td>13</td>\n",
              "      <td>2.4</td>\n",
              "      <td>25</td>\n",
              "      <td>1.6</td>\n",
              "      <td>2000</td>\n",
              "      <td>-15.6</td>\n",
              "      <td>1.16</td>\n",
              "      <td>0.0</td>\n",
              "      <td>0.0</td>\n",
              "      <td>Winter</td>\n",
              "    </tr>\n",
              "    <tr>\n",
              "      <th>14</th>\n",
              "      <td>14</td>\n",
              "      <td>3.0</td>\n",
              "      <td>26</td>\n",
              "      <td>2.0</td>\n",
              "      <td>2000</td>\n",
              "      <td>-14.6</td>\n",
              "      <td>1.01</td>\n",
              "      <td>0.0</td>\n",
              "      <td>0.0</td>\n",
              "      <td>Winter</td>\n",
              "    </tr>\n",
              "    <tr>\n",
              "      <th>15</th>\n",
              "      <td>15</td>\n",
              "      <td>2.1</td>\n",
              "      <td>36</td>\n",
              "      <td>3.2</td>\n",
              "      <td>2000</td>\n",
              "      <td>-11.4</td>\n",
              "      <td>0.54</td>\n",
              "      <td>0.0</td>\n",
              "      <td>0.0</td>\n",
              "      <td>Winter</td>\n",
              "    </tr>\n",
              "    <tr>\n",
              "      <th>16</th>\n",
              "      <td>16</td>\n",
              "      <td>1.2</td>\n",
              "      <td>54</td>\n",
              "      <td>4.2</td>\n",
              "      <td>793</td>\n",
              "      <td>-7.0</td>\n",
              "      <td>0.24</td>\n",
              "      <td>0.0</td>\n",
              "      <td>0.0</td>\n",
              "      <td>Winter</td>\n",
              "    </tr>\n",
              "  </tbody>\n",
              "</table>\n",
              "</div>"
            ],
            "text/plain": [
              "    Hour  Temperature(°C)  Humidity(%)  ...  Rainfall(mm)  Snowfall (cm)  Seasons\n",
              "12    12              1.7           23  ...           0.0            0.0   Winter\n",
              "13    13              2.4           25  ...           0.0            0.0   Winter\n",
              "14    14              3.0           26  ...           0.0            0.0   Winter\n",
              "15    15              2.1           36  ...           0.0            0.0   Winter\n",
              "16    16              1.2           54  ...           0.0            0.0   Winter\n",
              "\n",
              "[5 rows x 10 columns]"
            ]
          },
          "metadata": {
            "tags": []
          },
          "execution_count": 58
        }
      ]
    },
    {
      "cell_type": "code",
      "metadata": {
        "colab": {
          "base_uri": "https://localhost:8080/",
          "height": 112
        },
        "id": "9bJb5j5vkHOa",
        "outputId": "5c21bdd8-2a94-4a11-9b35-a9535e10b145"
      },
      "source": [
        "df.loc[df['Temperature(°C)'] > 0 | (df.Seasons == 'Winter'), 'Hour' : 'Seasons'].head(2)"
      ],
      "execution_count": 60,
      "outputs": [
        {
          "output_type": "execute_result",
          "data": {
            "text/html": [
              "<div>\n",
              "<style scoped>\n",
              "    .dataframe tbody tr th:only-of-type {\n",
              "        vertical-align: middle;\n",
              "    }\n",
              "\n",
              "    .dataframe tbody tr th {\n",
              "        vertical-align: top;\n",
              "    }\n",
              "\n",
              "    .dataframe thead th {\n",
              "        text-align: right;\n",
              "    }\n",
              "</style>\n",
              "<table border=\"1\" class=\"dataframe\">\n",
              "  <thead>\n",
              "    <tr style=\"text-align: right;\">\n",
              "      <th></th>\n",
              "      <th>Hour</th>\n",
              "      <th>Temperature(°C)</th>\n",
              "      <th>Humidity(%)</th>\n",
              "      <th>Wind speed (m/s)</th>\n",
              "      <th>Visibility (10m)</th>\n",
              "      <th>Dew point temperature(°C)</th>\n",
              "      <th>Solar Radiation (MJ/m2)</th>\n",
              "      <th>Rainfall(mm)</th>\n",
              "      <th>Snowfall (cm)</th>\n",
              "      <th>Seasons</th>\n",
              "    </tr>\n",
              "  </thead>\n",
              "  <tbody>\n",
              "    <tr>\n",
              "      <th>12</th>\n",
              "      <td>12</td>\n",
              "      <td>1.7</td>\n",
              "      <td>23</td>\n",
              "      <td>1.4</td>\n",
              "      <td>2000</td>\n",
              "      <td>-17.2</td>\n",
              "      <td>1.11</td>\n",
              "      <td>0.0</td>\n",
              "      <td>0.0</td>\n",
              "      <td>Winter</td>\n",
              "    </tr>\n",
              "    <tr>\n",
              "      <th>13</th>\n",
              "      <td>13</td>\n",
              "      <td>2.4</td>\n",
              "      <td>25</td>\n",
              "      <td>1.6</td>\n",
              "      <td>2000</td>\n",
              "      <td>-15.6</td>\n",
              "      <td>1.16</td>\n",
              "      <td>0.0</td>\n",
              "      <td>0.0</td>\n",
              "      <td>Winter</td>\n",
              "    </tr>\n",
              "  </tbody>\n",
              "</table>\n",
              "</div>"
            ],
            "text/plain": [
              "    Hour  Temperature(°C)  Humidity(%)  ...  Rainfall(mm)  Snowfall (cm)  Seasons\n",
              "12    12              1.7           23  ...           0.0            0.0   Winter\n",
              "13    13              2.4           25  ...           0.0            0.0   Winter\n",
              "\n",
              "[2 rows x 10 columns]"
            ]
          },
          "metadata": {
            "tags": []
          },
          "execution_count": 60
        }
      ]
    },
    {
      "cell_type": "markdown",
      "metadata": {
        "id": "UeMWuD1rkVp-"
      },
      "source": [
        "## Des statistiques"
      ]
    },
    {
      "cell_type": "markdown",
      "metadata": {
        "id": "iAN2UwY2mk2k"
      },
      "source": [
        "Commenons par des notions de répartition"
      ]
    },
    {
      "cell_type": "code",
      "metadata": {
        "colab": {
          "base_uri": "https://localhost:8080/",
          "height": 206
        },
        "id": "DZ5InhhmeOXf",
        "outputId": "746fb4cb-5a25-4c11-86ca-c1de94b7298b"
      },
      "source": [
        "pd.crosstab(df['Seasons'],df['Holiday'],normalize='index')"
      ],
      "execution_count": 62,
      "outputs": [
        {
          "output_type": "execute_result",
          "data": {
            "text/html": [
              "<div>\n",
              "<style scoped>\n",
              "    .dataframe tbody tr th:only-of-type {\n",
              "        vertical-align: middle;\n",
              "    }\n",
              "\n",
              "    .dataframe tbody tr th {\n",
              "        vertical-align: top;\n",
              "    }\n",
              "\n",
              "    .dataframe thead th {\n",
              "        text-align: right;\n",
              "    }\n",
              "</style>\n",
              "<table border=\"1\" class=\"dataframe\">\n",
              "  <thead>\n",
              "    <tr style=\"text-align: right;\">\n",
              "      <th>Holiday</th>\n",
              "      <th>Holiday</th>\n",
              "      <th>No Holiday</th>\n",
              "    </tr>\n",
              "    <tr>\n",
              "      <th>Seasons</th>\n",
              "      <th></th>\n",
              "      <th></th>\n",
              "    </tr>\n",
              "  </thead>\n",
              "  <tbody>\n",
              "    <tr>\n",
              "      <th>Autumn</th>\n",
              "      <td>0.054945</td>\n",
              "      <td>0.945055</td>\n",
              "    </tr>\n",
              "    <tr>\n",
              "      <th>Spring</th>\n",
              "      <td>0.032609</td>\n",
              "      <td>0.967391</td>\n",
              "    </tr>\n",
              "    <tr>\n",
              "      <th>Summer</th>\n",
              "      <td>0.021739</td>\n",
              "      <td>0.978261</td>\n",
              "    </tr>\n",
              "    <tr>\n",
              "      <th>Winter</th>\n",
              "      <td>0.088889</td>\n",
              "      <td>0.911111</td>\n",
              "    </tr>\n",
              "  </tbody>\n",
              "</table>\n",
              "</div>"
            ],
            "text/plain": [
              "Holiday   Holiday  No Holiday\n",
              "Seasons                      \n",
              "Autumn   0.054945    0.945055\n",
              "Spring   0.032609    0.967391\n",
              "Summer   0.021739    0.978261\n",
              "Winter   0.088889    0.911111"
            ]
          },
          "metadata": {
            "tags": []
          },
          "execution_count": 62
        }
      ]
    },
    {
      "cell_type": "code",
      "metadata": {
        "colab": {
          "base_uri": "https://localhost:8080/",
          "height": 143
        },
        "id": "m-VuzdwMmtth",
        "outputId": "b3b3a402-8a81-4a05-f7d9-209ad38c178b"
      },
      "source": [
        "pd.crosstab(df['Holiday'],df['Seasons'],normalize='index')"
      ],
      "execution_count": 63,
      "outputs": [
        {
          "output_type": "execute_result",
          "data": {
            "text/html": [
              "<div>\n",
              "<style scoped>\n",
              "    .dataframe tbody tr th:only-of-type {\n",
              "        vertical-align: middle;\n",
              "    }\n",
              "\n",
              "    .dataframe tbody tr th {\n",
              "        vertical-align: top;\n",
              "    }\n",
              "\n",
              "    .dataframe thead th {\n",
              "        text-align: right;\n",
              "    }\n",
              "</style>\n",
              "<table border=\"1\" class=\"dataframe\">\n",
              "  <thead>\n",
              "    <tr style=\"text-align: right;\">\n",
              "      <th>Seasons</th>\n",
              "      <th>Autumn</th>\n",
              "      <th>Spring</th>\n",
              "      <th>Summer</th>\n",
              "      <th>Winter</th>\n",
              "    </tr>\n",
              "    <tr>\n",
              "      <th>Holiday</th>\n",
              "      <th></th>\n",
              "      <th></th>\n",
              "      <th></th>\n",
              "      <th></th>\n",
              "    </tr>\n",
              "  </thead>\n",
              "  <tbody>\n",
              "    <tr>\n",
              "      <th>Holiday</th>\n",
              "      <td>0.277778</td>\n",
              "      <td>0.166667</td>\n",
              "      <td>0.111111</td>\n",
              "      <td>0.444444</td>\n",
              "    </tr>\n",
              "    <tr>\n",
              "      <th>No Holiday</th>\n",
              "      <td>0.247839</td>\n",
              "      <td>0.256484</td>\n",
              "      <td>0.259366</td>\n",
              "      <td>0.236311</td>\n",
              "    </tr>\n",
              "  </tbody>\n",
              "</table>\n",
              "</div>"
            ],
            "text/plain": [
              "Seasons       Autumn    Spring    Summer    Winter\n",
              "Holiday                                           \n",
              "Holiday     0.277778  0.166667  0.111111  0.444444\n",
              "No Holiday  0.247839  0.256484  0.259366  0.236311"
            ]
          },
          "metadata": {
            "tags": []
          },
          "execution_count": 63
        }
      ]
    },
    {
      "cell_type": "markdown",
      "metadata": {
        "id": "8m-X-yItm0VQ"
      },
      "source": [
        "Regardons l'incontournable correlation"
      ]
    },
    {
      "cell_type": "code",
      "metadata": {
        "colab": {
          "base_uri": "https://localhost:8080/",
          "height": 254
        },
        "id": "VkACGILLm5vB",
        "outputId": "020f9c3c-e2da-4653-a473-27cf5c85128f"
      },
      "source": [
        "corr = df.corr()\n",
        "abs(corr).style.background_gradient(cmap='coolwarm')"
      ],
      "execution_count": 66,
      "outputs": [
        {
          "output_type": "execute_result",
          "data": {
            "text/html": [
              "<style  type=\"text/css\" >\n",
              "#T_82336530_883f_11eb_9b5b_0242ac1c0002row0_col0,#T_82336530_883f_11eb_9b5b_0242ac1c0002row1_col1,#T_82336530_883f_11eb_9b5b_0242ac1c0002row2_col2,#T_82336530_883f_11eb_9b5b_0242ac1c0002row3_col3,#T_82336530_883f_11eb_9b5b_0242ac1c0002row4_col4,#T_82336530_883f_11eb_9b5b_0242ac1c0002row5_col5,#T_82336530_883f_11eb_9b5b_0242ac1c0002row6_col6,#T_82336530_883f_11eb_9b5b_0242ac1c0002row7_col7,#T_82336530_883f_11eb_9b5b_0242ac1c0002row8_col8,#T_82336530_883f_11eb_9b5b_0242ac1c0002row9_col9{\n",
              "            background-color:  #b40426;\n",
              "            color:  #f1f1f1;\n",
              "        }#T_82336530_883f_11eb_9b5b_0242ac1c0002row0_col1{\n",
              "            background-color:  #c3d5f4;\n",
              "            color:  #000000;\n",
              "        }#T_82336530_883f_11eb_9b5b_0242ac1c0002row0_col2{\n",
              "            background-color:  #e2dad5;\n",
              "            color:  #000000;\n",
              "        }#T_82336530_883f_11eb_9b5b_0242ac1c0002row0_col3,#T_82336530_883f_11eb_9b5b_0242ac1c0002row3_col9{\n",
              "            background-color:  #5a78e4;\n",
              "            color:  #000000;\n",
              "        }#T_82336530_883f_11eb_9b5b_0242ac1c0002row0_col4,#T_82336530_883f_11eb_9b5b_0242ac1c0002row5_col9,#T_82336530_883f_11eb_9b5b_0242ac1c0002row6_col8,#T_82336530_883f_11eb_9b5b_0242ac1c0002row7_col5{\n",
              "            background-color:  #5f7fe8;\n",
              "            color:  #000000;\n",
              "        }#T_82336530_883f_11eb_9b5b_0242ac1c0002row0_col5,#T_82336530_883f_11eb_9b5b_0242ac1c0002row5_col4{\n",
              "            background-color:  #7093f3;\n",
              "            color:  #000000;\n",
              "        }#T_82336530_883f_11eb_9b5b_0242ac1c0002row0_col6{\n",
              "            background-color:  #b9d0f9;\n",
              "            color:  #000000;\n",
              "        }#T_82336530_883f_11eb_9b5b_0242ac1c0002row0_col7{\n",
              "            background-color:  #7da0f9;\n",
              "            color:  #000000;\n",
              "        }#T_82336530_883f_11eb_9b5b_0242ac1c0002row0_col8{\n",
              "            background-color:  #5e7de7;\n",
              "            color:  #000000;\n",
              "        }#T_82336530_883f_11eb_9b5b_0242ac1c0002row0_col9,#T_82336530_883f_11eb_9b5b_0242ac1c0002row8_col5{\n",
              "            background-color:  #6687ed;\n",
              "            color:  #000000;\n",
              "        }#T_82336530_883f_11eb_9b5b_0242ac1c0002row1_col0,#T_82336530_883f_11eb_9b5b_0242ac1c0002row7_col2,#T_82336530_883f_11eb_9b5b_0242ac1c0002row7_col4{\n",
              "            background-color:  #a9c6fd;\n",
              "            color:  #000000;\n",
              "        }#T_82336530_883f_11eb_9b5b_0242ac1c0002row1_col2,#T_82336530_883f_11eb_9b5b_0242ac1c0002row7_col6,#T_82336530_883f_11eb_9b5b_0242ac1c0002row9_col5{\n",
              "            background-color:  #5673e0;\n",
              "            color:  #000000;\n",
              "        }#T_82336530_883f_11eb_9b5b_0242ac1c0002row1_col3{\n",
              "            background-color:  #6a8bef;\n",
              "            color:  #000000;\n",
              "        }#T_82336530_883f_11eb_9b5b_0242ac1c0002row1_col4,#T_82336530_883f_11eb_9b5b_0242ac1c0002row4_col1{\n",
              "            background-color:  #98b9ff;\n",
              "            color:  #000000;\n",
              "        }#T_82336530_883f_11eb_9b5b_0242ac1c0002row1_col5,#T_82336530_883f_11eb_9b5b_0242ac1c0002row7_col8{\n",
              "            background-color:  #4e68d8;\n",
              "            color:  #000000;\n",
              "        }#T_82336530_883f_11eb_9b5b_0242ac1c0002row1_col6,#T_82336530_883f_11eb_9b5b_0242ac1c0002row1_col8,#T_82336530_883f_11eb_9b5b_0242ac1c0002row2_col5,#T_82336530_883f_11eb_9b5b_0242ac1c0002row4_col0,#T_82336530_883f_11eb_9b5b_0242ac1c0002row4_col2,#T_82336530_883f_11eb_9b5b_0242ac1c0002row4_col9,#T_82336530_883f_11eb_9b5b_0242ac1c0002row5_col2,#T_82336530_883f_11eb_9b5b_0242ac1c0002row6_col1,#T_82336530_883f_11eb_9b5b_0242ac1c0002row8_col0,#T_82336530_883f_11eb_9b5b_0242ac1c0002row8_col7,#T_82336530_883f_11eb_9b5b_0242ac1c0002row9_col3,#T_82336530_883f_11eb_9b5b_0242ac1c0002row9_col4,#T_82336530_883f_11eb_9b5b_0242ac1c0002row9_col7,#T_82336530_883f_11eb_9b5b_0242ac1c0002row9_col8{\n",
              "            background-color:  #3b4cc0;\n",
              "            color:  #f1f1f1;\n",
              "        }#T_82336530_883f_11eb_9b5b_0242ac1c0002row1_col7{\n",
              "            background-color:  #536edd;\n",
              "            color:  #000000;\n",
              "        }#T_82336530_883f_11eb_9b5b_0242ac1c0002row1_col9,#T_82336530_883f_11eb_9b5b_0242ac1c0002row8_col2,#T_82336530_883f_11eb_9b5b_0242ac1c0002row8_col4,#T_82336530_883f_11eb_9b5b_0242ac1c0002row9_col1{\n",
              "            background-color:  #3f53c6;\n",
              "            color:  #f1f1f1;\n",
              "        }#T_82336530_883f_11eb_9b5b_0242ac1c0002row2_col0{\n",
              "            background-color:  #d6dce4;\n",
              "            color:  #000000;\n",
              "        }#T_82336530_883f_11eb_9b5b_0242ac1c0002row2_col1,#T_82336530_883f_11eb_9b5b_0242ac1c0002row8_col6{\n",
              "            background-color:  #6180e9;\n",
              "            color:  #000000;\n",
              "        }#T_82336530_883f_11eb_9b5b_0242ac1c0002row2_col3{\n",
              "            background-color:  #4b64d5;\n",
              "            color:  #f1f1f1;\n",
              "        }#T_82336530_883f_11eb_9b5b_0242ac1c0002row2_col4{\n",
              "            background-color:  #445acc;\n",
              "            color:  #f1f1f1;\n",
              "        }#T_82336530_883f_11eb_9b5b_0242ac1c0002row2_col6{\n",
              "            background-color:  #d24b40;\n",
              "            color:  #f1f1f1;\n",
              "        }#T_82336530_883f_11eb_9b5b_0242ac1c0002row2_col7{\n",
              "            background-color:  #9fbfff;\n",
              "            color:  #000000;\n",
              "        }#T_82336530_883f_11eb_9b5b_0242ac1c0002row2_col8{\n",
              "            background-color:  #465ecf;\n",
              "            color:  #f1f1f1;\n",
              "        }#T_82336530_883f_11eb_9b5b_0242ac1c0002row2_col9{\n",
              "            background-color:  #81a4fb;\n",
              "            color:  #000000;\n",
              "        }#T_82336530_883f_11eb_9b5b_0242ac1c0002row3_col0,#T_82336530_883f_11eb_9b5b_0242ac1c0002row5_col0{\n",
              "            background-color:  #5572df;\n",
              "            color:  #000000;\n",
              "        }#T_82336530_883f_11eb_9b5b_0242ac1c0002row3_col1{\n",
              "            background-color:  #89acfd;\n",
              "            color:  #000000;\n",
              "        }#T_82336530_883f_11eb_9b5b_0242ac1c0002row3_col2{\n",
              "            background-color:  #6384eb;\n",
              "            color:  #000000;\n",
              "        }#T_82336530_883f_11eb_9b5b_0242ac1c0002row3_col4{\n",
              "            background-color:  #aac7fd;\n",
              "            color:  #000000;\n",
              "        }#T_82336530_883f_11eb_9b5b_0242ac1c0002row3_col5{\n",
              "            background-color:  #e3d9d3;\n",
              "            color:  #000000;\n",
              "        }#T_82336530_883f_11eb_9b5b_0242ac1c0002row3_col6{\n",
              "            background-color:  #e6d7cf;\n",
              "            color:  #000000;\n",
              "        }#T_82336530_883f_11eb_9b5b_0242ac1c0002row3_col7{\n",
              "            background-color:  #c6d6f1;\n",
              "            color:  #000000;\n",
              "        }#T_82336530_883f_11eb_9b5b_0242ac1c0002row3_col8{\n",
              "            background-color:  #85a8fc;\n",
              "            color:  #000000;\n",
              "        }#T_82336530_883f_11eb_9b5b_0242ac1c0002row4_col3{\n",
              "            background-color:  #8fb1fe;\n",
              "            color:  #000000;\n",
              "        }#T_82336530_883f_11eb_9b5b_0242ac1c0002row4_col5,#T_82336530_883f_11eb_9b5b_0242ac1c0002row7_col1,#T_82336530_883f_11eb_9b5b_0242ac1c0002row8_col3{\n",
              "            background-color:  #6788ee;\n",
              "            color:  #000000;\n",
              "        }#T_82336530_883f_11eb_9b5b_0242ac1c0002row4_col6,#T_82336530_883f_11eb_9b5b_0242ac1c0002row5_col6,#T_82336530_883f_11eb_9b5b_0242ac1c0002row6_col4{\n",
              "            background-color:  #7295f4;\n",
              "            color:  #000000;\n",
              "        }#T_82336530_883f_11eb_9b5b_0242ac1c0002row4_col7{\n",
              "            background-color:  #97b8ff;\n",
              "            color:  #000000;\n",
              "        }#T_82336530_883f_11eb_9b5b_0242ac1c0002row4_col8{\n",
              "            background-color:  #3d50c3;\n",
              "            color:  #f1f1f1;\n",
              "        }#T_82336530_883f_11eb_9b5b_0242ac1c0002row5_col1{\n",
              "            background-color:  #5875e1;\n",
              "            color:  #000000;\n",
              "        }#T_82336530_883f_11eb_9b5b_0242ac1c0002row5_col3{\n",
              "            background-color:  #d9dce1;\n",
              "            color:  #000000;\n",
              "        }#T_82336530_883f_11eb_9b5b_0242ac1c0002row5_col7{\n",
              "            background-color:  #5470de;\n",
              "            color:  #000000;\n",
              "        }#T_82336530_883f_11eb_9b5b_0242ac1c0002row5_col8{\n",
              "            background-color:  #6e90f2;\n",
              "            color:  #000000;\n",
              "        }#T_82336530_883f_11eb_9b5b_0242ac1c0002row6_col0{\n",
              "            background-color:  #9dbdff;\n",
              "            color:  #000000;\n",
              "        }#T_82336530_883f_11eb_9b5b_0242ac1c0002row6_col2{\n",
              "            background-color:  #d44e41;\n",
              "            color:  #000000;\n",
              "        }#T_82336530_883f_11eb_9b5b_0242ac1c0002row6_col3{\n",
              "            background-color:  #d8dce2;\n",
              "            color:  #000000;\n",
              "        }#T_82336530_883f_11eb_9b5b_0242ac1c0002row6_col5,#T_82336530_883f_11eb_9b5b_0242ac1c0002row6_col9,#T_82336530_883f_11eb_9b5b_0242ac1c0002row9_col6{\n",
              "            background-color:  #688aef;\n",
              "            color:  #000000;\n",
              "        }#T_82336530_883f_11eb_9b5b_0242ac1c0002row6_col7,#T_82336530_883f_11eb_9b5b_0242ac1c0002row9_col0{\n",
              "            background-color:  #4257c9;\n",
              "            color:  #f1f1f1;\n",
              "        }#T_82336530_883f_11eb_9b5b_0242ac1c0002row7_col0{\n",
              "            background-color:  #6c8ff1;\n",
              "            color:  #000000;\n",
              "        }#T_82336530_883f_11eb_9b5b_0242ac1c0002row7_col3{\n",
              "            background-color:  #bfd3f6;\n",
              "            color:  #000000;\n",
              "        }#T_82336530_883f_11eb_9b5b_0242ac1c0002row7_col9{\n",
              "            background-color:  #4f69d9;\n",
              "            color:  #000000;\n",
              "        }#T_82336530_883f_11eb_9b5b_0242ac1c0002row8_col1,#T_82336530_883f_11eb_9b5b_0242ac1c0002row8_col9{\n",
              "            background-color:  #3c4ec2;\n",
              "            color:  #f1f1f1;\n",
              "        }#T_82336530_883f_11eb_9b5b_0242ac1c0002row9_col2{\n",
              "            background-color:  #779af7;\n",
              "            color:  #000000;\n",
              "        }</style><table id=\"T_82336530_883f_11eb_9b5b_0242ac1c0002\" ><thead>    <tr>        <th class=\"blank level0\" ></th>        <th class=\"col_heading level0 col0\" >Rented Bike Count</th>        <th class=\"col_heading level0 col1\" >Hour</th>        <th class=\"col_heading level0 col2\" >Temperature(°C)</th>        <th class=\"col_heading level0 col3\" >Humidity(%)</th>        <th class=\"col_heading level0 col4\" >Wind speed (m/s)</th>        <th class=\"col_heading level0 col5\" >Visibility (10m)</th>        <th class=\"col_heading level0 col6\" >Dew point temperature(°C)</th>        <th class=\"col_heading level0 col7\" >Solar Radiation (MJ/m2)</th>        <th class=\"col_heading level0 col8\" >Rainfall(mm)</th>        <th class=\"col_heading level0 col9\" >Snowfall (cm)</th>    </tr></thead><tbody>\n",
              "                <tr>\n",
              "                        <th id=\"T_82336530_883f_11eb_9b5b_0242ac1c0002level0_row0\" class=\"row_heading level0 row0\" >Rented Bike Count</th>\n",
              "                        <td id=\"T_82336530_883f_11eb_9b5b_0242ac1c0002row0_col0\" class=\"data row0 col0\" >1.000000</td>\n",
              "                        <td id=\"T_82336530_883f_11eb_9b5b_0242ac1c0002row0_col1\" class=\"data row0 col1\" >0.410257</td>\n",
              "                        <td id=\"T_82336530_883f_11eb_9b5b_0242ac1c0002row0_col2\" class=\"data row0 col2\" >0.538558</td>\n",
              "                        <td id=\"T_82336530_883f_11eb_9b5b_0242ac1c0002row0_col3\" class=\"data row0 col3\" >0.199780</td>\n",
              "                        <td id=\"T_82336530_883f_11eb_9b5b_0242ac1c0002row0_col4\" class=\"data row0 col4\" >0.121108</td>\n",
              "                        <td id=\"T_82336530_883f_11eb_9b5b_0242ac1c0002row0_col5\" class=\"data row0 col5\" >0.199280</td>\n",
              "                        <td id=\"T_82336530_883f_11eb_9b5b_0242ac1c0002row0_col6\" class=\"data row0 col6\" >0.379788</td>\n",
              "                        <td id=\"T_82336530_883f_11eb_9b5b_0242ac1c0002row0_col7\" class=\"data row0 col7\" >0.261837</td>\n",
              "                        <td id=\"T_82336530_883f_11eb_9b5b_0242ac1c0002row0_col8\" class=\"data row0 col8\" >0.123074</td>\n",
              "                        <td id=\"T_82336530_883f_11eb_9b5b_0242ac1c0002row0_col9\" class=\"data row0 col9\" >0.141804</td>\n",
              "            </tr>\n",
              "            <tr>\n",
              "                        <th id=\"T_82336530_883f_11eb_9b5b_0242ac1c0002level0_row1\" class=\"row_heading level0 row1\" >Hour</th>\n",
              "                        <td id=\"T_82336530_883f_11eb_9b5b_0242ac1c0002row1_col0\" class=\"data row1 col0\" >0.410257</td>\n",
              "                        <td id=\"T_82336530_883f_11eb_9b5b_0242ac1c0002row1_col1\" class=\"data row1 col1\" >1.000000</td>\n",
              "                        <td id=\"T_82336530_883f_11eb_9b5b_0242ac1c0002row1_col2\" class=\"data row1 col2\" >0.124114</td>\n",
              "                        <td id=\"T_82336530_883f_11eb_9b5b_0242ac1c0002row1_col3\" class=\"data row1 col3\" >0.241644</td>\n",
              "                        <td id=\"T_82336530_883f_11eb_9b5b_0242ac1c0002row1_col4\" class=\"data row1 col4\" >0.285197</td>\n",
              "                        <td id=\"T_82336530_883f_11eb_9b5b_0242ac1c0002row1_col5\" class=\"data row1 col5\" >0.098753</td>\n",
              "                        <td id=\"T_82336530_883f_11eb_9b5b_0242ac1c0002row1_col6\" class=\"data row1 col6\" >0.003054</td>\n",
              "                        <td id=\"T_82336530_883f_11eb_9b5b_0242ac1c0002row1_col7\" class=\"data row1 col7\" >0.145131</td>\n",
              "                        <td id=\"T_82336530_883f_11eb_9b5b_0242ac1c0002row1_col8\" class=\"data row1 col8\" >0.008715</td>\n",
              "                        <td id=\"T_82336530_883f_11eb_9b5b_0242ac1c0002row1_col9\" class=\"data row1 col9\" >0.021516</td>\n",
              "            </tr>\n",
              "            <tr>\n",
              "                        <th id=\"T_82336530_883f_11eb_9b5b_0242ac1c0002level0_row2\" class=\"row_heading level0 row2\" >Temperature(°C)</th>\n",
              "                        <td id=\"T_82336530_883f_11eb_9b5b_0242ac1c0002row2_col0\" class=\"data row2 col0\" >0.538558</td>\n",
              "                        <td id=\"T_82336530_883f_11eb_9b5b_0242ac1c0002row2_col1\" class=\"data row2 col1\" >0.124114</td>\n",
              "                        <td id=\"T_82336530_883f_11eb_9b5b_0242ac1c0002row2_col2\" class=\"data row2 col2\" >1.000000</td>\n",
              "                        <td id=\"T_82336530_883f_11eb_9b5b_0242ac1c0002row2_col3\" class=\"data row2 col3\" >0.159371</td>\n",
              "                        <td id=\"T_82336530_883f_11eb_9b5b_0242ac1c0002row2_col4\" class=\"data row2 col4\" >0.036252</td>\n",
              "                        <td id=\"T_82336530_883f_11eb_9b5b_0242ac1c0002row2_col5\" class=\"data row2 col5\" >0.034794</td>\n",
              "                        <td id=\"T_82336530_883f_11eb_9b5b_0242ac1c0002row2_col6\" class=\"data row2 col6\" >0.912798</td>\n",
              "                        <td id=\"T_82336530_883f_11eb_9b5b_0242ac1c0002row2_col7\" class=\"data row2 col7\" >0.353505</td>\n",
              "                        <td id=\"T_82336530_883f_11eb_9b5b_0242ac1c0002row2_col8\" class=\"data row2 col8\" >0.050282</td>\n",
              "                        <td id=\"T_82336530_883f_11eb_9b5b_0242ac1c0002row2_col9\" class=\"data row2 col9\" >0.218405</td>\n",
              "            </tr>\n",
              "            <tr>\n",
              "                        <th id=\"T_82336530_883f_11eb_9b5b_0242ac1c0002level0_row3\" class=\"row_heading level0 row3\" >Humidity(%)</th>\n",
              "                        <td id=\"T_82336530_883f_11eb_9b5b_0242ac1c0002row3_col0\" class=\"data row3 col0\" >0.199780</td>\n",
              "                        <td id=\"T_82336530_883f_11eb_9b5b_0242ac1c0002row3_col1\" class=\"data row3 col1\" >0.241644</td>\n",
              "                        <td id=\"T_82336530_883f_11eb_9b5b_0242ac1c0002row3_col2\" class=\"data row3 col2\" >0.159371</td>\n",
              "                        <td id=\"T_82336530_883f_11eb_9b5b_0242ac1c0002row3_col3\" class=\"data row3 col3\" >1.000000</td>\n",
              "                        <td id=\"T_82336530_883f_11eb_9b5b_0242ac1c0002row3_col4\" class=\"data row3 col4\" >0.336683</td>\n",
              "                        <td id=\"T_82336530_883f_11eb_9b5b_0242ac1c0002row3_col5\" class=\"data row3 col5\" >0.543090</td>\n",
              "                        <td id=\"T_82336530_883f_11eb_9b5b_0242ac1c0002row3_col6\" class=\"data row3 col6\" >0.536894</td>\n",
              "                        <td id=\"T_82336530_883f_11eb_9b5b_0242ac1c0002row3_col7\" class=\"data row3 col7\" >0.461919</td>\n",
              "                        <td id=\"T_82336530_883f_11eb_9b5b_0242ac1c0002row3_col8\" class=\"data row3 col8\" >0.236397</td>\n",
              "                        <td id=\"T_82336530_883f_11eb_9b5b_0242ac1c0002row3_col9\" class=\"data row3 col9\" >0.108183</td>\n",
              "            </tr>\n",
              "            <tr>\n",
              "                        <th id=\"T_82336530_883f_11eb_9b5b_0242ac1c0002level0_row4\" class=\"row_heading level0 row4\" >Wind speed (m/s)</th>\n",
              "                        <td id=\"T_82336530_883f_11eb_9b5b_0242ac1c0002row4_col0\" class=\"data row4 col0\" >0.121108</td>\n",
              "                        <td id=\"T_82336530_883f_11eb_9b5b_0242ac1c0002row4_col1\" class=\"data row4 col1\" >0.285197</td>\n",
              "                        <td id=\"T_82336530_883f_11eb_9b5b_0242ac1c0002row4_col2\" class=\"data row4 col2\" >0.036252</td>\n",
              "                        <td id=\"T_82336530_883f_11eb_9b5b_0242ac1c0002row4_col3\" class=\"data row4 col3\" >0.336683</td>\n",
              "                        <td id=\"T_82336530_883f_11eb_9b5b_0242ac1c0002row4_col4\" class=\"data row4 col4\" >1.000000</td>\n",
              "                        <td id=\"T_82336530_883f_11eb_9b5b_0242ac1c0002row4_col5\" class=\"data row4 col5\" >0.171507</td>\n",
              "                        <td id=\"T_82336530_883f_11eb_9b5b_0242ac1c0002row4_col6\" class=\"data row4 col6\" >0.176486</td>\n",
              "                        <td id=\"T_82336530_883f_11eb_9b5b_0242ac1c0002row4_col7\" class=\"data row4 col7\" >0.332274</td>\n",
              "                        <td id=\"T_82336530_883f_11eb_9b5b_0242ac1c0002row4_col8\" class=\"data row4 col8\" >0.019674</td>\n",
              "                        <td id=\"T_82336530_883f_11eb_9b5b_0242ac1c0002row4_col9\" class=\"data row4 col9\" >0.003554</td>\n",
              "            </tr>\n",
              "            <tr>\n",
              "                        <th id=\"T_82336530_883f_11eb_9b5b_0242ac1c0002level0_row5\" class=\"row_heading level0 row5\" >Visibility (10m)</th>\n",
              "                        <td id=\"T_82336530_883f_11eb_9b5b_0242ac1c0002row5_col0\" class=\"data row5 col0\" >0.199280</td>\n",
              "                        <td id=\"T_82336530_883f_11eb_9b5b_0242ac1c0002row5_col1\" class=\"data row5 col1\" >0.098753</td>\n",
              "                        <td id=\"T_82336530_883f_11eb_9b5b_0242ac1c0002row5_col2\" class=\"data row5 col2\" >0.034794</td>\n",
              "                        <td id=\"T_82336530_883f_11eb_9b5b_0242ac1c0002row5_col3\" class=\"data row5 col3\" >0.543090</td>\n",
              "                        <td id=\"T_82336530_883f_11eb_9b5b_0242ac1c0002row5_col4\" class=\"data row5 col4\" >0.171507</td>\n",
              "                        <td id=\"T_82336530_883f_11eb_9b5b_0242ac1c0002row5_col5\" class=\"data row5 col5\" >1.000000</td>\n",
              "                        <td id=\"T_82336530_883f_11eb_9b5b_0242ac1c0002row5_col6\" class=\"data row5 col6\" >0.176630</td>\n",
              "                        <td id=\"T_82336530_883f_11eb_9b5b_0242ac1c0002row5_col7\" class=\"data row5 col7\" >0.149738</td>\n",
              "                        <td id=\"T_82336530_883f_11eb_9b5b_0242ac1c0002row5_col8\" class=\"data row5 col8\" >0.167629</td>\n",
              "                        <td id=\"T_82336530_883f_11eb_9b5b_0242ac1c0002row5_col9\" class=\"data row5 col9\" >0.121695</td>\n",
              "            </tr>\n",
              "            <tr>\n",
              "                        <th id=\"T_82336530_883f_11eb_9b5b_0242ac1c0002level0_row6\" class=\"row_heading level0 row6\" >Dew point temperature(°C)</th>\n",
              "                        <td id=\"T_82336530_883f_11eb_9b5b_0242ac1c0002row6_col0\" class=\"data row6 col0\" >0.379788</td>\n",
              "                        <td id=\"T_82336530_883f_11eb_9b5b_0242ac1c0002row6_col1\" class=\"data row6 col1\" >0.003054</td>\n",
              "                        <td id=\"T_82336530_883f_11eb_9b5b_0242ac1c0002row6_col2\" class=\"data row6 col2\" >0.912798</td>\n",
              "                        <td id=\"T_82336530_883f_11eb_9b5b_0242ac1c0002row6_col3\" class=\"data row6 col3\" >0.536894</td>\n",
              "                        <td id=\"T_82336530_883f_11eb_9b5b_0242ac1c0002row6_col4\" class=\"data row6 col4\" >0.176486</td>\n",
              "                        <td id=\"T_82336530_883f_11eb_9b5b_0242ac1c0002row6_col5\" class=\"data row6 col5\" >0.176630</td>\n",
              "                        <td id=\"T_82336530_883f_11eb_9b5b_0242ac1c0002row6_col6\" class=\"data row6 col6\" >1.000000</td>\n",
              "                        <td id=\"T_82336530_883f_11eb_9b5b_0242ac1c0002row6_col7\" class=\"data row6 col7\" >0.094381</td>\n",
              "                        <td id=\"T_82336530_883f_11eb_9b5b_0242ac1c0002row6_col8\" class=\"data row6 col8\" >0.125597</td>\n",
              "                        <td id=\"T_82336530_883f_11eb_9b5b_0242ac1c0002row6_col9\" class=\"data row6 col9\" >0.150887</td>\n",
              "            </tr>\n",
              "            <tr>\n",
              "                        <th id=\"T_82336530_883f_11eb_9b5b_0242ac1c0002level0_row7\" class=\"row_heading level0 row7\" >Solar Radiation (MJ/m2)</th>\n",
              "                        <td id=\"T_82336530_883f_11eb_9b5b_0242ac1c0002row7_col0\" class=\"data row7 col0\" >0.261837</td>\n",
              "                        <td id=\"T_82336530_883f_11eb_9b5b_0242ac1c0002row7_col1\" class=\"data row7 col1\" >0.145131</td>\n",
              "                        <td id=\"T_82336530_883f_11eb_9b5b_0242ac1c0002row7_col2\" class=\"data row7 col2\" >0.353505</td>\n",
              "                        <td id=\"T_82336530_883f_11eb_9b5b_0242ac1c0002row7_col3\" class=\"data row7 col3\" >0.461919</td>\n",
              "                        <td id=\"T_82336530_883f_11eb_9b5b_0242ac1c0002row7_col4\" class=\"data row7 col4\" >0.332274</td>\n",
              "                        <td id=\"T_82336530_883f_11eb_9b5b_0242ac1c0002row7_col5\" class=\"data row7 col5\" >0.149738</td>\n",
              "                        <td id=\"T_82336530_883f_11eb_9b5b_0242ac1c0002row7_col6\" class=\"data row7 col6\" >0.094381</td>\n",
              "                        <td id=\"T_82336530_883f_11eb_9b5b_0242ac1c0002row7_col7\" class=\"data row7 col7\" >1.000000</td>\n",
              "                        <td id=\"T_82336530_883f_11eb_9b5b_0242ac1c0002row7_col8\" class=\"data row7 col8\" >0.074290</td>\n",
              "                        <td id=\"T_82336530_883f_11eb_9b5b_0242ac1c0002row7_col9\" class=\"data row7 col9\" >0.072301</td>\n",
              "            </tr>\n",
              "            <tr>\n",
              "                        <th id=\"T_82336530_883f_11eb_9b5b_0242ac1c0002level0_row8\" class=\"row_heading level0 row8\" >Rainfall(mm)</th>\n",
              "                        <td id=\"T_82336530_883f_11eb_9b5b_0242ac1c0002row8_col0\" class=\"data row8 col0\" >0.123074</td>\n",
              "                        <td id=\"T_82336530_883f_11eb_9b5b_0242ac1c0002row8_col1\" class=\"data row8 col1\" >0.008715</td>\n",
              "                        <td id=\"T_82336530_883f_11eb_9b5b_0242ac1c0002row8_col2\" class=\"data row8 col2\" >0.050282</td>\n",
              "                        <td id=\"T_82336530_883f_11eb_9b5b_0242ac1c0002row8_col3\" class=\"data row8 col3\" >0.236397</td>\n",
              "                        <td id=\"T_82336530_883f_11eb_9b5b_0242ac1c0002row8_col4\" class=\"data row8 col4\" >0.019674</td>\n",
              "                        <td id=\"T_82336530_883f_11eb_9b5b_0242ac1c0002row8_col5\" class=\"data row8 col5\" >0.167629</td>\n",
              "                        <td id=\"T_82336530_883f_11eb_9b5b_0242ac1c0002row8_col6\" class=\"data row8 col6\" >0.125597</td>\n",
              "                        <td id=\"T_82336530_883f_11eb_9b5b_0242ac1c0002row8_col7\" class=\"data row8 col7\" >0.074290</td>\n",
              "                        <td id=\"T_82336530_883f_11eb_9b5b_0242ac1c0002row8_col8\" class=\"data row8 col8\" >1.000000</td>\n",
              "                        <td id=\"T_82336530_883f_11eb_9b5b_0242ac1c0002row8_col9\" class=\"data row8 col9\" >0.008500</td>\n",
              "            </tr>\n",
              "            <tr>\n",
              "                        <th id=\"T_82336530_883f_11eb_9b5b_0242ac1c0002level0_row9\" class=\"row_heading level0 row9\" >Snowfall (cm)</th>\n",
              "                        <td id=\"T_82336530_883f_11eb_9b5b_0242ac1c0002row9_col0\" class=\"data row9 col0\" >0.141804</td>\n",
              "                        <td id=\"T_82336530_883f_11eb_9b5b_0242ac1c0002row9_col1\" class=\"data row9 col1\" >0.021516</td>\n",
              "                        <td id=\"T_82336530_883f_11eb_9b5b_0242ac1c0002row9_col2\" class=\"data row9 col2\" >0.218405</td>\n",
              "                        <td id=\"T_82336530_883f_11eb_9b5b_0242ac1c0002row9_col3\" class=\"data row9 col3\" >0.108183</td>\n",
              "                        <td id=\"T_82336530_883f_11eb_9b5b_0242ac1c0002row9_col4\" class=\"data row9 col4\" >0.003554</td>\n",
              "                        <td id=\"T_82336530_883f_11eb_9b5b_0242ac1c0002row9_col5\" class=\"data row9 col5\" >0.121695</td>\n",
              "                        <td id=\"T_82336530_883f_11eb_9b5b_0242ac1c0002row9_col6\" class=\"data row9 col6\" >0.150887</td>\n",
              "                        <td id=\"T_82336530_883f_11eb_9b5b_0242ac1c0002row9_col7\" class=\"data row9 col7\" >0.072301</td>\n",
              "                        <td id=\"T_82336530_883f_11eb_9b5b_0242ac1c0002row9_col8\" class=\"data row9 col8\" >0.008500</td>\n",
              "                        <td id=\"T_82336530_883f_11eb_9b5b_0242ac1c0002row9_col9\" class=\"data row9 col9\" >1.000000</td>\n",
              "            </tr>\n",
              "    </tbody></table>"
            ],
            "text/plain": [
              "<pandas.io.formats.style.Styler at 0x7f50d1864350>"
            ]
          },
          "metadata": {
            "tags": []
          },
          "execution_count": 66
        }
      ]
    },
    {
      "cell_type": "markdown",
      "metadata": {
        "id": "GikJgkocnc60"
      },
      "source": [
        "il est aussi possible de faire ces propres operations"
      ]
    },
    {
      "cell_type": "code",
      "metadata": {
        "colab": {
          "base_uri": "https://localhost:8080/"
        },
        "id": "WOUVJBNXnk6o",
        "outputId": "361bc477-aaf7-49b1-93ef-178565960d89"
      },
      "source": [
        "import numpy as np\n",
        "df.agg(np.std)"
      ],
      "execution_count": 67,
      "outputs": [
        {
          "output_type": "execute_result",
          "data": {
            "text/plain": [
              "Rented Bike Count            644.997468\n",
              "Hour                           6.922582\n",
              "Temperature(°C)               11.944825\n",
              "Humidity(%)                   20.362413\n",
              "Wind speed (m/s)               1.036300\n",
              "Visibility (10m)             608.298712\n",
              "Dew point temperature(°C)     13.060369\n",
              "Solar Radiation (MJ/m2)        0.868746\n",
              "Rainfall(mm)                   1.128193\n",
              "Snowfall (cm)                  0.436746\n",
              "dtype: float64"
            ]
          },
          "metadata": {
            "tags": []
          },
          "execution_count": 67
        }
      ]
    },
    {
      "cell_type": "markdown",
      "metadata": {
        "id": "WeJJtCW_oMAq"
      },
      "source": [
        "# II. Feature crafting"
      ]
    },
    {
      "cell_type": "markdown",
      "metadata": {
        "id": "PVNrTarkoPD9"
      },
      "source": [
        "## Series temporelles"
      ]
    },
    {
      "cell_type": "markdown",
      "metadata": {
        "id": "HVpiXuDZo_WW"
      },
      "source": [
        "### les bases"
      ]
    },
    {
      "cell_type": "markdown",
      "metadata": {
        "id": "muPKTYv3pwKp"
      },
      "source": [
        "Il est temps de parser la date de notre dataset"
      ]
    },
    {
      "cell_type": "code",
      "metadata": {
        "colab": {
          "base_uri": "https://localhost:8080/"
        },
        "id": "0gDwvxTjpzuZ",
        "outputId": "adee876a-84a5-4b2b-92a4-cfd0211e7792"
      },
      "source": [
        "pd.to_datetime(df.Date).head(2)"
      ],
      "execution_count": 81,
      "outputs": [
        {
          "output_type": "execute_result",
          "data": {
            "text/plain": [
              "0   2017-01-12\n",
              "1   2017-01-12\n",
              "Name: Date, dtype: datetime64[ns]"
            ]
          },
          "metadata": {
            "tags": []
          },
          "execution_count": 81
        }
      ]
    },
    {
      "cell_type": "markdown",
      "metadata": {
        "id": "SMm1oMLGqdNV"
      },
      "source": [
        "Remarquez le type Date(datetimen64). Une autre solution aurait été de l'indiquer à la lecture du fichier"
      ]
    },
    {
      "cell_type": "code",
      "metadata": {
        "colab": {
          "base_uri": "https://localhost:8080/"
        },
        "id": "kU4wBAjiqhQ8",
        "outputId": "8f5be08a-64e3-48a5-aaee-cb95851e94ed"
      },
      "source": [
        "df = pd.read_csv('https://raw.githubusercontent.com/tk3369/seoul-bike-sharing-demand/main/SeoulBikeData.csv', encoding='ISO-8859-1', parse_dates = ['Date'])\n",
        "df['Date'].head(2)"
      ],
      "execution_count": 82,
      "outputs": [
        {
          "output_type": "execute_result",
          "data": {
            "text/plain": [
              "0   2017-01-12\n",
              "1   2017-01-12\n",
              "Name: Date, dtype: datetime64[ns]"
            ]
          },
          "metadata": {
            "tags": []
          },
          "execution_count": 82
        }
      ]
    },
    {
      "cell_type": "markdown",
      "metadata": {
        "id": "wEHzaQSxp0C4"
      },
      "source": [
        "Mes les séries temporelles peuvent aussi être réalisé à la main"
      ]
    },
    {
      "cell_type": "code",
      "metadata": {
        "colab": {
          "base_uri": "https://localhost:8080/"
        },
        "id": "DXCNHi7yoT46",
        "outputId": "31cf0b47-a559-4ea4-e29b-cc0f5f03caae"
      },
      "source": [
        "dti = pd.date_range('2021-03-30', periods=4, freq='D')\n",
        "dti"
      ],
      "execution_count": 70,
      "outputs": [
        {
          "output_type": "execute_result",
          "data": {
            "text/plain": [
              "DatetimeIndex(['2021-03-30', '2021-03-31', '2021-04-01', '2021-04-02'], dtype='datetime64[ns]', freq='D')"
            ]
          },
          "metadata": {
            "tags": []
          },
          "execution_count": 70
        }
      ]
    },
    {
      "cell_type": "markdown",
      "metadata": {
        "id": "WPh5PVAKoxvD"
      },
      "source": [
        "La notion de delta dans les dates est géré dans pandas "
      ]
    },
    {
      "cell_type": "code",
      "metadata": {
        "colab": {
          "base_uri": "https://localhost:8080/",
          "height": 36
        },
        "id": "NldkNpYRoj-D",
        "outputId": "c0c23632-8347-47b3-a53d-373c0481620e"
      },
      "source": [
        "dti[-1].day_name()"
      ],
      "execution_count": 71,
      "outputs": [
        {
          "output_type": "execute_result",
          "data": {
            "application/vnd.google.colaboratory.intrinsic+json": {
              "type": "string"
            },
            "text/plain": [
              "'Friday'"
            ]
          },
          "metadata": {
            "tags": []
          },
          "execution_count": 71
        }
      ]
    },
    {
      "cell_type": "code",
      "metadata": {
        "colab": {
          "base_uri": "https://localhost:8080/",
          "height": 36
        },
        "id": "af7mtS9lonto",
        "outputId": "a2060eed-66da-43f3-e469-2fb0f2adab12"
      },
      "source": [
        "(dti[-1]+ pd.Timedelta('1 day')).day_name()"
      ],
      "execution_count": 73,
      "outputs": [
        {
          "output_type": "execute_result",
          "data": {
            "application/vnd.google.colaboratory.intrinsic+json": {
              "type": "string"
            },
            "text/plain": [
              "'Saturday'"
            ]
          },
          "metadata": {
            "tags": []
          },
          "execution_count": 73
        }
      ]
    },
    {
      "cell_type": "markdown",
      "metadata": {
        "id": "KRnIxty9rEEH"
      },
      "source": [
        "Il est aussi possible de filtrer par les dates, lorsque ces dernières sont les indexes"
      ]
    },
    {
      "cell_type": "code",
      "metadata": {
        "colab": {
          "base_uri": "https://localhost:8080/",
          "height": 244
        },
        "id": "IR32TdFkrHfi",
        "outputId": "521e9501-bb53-42f3-aace-497c1d2c9dab"
      },
      "source": [
        "ts = df.set_index('Date')\n",
        "ts['2017-01-12':'2017-02-12'].head(3)"
      ],
      "execution_count": 90,
      "outputs": [
        {
          "output_type": "execute_result",
          "data": {
            "text/html": [
              "<div>\n",
              "<style scoped>\n",
              "    .dataframe tbody tr th:only-of-type {\n",
              "        vertical-align: middle;\n",
              "    }\n",
              "\n",
              "    .dataframe tbody tr th {\n",
              "        vertical-align: top;\n",
              "    }\n",
              "\n",
              "    .dataframe thead th {\n",
              "        text-align: right;\n",
              "    }\n",
              "</style>\n",
              "<table border=\"1\" class=\"dataframe\">\n",
              "  <thead>\n",
              "    <tr style=\"text-align: right;\">\n",
              "      <th></th>\n",
              "      <th>Rented Bike Count</th>\n",
              "      <th>Hour</th>\n",
              "      <th>Temperature(°C)</th>\n",
              "      <th>Humidity(%)</th>\n",
              "      <th>Wind speed (m/s)</th>\n",
              "      <th>Visibility (10m)</th>\n",
              "      <th>Dew point temperature(°C)</th>\n",
              "      <th>Solar Radiation (MJ/m2)</th>\n",
              "      <th>Rainfall(mm)</th>\n",
              "      <th>Snowfall (cm)</th>\n",
              "      <th>Seasons</th>\n",
              "      <th>Holiday</th>\n",
              "      <th>Functioning Day</th>\n",
              "    </tr>\n",
              "    <tr>\n",
              "      <th>Date</th>\n",
              "      <th></th>\n",
              "      <th></th>\n",
              "      <th></th>\n",
              "      <th></th>\n",
              "      <th></th>\n",
              "      <th></th>\n",
              "      <th></th>\n",
              "      <th></th>\n",
              "      <th></th>\n",
              "      <th></th>\n",
              "      <th></th>\n",
              "      <th></th>\n",
              "      <th></th>\n",
              "    </tr>\n",
              "  </thead>\n",
              "  <tbody>\n",
              "    <tr>\n",
              "      <th>2017-01-12</th>\n",
              "      <td>254</td>\n",
              "      <td>0</td>\n",
              "      <td>-5.2</td>\n",
              "      <td>37</td>\n",
              "      <td>2.2</td>\n",
              "      <td>2000</td>\n",
              "      <td>-17.6</td>\n",
              "      <td>0.0</td>\n",
              "      <td>0.0</td>\n",
              "      <td>0.0</td>\n",
              "      <td>Winter</td>\n",
              "      <td>No Holiday</td>\n",
              "      <td>Yes</td>\n",
              "    </tr>\n",
              "    <tr>\n",
              "      <th>2017-01-12</th>\n",
              "      <td>204</td>\n",
              "      <td>1</td>\n",
              "      <td>-5.5</td>\n",
              "      <td>38</td>\n",
              "      <td>0.8</td>\n",
              "      <td>2000</td>\n",
              "      <td>-17.6</td>\n",
              "      <td>0.0</td>\n",
              "      <td>0.0</td>\n",
              "      <td>0.0</td>\n",
              "      <td>Winter</td>\n",
              "      <td>No Holiday</td>\n",
              "      <td>Yes</td>\n",
              "    </tr>\n",
              "    <tr>\n",
              "      <th>2017-01-12</th>\n",
              "      <td>173</td>\n",
              "      <td>2</td>\n",
              "      <td>-6.0</td>\n",
              "      <td>39</td>\n",
              "      <td>1.0</td>\n",
              "      <td>2000</td>\n",
              "      <td>-17.7</td>\n",
              "      <td>0.0</td>\n",
              "      <td>0.0</td>\n",
              "      <td>0.0</td>\n",
              "      <td>Winter</td>\n",
              "      <td>No Holiday</td>\n",
              "      <td>Yes</td>\n",
              "    </tr>\n",
              "  </tbody>\n",
              "</table>\n",
              "</div>"
            ],
            "text/plain": [
              "            Rented Bike Count  Hour  ...     Holiday  Functioning Day\n",
              "Date                                 ...                             \n",
              "2017-01-12                254     0  ...  No Holiday              Yes\n",
              "2017-01-12                204     1  ...  No Holiday              Yes\n",
              "2017-01-12                173     2  ...  No Holiday              Yes\n",
              "\n",
              "[3 rows x 13 columns]"
            ]
          },
          "metadata": {
            "tags": []
          },
          "execution_count": 90
        }
      ]
    },
    {
      "cell_type": "markdown",
      "metadata": {
        "id": "pdAvsbsapCSo"
      },
      "source": [
        "### le Fenêtrage"
      ]
    },
    {
      "cell_type": "code",
      "metadata": {
        "colab": {
          "base_uri": "https://localhost:8080/"
        },
        "id": "lwDtZ5UtpRbw",
        "outputId": "660007c1-4a73-443c-a2c7-fbde9a626ada"
      },
      "source": [
        "s =pd.Series(range(5),index=pd.date_range('2020-01-01',periods=5, freq='1D'))\n",
        "s"
      ],
      "execution_count": 75,
      "outputs": [
        {
          "output_type": "execute_result",
          "data": {
            "text/plain": [
              "2020-01-01    0\n",
              "2020-01-02    1\n",
              "2020-01-03    2\n",
              "2020-01-04    3\n",
              "2020-01-05    4\n",
              "Freq: D, dtype: int64"
            ]
          },
          "metadata": {
            "tags": []
          },
          "execution_count": 75
        }
      ]
    },
    {
      "cell_type": "code",
      "metadata": {
        "colab": {
          "base_uri": "https://localhost:8080/"
        },
        "id": "yJTuooCCpi-H",
        "outputId": "3f8ba0a4-a11f-40ee-81ce-e5a6ce0fb008"
      },
      "source": [
        "s.rolling(window='2D').sum()"
      ],
      "execution_count": 76,
      "outputs": [
        {
          "output_type": "execute_result",
          "data": {
            "text/plain": [
              "2020-01-01    0.0\n",
              "2020-01-02    1.0\n",
              "2020-01-03    3.0\n",
              "2020-01-04    5.0\n",
              "2020-01-05    7.0\n",
              "Freq: D, dtype: float64"
            ]
          },
          "metadata": {
            "tags": []
          },
          "execution_count": 76
        }
      ]
    },
    {
      "cell_type": "markdown",
      "metadata": {
        "id": "_SuDBQ0xrsCZ"
      },
      "source": [
        "### Interpolations"
      ]
    },
    {
      "cell_type": "code",
      "metadata": {
        "colab": {
          "base_uri": "https://localhost:8080/"
        },
        "id": "yfItdQ4QrOjK",
        "outputId": "ea2ff101-940c-4df3-81d0-57543b3a8615"
      },
      "source": [
        "dr = pd.date_range(\"21/1/2021\",periods=5,freq=5* pd.offsets.BDay())\n",
        "ts = pd.Series(np.random.randn(5),index=dr)\n",
        "ts"
      ],
      "execution_count": 91,
      "outputs": [
        {
          "output_type": "execute_result",
          "data": {
            "text/plain": [
              "2021-01-21    0.034627\n",
              "2021-01-28   -1.908067\n",
              "2021-02-04   -1.749638\n",
              "2021-02-11   -1.300411\n",
              "2021-02-18    0.299953\n",
              "Freq: 5B, dtype: float64"
            ]
          },
          "metadata": {
            "tags": []
          },
          "execution_count": 91
        }
      ]
    },
    {
      "cell_type": "markdown",
      "metadata": {
        "id": "3VuD0XEesgZT"
      },
      "source": [
        "Nous avons créer une série temporelle sur 5 jours mais prenant en compte les week ends\n",
        "\n",
        "Quand nous passons à chaque journée, il y a des trous dans la données"
      ]
    },
    {
      "cell_type": "code",
      "metadata": {
        "colab": {
          "base_uri": "https://localhost:8080/"
        },
        "id": "rUrZutthsKyh",
        "outputId": "d45a90fa-b535-4ae1-d818-8a7e8c78a24e"
      },
      "source": [
        "ts.asfreq(pd.offsets.BDay())[0:6]"
      ],
      "execution_count": 93,
      "outputs": [
        {
          "output_type": "execute_result",
          "data": {
            "text/plain": [
              "2021-01-21    0.034627\n",
              "2021-01-22         NaN\n",
              "2021-01-25         NaN\n",
              "2021-01-26         NaN\n",
              "2021-01-27         NaN\n",
              "2021-01-28   -1.908067\n",
              "Freq: B, dtype: float64"
            ]
          },
          "metadata": {
            "tags": []
          },
          "execution_count": 93
        }
      ]
    },
    {
      "cell_type": "code",
      "metadata": {
        "colab": {
          "base_uri": "https://localhost:8080/"
        },
        "id": "UYUSWu6msV7F",
        "outputId": "60b59d3d-26b5-43af-ff15-f79a973ee0c6"
      },
      "source": [
        "ts.asfreq(pd.offsets.BDay(),method='nearest')[0:6]"
      ],
      "execution_count": 94,
      "outputs": [
        {
          "output_type": "execute_result",
          "data": {
            "text/plain": [
              "2021-01-21    0.034627\n",
              "2021-01-22    0.034627\n",
              "2021-01-25   -1.908067\n",
              "2021-01-26   -1.908067\n",
              "2021-01-27   -1.908067\n",
              "2021-01-28   -1.908067\n",
              "Freq: B, dtype: float64"
            ]
          },
          "metadata": {
            "tags": []
          },
          "execution_count": 94
        }
      ]
    },
    {
      "cell_type": "markdown",
      "metadata": {
        "id": "HaTfyQJpsx47"
      },
      "source": [
        "Cette méthode rempli notre donnée avec la valeur la plus proche. C'est un début mais les sauts restent présent.\n",
        "\n",
        "Il existe une méthode pour compléter plus itnelligemment les valeurs (simple formule linéaire)"
      ]
    },
    {
      "cell_type": "code",
      "metadata": {
        "colab": {
          "base_uri": "https://localhost:8080/"
        },
        "id": "t2V03B1ds5Aj",
        "outputId": "aecbf357-98d8-4a1a-c173-8fc98db40103"
      },
      "source": [
        "ts.asfreq(pd.offsets.BDay()).interpolate()[:6]"
      ],
      "execution_count": 95,
      "outputs": [
        {
          "output_type": "execute_result",
          "data": {
            "text/plain": [
              "2021-01-21    0.034627\n",
              "2021-01-22   -0.353912\n",
              "2021-01-25   -0.742450\n",
              "2021-01-26   -1.130989\n",
              "2021-01-27   -1.519528\n",
              "2021-01-28   -1.908067\n",
              "Freq: B, dtype: float64"
            ]
          },
          "metadata": {
            "tags": []
          },
          "execution_count": 95
        }
      ]
    },
    {
      "cell_type": "markdown",
      "metadata": {
        "id": "b3hRSE8etPRS"
      },
      "source": [
        "## Enrichissement et le 'split-combine'"
      ]
    },
    {
      "cell_type": "code",
      "metadata": {
        "colab": {
          "base_uri": "https://localhost:8080/",
          "height": 112
        },
        "id": "M7WTUKeitwT7",
        "outputId": "8d7ce770-898e-4fe5-c9d8-afdb15498a34"
      },
      "source": [
        "df['T kelvin'] = (df['Temperature(°C)'].subtract(32)) *5 /9\n",
        "df[['T kelvin','Temperature(°C)']].head(2)"
      ],
      "execution_count": 98,
      "outputs": [
        {
          "output_type": "execute_result",
          "data": {
            "text/html": [
              "<div>\n",
              "<style scoped>\n",
              "    .dataframe tbody tr th:only-of-type {\n",
              "        vertical-align: middle;\n",
              "    }\n",
              "\n",
              "    .dataframe tbody tr th {\n",
              "        vertical-align: top;\n",
              "    }\n",
              "\n",
              "    .dataframe thead th {\n",
              "        text-align: right;\n",
              "    }\n",
              "</style>\n",
              "<table border=\"1\" class=\"dataframe\">\n",
              "  <thead>\n",
              "    <tr style=\"text-align: right;\">\n",
              "      <th></th>\n",
              "      <th>T kelvin</th>\n",
              "      <th>Temperature(°C)</th>\n",
              "    </tr>\n",
              "  </thead>\n",
              "  <tbody>\n",
              "    <tr>\n",
              "      <th>0</th>\n",
              "      <td>-20.666667</td>\n",
              "      <td>-5.2</td>\n",
              "    </tr>\n",
              "    <tr>\n",
              "      <th>1</th>\n",
              "      <td>-20.833333</td>\n",
              "      <td>-5.5</td>\n",
              "    </tr>\n",
              "  </tbody>\n",
              "</table>\n",
              "</div>"
            ],
            "text/plain": [
              "    T kelvin  Temperature(°C)\n",
              "0 -20.666667             -5.2\n",
              "1 -20.833333             -5.5"
            ]
          },
          "metadata": {
            "tags": []
          },
          "execution_count": 98
        }
      ]
    },
    {
      "cell_type": "code",
      "metadata": {
        "colab": {
          "base_uri": "https://localhost:8080/",
          "height": 112
        },
        "id": "m6cKp6bLuNx4",
        "outputId": "b398edea-3741-47f0-e42e-19714b480351"
      },
      "source": [
        "df['isFreezing'] = (df['Temperature(°C)'] < 0).astype('int')\n",
        "df[['isFreezing','Temperature(°C)']].head(2)"
      ],
      "execution_count": 101,
      "outputs": [
        {
          "output_type": "execute_result",
          "data": {
            "text/html": [
              "<div>\n",
              "<style scoped>\n",
              "    .dataframe tbody tr th:only-of-type {\n",
              "        vertical-align: middle;\n",
              "    }\n",
              "\n",
              "    .dataframe tbody tr th {\n",
              "        vertical-align: top;\n",
              "    }\n",
              "\n",
              "    .dataframe thead th {\n",
              "        text-align: right;\n",
              "    }\n",
              "</style>\n",
              "<table border=\"1\" class=\"dataframe\">\n",
              "  <thead>\n",
              "    <tr style=\"text-align: right;\">\n",
              "      <th></th>\n",
              "      <th>isFreezing</th>\n",
              "      <th>Temperature(°C)</th>\n",
              "    </tr>\n",
              "  </thead>\n",
              "  <tbody>\n",
              "    <tr>\n",
              "      <th>0</th>\n",
              "      <td>1</td>\n",
              "      <td>-5.2</td>\n",
              "    </tr>\n",
              "    <tr>\n",
              "      <th>1</th>\n",
              "      <td>1</td>\n",
              "      <td>-5.5</td>\n",
              "    </tr>\n",
              "  </tbody>\n",
              "</table>\n",
              "</div>"
            ],
            "text/plain": [
              "   isFreezing  Temperature(°C)\n",
              "0           1             -5.2\n",
              "1           1             -5.5"
            ]
          },
          "metadata": {
            "tags": []
          },
          "execution_count": 101
        }
      ]
    },
    {
      "cell_type": "markdown",
      "metadata": {
        "id": "v9BUW_b3vHFS"
      },
      "source": [
        "-------\n",
        "Jouons avec les groupements de données !\n",
        "\n",
        "Créeons un datasets de démonstrations à taille humaine"
      ]
    },
    {
      "cell_type": "code",
      "metadata": {
        "id": "xE0wrJucvQd6"
      },
      "source": [
        "group_df = pd.DataFrame(\n",
        "    {\n",
        "        'A' : [\"foo\",\"bar\",\"foo\",\"bar\",\"foo\",\"bar\",\"foo\",\"foo\"],\n",
        "        'B' : [\"one\",\"one\",\"two\",\"three\", \"two\",\"two\",\"one\",\"three\"],\n",
        "        'C' :np.random.randn(8),\n",
        "        'D' :np.random.randn(8)\n",
        "    }\n",
        "\n",
        ") "
      ],
      "execution_count": 104,
      "outputs": []
    },
    {
      "cell_type": "markdown",
      "metadata": {
        "id": "rb3nsmDLwFLH"
      },
      "source": [
        "Commençons les tests"
      ]
    },
    {
      "cell_type": "code",
      "metadata": {
        "colab": {
          "base_uri": "https://localhost:8080/"
        },
        "id": "dRSnCNiSwDaY",
        "outputId": "cda034b3-6272-46ee-8b83-5ae790750907"
      },
      "source": [
        "group_df.groupby([\"A\",\"B\"])"
      ],
      "execution_count": 106,
      "outputs": [
        {
          "output_type": "execute_result",
          "data": {
            "text/plain": [
              "<pandas.core.groupby.generic.DataFrameGroupBy object at 0x7f50cfcba350>"
            ]
          },
          "metadata": {
            "tags": []
          },
          "execution_count": 106
        }
      ]
    },
    {
      "cell_type": "markdown",
      "metadata": {
        "id": "HN8hFPKcwRov"
      },
      "source": [
        "Il y a donc un nouvel objet de type \"dataframe groupé\""
      ]
    },
    {
      "cell_type": "code",
      "metadata": {
        "colab": {
          "base_uri": "https://localhost:8080/",
          "height": 269
        },
        "id": "124Op6Q8wYbd",
        "outputId": "804dc34f-36b6-4023-9c40-6ee4c039c10f"
      },
      "source": [
        "group_df.groupby([\"A\",\"B\"]).count()"
      ],
      "execution_count": 107,
      "outputs": [
        {
          "output_type": "execute_result",
          "data": {
            "text/html": [
              "<div>\n",
              "<style scoped>\n",
              "    .dataframe tbody tr th:only-of-type {\n",
              "        vertical-align: middle;\n",
              "    }\n",
              "\n",
              "    .dataframe tbody tr th {\n",
              "        vertical-align: top;\n",
              "    }\n",
              "\n",
              "    .dataframe thead th {\n",
              "        text-align: right;\n",
              "    }\n",
              "</style>\n",
              "<table border=\"1\" class=\"dataframe\">\n",
              "  <thead>\n",
              "    <tr style=\"text-align: right;\">\n",
              "      <th></th>\n",
              "      <th></th>\n",
              "      <th>C</th>\n",
              "      <th>D</th>\n",
              "    </tr>\n",
              "    <tr>\n",
              "      <th>A</th>\n",
              "      <th>B</th>\n",
              "      <th></th>\n",
              "      <th></th>\n",
              "    </tr>\n",
              "  </thead>\n",
              "  <tbody>\n",
              "    <tr>\n",
              "      <th rowspan=\"3\" valign=\"top\">bar</th>\n",
              "      <th>one</th>\n",
              "      <td>1</td>\n",
              "      <td>1</td>\n",
              "    </tr>\n",
              "    <tr>\n",
              "      <th>three</th>\n",
              "      <td>1</td>\n",
              "      <td>1</td>\n",
              "    </tr>\n",
              "    <tr>\n",
              "      <th>two</th>\n",
              "      <td>1</td>\n",
              "      <td>1</td>\n",
              "    </tr>\n",
              "    <tr>\n",
              "      <th rowspan=\"3\" valign=\"top\">foo</th>\n",
              "      <th>one</th>\n",
              "      <td>2</td>\n",
              "      <td>2</td>\n",
              "    </tr>\n",
              "    <tr>\n",
              "      <th>three</th>\n",
              "      <td>1</td>\n",
              "      <td>1</td>\n",
              "    </tr>\n",
              "    <tr>\n",
              "      <th>two</th>\n",
              "      <td>2</td>\n",
              "      <td>2</td>\n",
              "    </tr>\n",
              "  </tbody>\n",
              "</table>\n",
              "</div>"
            ],
            "text/plain": [
              "           C  D\n",
              "A   B          \n",
              "bar one    1  1\n",
              "    three  1  1\n",
              "    two    1  1\n",
              "foo one    2  2\n",
              "    three  1  1\n",
              "    two    2  2"
            ]
          },
          "metadata": {
            "tags": []
          },
          "execution_count": 107
        }
      ]
    },
    {
      "cell_type": "markdown",
      "metadata": {
        "id": "4wJfDXflwcCX"
      },
      "source": [
        "Mais nous retrouvons bien nos dataframe après opération. Avec des indexes correspodants aux valeurs de groupements"
      ]
    },
    {
      "cell_type": "code",
      "metadata": {
        "colab": {
          "base_uri": "https://localhost:8080/",
          "height": 269
        },
        "id": "MK5aZfWCwiYk",
        "outputId": "918c015e-fc79-497c-801f-5de6914b8e26"
      },
      "source": [
        "group_df.groupby(['A','B']).sum()"
      ],
      "execution_count": 108,
      "outputs": [
        {
          "output_type": "execute_result",
          "data": {
            "text/html": [
              "<div>\n",
              "<style scoped>\n",
              "    .dataframe tbody tr th:only-of-type {\n",
              "        vertical-align: middle;\n",
              "    }\n",
              "\n",
              "    .dataframe tbody tr th {\n",
              "        vertical-align: top;\n",
              "    }\n",
              "\n",
              "    .dataframe thead th {\n",
              "        text-align: right;\n",
              "    }\n",
              "</style>\n",
              "<table border=\"1\" class=\"dataframe\">\n",
              "  <thead>\n",
              "    <tr style=\"text-align: right;\">\n",
              "      <th></th>\n",
              "      <th></th>\n",
              "      <th>C</th>\n",
              "      <th>D</th>\n",
              "    </tr>\n",
              "    <tr>\n",
              "      <th>A</th>\n",
              "      <th>B</th>\n",
              "      <th></th>\n",
              "      <th></th>\n",
              "    </tr>\n",
              "  </thead>\n",
              "  <tbody>\n",
              "    <tr>\n",
              "      <th rowspan=\"3\" valign=\"top\">bar</th>\n",
              "      <th>one</th>\n",
              "      <td>0.801665</td>\n",
              "      <td>-0.107474</td>\n",
              "    </tr>\n",
              "    <tr>\n",
              "      <th>three</th>\n",
              "      <td>1.082546</td>\n",
              "      <td>-1.571654</td>\n",
              "    </tr>\n",
              "    <tr>\n",
              "      <th>two</th>\n",
              "      <td>-1.229785</td>\n",
              "      <td>1.677832</td>\n",
              "    </tr>\n",
              "    <tr>\n",
              "      <th rowspan=\"3\" valign=\"top\">foo</th>\n",
              "      <th>one</th>\n",
              "      <td>-1.126630</td>\n",
              "      <td>0.184807</td>\n",
              "    </tr>\n",
              "    <tr>\n",
              "      <th>three</th>\n",
              "      <td>-0.162649</td>\n",
              "      <td>-3.892291</td>\n",
              "    </tr>\n",
              "    <tr>\n",
              "      <th>two</th>\n",
              "      <td>-2.427666</td>\n",
              "      <td>0.796130</td>\n",
              "    </tr>\n",
              "  </tbody>\n",
              "</table>\n",
              "</div>"
            ],
            "text/plain": [
              "                  C         D\n",
              "A   B                        \n",
              "bar one    0.801665 -0.107474\n",
              "    three  1.082546 -1.571654\n",
              "    two   -1.229785  1.677832\n",
              "foo one   -1.126630  0.184807\n",
              "    three -0.162649 -3.892291\n",
              "    two   -2.427666  0.796130"
            ]
          },
          "metadata": {
            "tags": []
          },
          "execution_count": 108
        }
      ]
    },
    {
      "cell_type": "markdown",
      "metadata": {
        "id": "17BQJPYywo3N"
      },
      "source": [
        "Il est aussi possible de définir les groupement par les indexes"
      ]
    },
    {
      "cell_type": "code",
      "metadata": {
        "colab": {
          "base_uri": "https://localhost:8080/",
          "height": 143
        },
        "id": "E4MaukMmwsrE",
        "outputId": "72f63b87-a0a8-494c-e73e-253e245e08d0"
      },
      "source": [
        "group_df.set_index(['A','B']).groupby(level=0).sum()"
      ],
      "execution_count": 109,
      "outputs": [
        {
          "output_type": "execute_result",
          "data": {
            "text/html": [
              "<div>\n",
              "<style scoped>\n",
              "    .dataframe tbody tr th:only-of-type {\n",
              "        vertical-align: middle;\n",
              "    }\n",
              "\n",
              "    .dataframe tbody tr th {\n",
              "        vertical-align: top;\n",
              "    }\n",
              "\n",
              "    .dataframe thead th {\n",
              "        text-align: right;\n",
              "    }\n",
              "</style>\n",
              "<table border=\"1\" class=\"dataframe\">\n",
              "  <thead>\n",
              "    <tr style=\"text-align: right;\">\n",
              "      <th></th>\n",
              "      <th>C</th>\n",
              "      <th>D</th>\n",
              "    </tr>\n",
              "    <tr>\n",
              "      <th>A</th>\n",
              "      <th></th>\n",
              "      <th></th>\n",
              "    </tr>\n",
              "  </thead>\n",
              "  <tbody>\n",
              "    <tr>\n",
              "      <th>bar</th>\n",
              "      <td>0.654427</td>\n",
              "      <td>-0.001297</td>\n",
              "    </tr>\n",
              "    <tr>\n",
              "      <th>foo</th>\n",
              "      <td>-3.716945</td>\n",
              "      <td>-2.911354</td>\n",
              "    </tr>\n",
              "  </tbody>\n",
              "</table>\n",
              "</div>"
            ],
            "text/plain": [
              "            C         D\n",
              "A                      \n",
              "bar  0.654427 -0.001297\n",
              "foo -3.716945 -2.911354"
            ]
          },
          "metadata": {
            "tags": []
          },
          "execution_count": 109
        }
      ]
    },
    {
      "cell_type": "markdown",
      "metadata": {
        "id": "_SW-G3F1w0OU"
      },
      "source": [
        "ci-dessus nous avons deux niveau d'index mais ne prenons que le premier niveau pour le calcul de groupements\n",
        "\n",
        "Mais il est possible de changer cela (et d'appeler l'indetifiant plutôt que le niveau)"
      ]
    },
    {
      "cell_type": "code",
      "metadata": {
        "colab": {
          "base_uri": "https://localhost:8080/",
          "height": 175
        },
        "id": "CniXQ27bxXbu",
        "outputId": "b5d2fb9f-396a-4a9e-e407-e2030ad72b09"
      },
      "source": [
        "group_df.set_index(['A','B']).groupby('B').sum()"
      ],
      "execution_count": 110,
      "outputs": [
        {
          "output_type": "execute_result",
          "data": {
            "text/html": [
              "<div>\n",
              "<style scoped>\n",
              "    .dataframe tbody tr th:only-of-type {\n",
              "        vertical-align: middle;\n",
              "    }\n",
              "\n",
              "    .dataframe tbody tr th {\n",
              "        vertical-align: top;\n",
              "    }\n",
              "\n",
              "    .dataframe thead th {\n",
              "        text-align: right;\n",
              "    }\n",
              "</style>\n",
              "<table border=\"1\" class=\"dataframe\">\n",
              "  <thead>\n",
              "    <tr style=\"text-align: right;\">\n",
              "      <th></th>\n",
              "      <th>C</th>\n",
              "      <th>D</th>\n",
              "    </tr>\n",
              "    <tr>\n",
              "      <th>B</th>\n",
              "      <th></th>\n",
              "      <th></th>\n",
              "    </tr>\n",
              "  </thead>\n",
              "  <tbody>\n",
              "    <tr>\n",
              "      <th>one</th>\n",
              "      <td>-0.324964</td>\n",
              "      <td>0.077333</td>\n",
              "    </tr>\n",
              "    <tr>\n",
              "      <th>three</th>\n",
              "      <td>0.919897</td>\n",
              "      <td>-5.463945</td>\n",
              "    </tr>\n",
              "    <tr>\n",
              "      <th>two</th>\n",
              "      <td>-3.657451</td>\n",
              "      <td>2.473962</td>\n",
              "    </tr>\n",
              "  </tbody>\n",
              "</table>\n",
              "</div>"
            ],
            "text/plain": [
              "              C         D\n",
              "B                        \n",
              "one   -0.324964  0.077333\n",
              "three  0.919897 -5.463945\n",
              "two   -3.657451  2.473962"
            ]
          },
          "metadata": {
            "tags": []
          },
          "execution_count": 110
        }
      ]
    },
    {
      "cell_type": "markdown",
      "metadata": {
        "id": "zvSoAg64xiWx"
      },
      "source": [
        "Et si nous souhaitons selectionner un groupe particulier par les valeurs ?"
      ]
    },
    {
      "cell_type": "code",
      "metadata": {
        "colab": {
          "base_uri": "https://localhost:8080/",
          "height": 81
        },
        "id": "cKnlKeGVxppU",
        "outputId": "7c1babfb-55be-435a-fbbd-102bc814209c"
      },
      "source": [
        "group_df.groupby(['A','B']).get_group((\"bar\",\"one\"))"
      ],
      "execution_count": 114,
      "outputs": [
        {
          "output_type": "execute_result",
          "data": {
            "text/html": [
              "<div>\n",
              "<style scoped>\n",
              "    .dataframe tbody tr th:only-of-type {\n",
              "        vertical-align: middle;\n",
              "    }\n",
              "\n",
              "    .dataframe tbody tr th {\n",
              "        vertical-align: top;\n",
              "    }\n",
              "\n",
              "    .dataframe thead th {\n",
              "        text-align: right;\n",
              "    }\n",
              "</style>\n",
              "<table border=\"1\" class=\"dataframe\">\n",
              "  <thead>\n",
              "    <tr style=\"text-align: right;\">\n",
              "      <th></th>\n",
              "      <th>A</th>\n",
              "      <th>B</th>\n",
              "      <th>C</th>\n",
              "      <th>D</th>\n",
              "    </tr>\n",
              "  </thead>\n",
              "  <tbody>\n",
              "    <tr>\n",
              "      <th>1</th>\n",
              "      <td>bar</td>\n",
              "      <td>one</td>\n",
              "      <td>0.801665</td>\n",
              "      <td>-0.107474</td>\n",
              "    </tr>\n",
              "  </tbody>\n",
              "</table>\n",
              "</div>"
            ],
            "text/plain": [
              "     A    B         C         D\n",
              "1  bar  one  0.801665 -0.107474"
            ]
          },
          "metadata": {
            "tags": []
          },
          "execution_count": 114
        }
      ]
    },
    {
      "cell_type": "markdown",
      "metadata": {
        "id": "kESjwyYJx_O4"
      },
      "source": [
        "Naturellement, il est possible d'utiliser les fonctions d'aggrégation avec les groupes"
      ]
    },
    {
      "cell_type": "code",
      "metadata": {
        "colab": {
          "base_uri": "https://localhost:8080/",
          "height": 269
        },
        "id": "qQIDE2xSyEbr",
        "outputId": "da106c59-771a-496d-c16d-04c95e7b3b36"
      },
      "source": [
        "group_df.groupby(['A','B']).agg(np.sum)"
      ],
      "execution_count": 115,
      "outputs": [
        {
          "output_type": "execute_result",
          "data": {
            "text/html": [
              "<div>\n",
              "<style scoped>\n",
              "    .dataframe tbody tr th:only-of-type {\n",
              "        vertical-align: middle;\n",
              "    }\n",
              "\n",
              "    .dataframe tbody tr th {\n",
              "        vertical-align: top;\n",
              "    }\n",
              "\n",
              "    .dataframe thead th {\n",
              "        text-align: right;\n",
              "    }\n",
              "</style>\n",
              "<table border=\"1\" class=\"dataframe\">\n",
              "  <thead>\n",
              "    <tr style=\"text-align: right;\">\n",
              "      <th></th>\n",
              "      <th></th>\n",
              "      <th>C</th>\n",
              "      <th>D</th>\n",
              "    </tr>\n",
              "    <tr>\n",
              "      <th>A</th>\n",
              "      <th>B</th>\n",
              "      <th></th>\n",
              "      <th></th>\n",
              "    </tr>\n",
              "  </thead>\n",
              "  <tbody>\n",
              "    <tr>\n",
              "      <th rowspan=\"3\" valign=\"top\">bar</th>\n",
              "      <th>one</th>\n",
              "      <td>0.801665</td>\n",
              "      <td>-0.107474</td>\n",
              "    </tr>\n",
              "    <tr>\n",
              "      <th>three</th>\n",
              "      <td>1.082546</td>\n",
              "      <td>-1.571654</td>\n",
              "    </tr>\n",
              "    <tr>\n",
              "      <th>two</th>\n",
              "      <td>-1.229785</td>\n",
              "      <td>1.677832</td>\n",
              "    </tr>\n",
              "    <tr>\n",
              "      <th rowspan=\"3\" valign=\"top\">foo</th>\n",
              "      <th>one</th>\n",
              "      <td>-1.126630</td>\n",
              "      <td>0.184807</td>\n",
              "    </tr>\n",
              "    <tr>\n",
              "      <th>three</th>\n",
              "      <td>-0.162649</td>\n",
              "      <td>-3.892291</td>\n",
              "    </tr>\n",
              "    <tr>\n",
              "      <th>two</th>\n",
              "      <td>-2.427666</td>\n",
              "      <td>0.796130</td>\n",
              "    </tr>\n",
              "  </tbody>\n",
              "</table>\n",
              "</div>"
            ],
            "text/plain": [
              "                  C         D\n",
              "A   B                        \n",
              "bar one    0.801665 -0.107474\n",
              "    three  1.082546 -1.571654\n",
              "    two   -1.229785  1.677832\n",
              "foo one   -1.126630  0.184807\n",
              "    three -0.162649 -3.892291\n",
              "    two   -2.427666  0.796130"
            ]
          },
          "metadata": {
            "tags": []
          },
          "execution_count": 115
        }
      ]
    },
    {
      "cell_type": "markdown",
      "metadata": {
        "id": "K0oytguxy1KH"
      },
      "source": [
        "Nou pouvons faire l'équivalent d'une véritable requpête SQL complexe\n",
        "\n",
        "```SQL\n",
        "select \n",
        "  sum_c\n",
        "from ( \n",
        "  select\n",
        "    sum(C) as sum_c,sum(D),mean(C),mean(D),stddev(C),stddev(D)\n",
        "  from group_df\n",
        "  group by A,B\n",
        ") \n",
        "where\n",
        "  A = 'bar' and B = 'one'\n",
        "```"
      ]
    },
    {
      "cell_type": "code",
      "metadata": {
        "colab": {
          "base_uri": "https://localhost:8080/"
        },
        "id": "6M8fNpvKynI_",
        "outputId": "fd0b6997-2bd0-4d14-998f-890d25f62072"
      },
      "source": [
        "group_df.groupby(['A','B']).agg({np.sum,np.mean,np.std})[('C','sum')].loc[(\"bar\",'one')]"
      ],
      "execution_count": 119,
      "outputs": [
        {
          "output_type": "execute_result",
          "data": {
            "text/plain": [
              "0.801665484999152"
            ]
          },
          "metadata": {
            "tags": []
          },
          "execution_count": 119
        }
      ]
    },
    {
      "cell_type": "markdown",
      "metadata": {
        "id": "lsb16_EcyQJa"
      },
      "source": [
        "Enfin la notion de pivot permet de transformer les valeurs d'une colonnes en colonnes"
      ]
    },
    {
      "cell_type": "code",
      "metadata": {
        "colab": {
          "base_uri": "https://localhost:8080/",
          "height": 300
        },
        "id": "MMmaGPvYybdW",
        "outputId": "87dfffb4-9b43-4141-aed9-a052d1640b0b"
      },
      "source": [
        "group_df.pivot(columns='B',values='D')"
      ],
      "execution_count": 117,
      "outputs": [
        {
          "output_type": "execute_result",
          "data": {
            "text/html": [
              "<div>\n",
              "<style scoped>\n",
              "    .dataframe tbody tr th:only-of-type {\n",
              "        vertical-align: middle;\n",
              "    }\n",
              "\n",
              "    .dataframe tbody tr th {\n",
              "        vertical-align: top;\n",
              "    }\n",
              "\n",
              "    .dataframe thead th {\n",
              "        text-align: right;\n",
              "    }\n",
              "</style>\n",
              "<table border=\"1\" class=\"dataframe\">\n",
              "  <thead>\n",
              "    <tr style=\"text-align: right;\">\n",
              "      <th>B</th>\n",
              "      <th>one</th>\n",
              "      <th>three</th>\n",
              "      <th>two</th>\n",
              "    </tr>\n",
              "  </thead>\n",
              "  <tbody>\n",
              "    <tr>\n",
              "      <th>0</th>\n",
              "      <td>-1.249405</td>\n",
              "      <td>NaN</td>\n",
              "      <td>NaN</td>\n",
              "    </tr>\n",
              "    <tr>\n",
              "      <th>1</th>\n",
              "      <td>-0.107474</td>\n",
              "      <td>NaN</td>\n",
              "      <td>NaN</td>\n",
              "    </tr>\n",
              "    <tr>\n",
              "      <th>2</th>\n",
              "      <td>NaN</td>\n",
              "      <td>NaN</td>\n",
              "      <td>0.679084</td>\n",
              "    </tr>\n",
              "    <tr>\n",
              "      <th>3</th>\n",
              "      <td>NaN</td>\n",
              "      <td>-1.571654</td>\n",
              "      <td>NaN</td>\n",
              "    </tr>\n",
              "    <tr>\n",
              "      <th>4</th>\n",
              "      <td>NaN</td>\n",
              "      <td>NaN</td>\n",
              "      <td>0.117046</td>\n",
              "    </tr>\n",
              "    <tr>\n",
              "      <th>5</th>\n",
              "      <td>NaN</td>\n",
              "      <td>NaN</td>\n",
              "      <td>1.677832</td>\n",
              "    </tr>\n",
              "    <tr>\n",
              "      <th>6</th>\n",
              "      <td>1.434212</td>\n",
              "      <td>NaN</td>\n",
              "      <td>NaN</td>\n",
              "    </tr>\n",
              "    <tr>\n",
              "      <th>7</th>\n",
              "      <td>NaN</td>\n",
              "      <td>-3.892291</td>\n",
              "      <td>NaN</td>\n",
              "    </tr>\n",
              "  </tbody>\n",
              "</table>\n",
              "</div>"
            ],
            "text/plain": [
              "B       one     three       two\n",
              "0 -1.249405       NaN       NaN\n",
              "1 -0.107474       NaN       NaN\n",
              "2       NaN       NaN  0.679084\n",
              "3       NaN -1.571654       NaN\n",
              "4       NaN       NaN  0.117046\n",
              "5       NaN       NaN  1.677832\n",
              "6  1.434212       NaN       NaN\n",
              "7       NaN -3.892291       NaN"
            ]
          },
          "metadata": {
            "tags": []
          },
          "execution_count": 117
        }
      ]
    },
    {
      "cell_type": "markdown",
      "metadata": {
        "id": "6JXEeQ2Azwk2"
      },
      "source": [
        "Les valeurs nulles étant là où nous n'avons pas de données.\n",
        "\n",
        "Même si cela peut être une mauvaise pratique complétons cette données"
      ]
    },
    {
      "cell_type": "code",
      "metadata": {
        "colab": {
          "base_uri": "https://localhost:8080/",
          "height": 300
        },
        "id": "pQG8aRxTz38R",
        "outputId": "d8902e10-5568-4cab-b464-50418a0ed730"
      },
      "source": [
        "group_df.pivot(columns='B',values='D').interpolate()"
      ],
      "execution_count": 120,
      "outputs": [
        {
          "output_type": "execute_result",
          "data": {
            "text/html": [
              "<div>\n",
              "<style scoped>\n",
              "    .dataframe tbody tr th:only-of-type {\n",
              "        vertical-align: middle;\n",
              "    }\n",
              "\n",
              "    .dataframe tbody tr th {\n",
              "        vertical-align: top;\n",
              "    }\n",
              "\n",
              "    .dataframe thead th {\n",
              "        text-align: right;\n",
              "    }\n",
              "</style>\n",
              "<table border=\"1\" class=\"dataframe\">\n",
              "  <thead>\n",
              "    <tr style=\"text-align: right;\">\n",
              "      <th>B</th>\n",
              "      <th>one</th>\n",
              "      <th>three</th>\n",
              "      <th>two</th>\n",
              "    </tr>\n",
              "  </thead>\n",
              "  <tbody>\n",
              "    <tr>\n",
              "      <th>0</th>\n",
              "      <td>-1.249405</td>\n",
              "      <td>NaN</td>\n",
              "      <td>NaN</td>\n",
              "    </tr>\n",
              "    <tr>\n",
              "      <th>1</th>\n",
              "      <td>-0.107474</td>\n",
              "      <td>NaN</td>\n",
              "      <td>NaN</td>\n",
              "    </tr>\n",
              "    <tr>\n",
              "      <th>2</th>\n",
              "      <td>0.200863</td>\n",
              "      <td>NaN</td>\n",
              "      <td>0.679084</td>\n",
              "    </tr>\n",
              "    <tr>\n",
              "      <th>3</th>\n",
              "      <td>0.509200</td>\n",
              "      <td>-1.571654</td>\n",
              "      <td>0.398065</td>\n",
              "    </tr>\n",
              "    <tr>\n",
              "      <th>4</th>\n",
              "      <td>0.817538</td>\n",
              "      <td>-2.151813</td>\n",
              "      <td>0.117046</td>\n",
              "    </tr>\n",
              "    <tr>\n",
              "      <th>5</th>\n",
              "      <td>1.125875</td>\n",
              "      <td>-2.731973</td>\n",
              "      <td>1.677832</td>\n",
              "    </tr>\n",
              "    <tr>\n",
              "      <th>6</th>\n",
              "      <td>1.434212</td>\n",
              "      <td>-3.312132</td>\n",
              "      <td>1.677832</td>\n",
              "    </tr>\n",
              "    <tr>\n",
              "      <th>7</th>\n",
              "      <td>1.434212</td>\n",
              "      <td>-3.892291</td>\n",
              "      <td>1.677832</td>\n",
              "    </tr>\n",
              "  </tbody>\n",
              "</table>\n",
              "</div>"
            ],
            "text/plain": [
              "B       one     three       two\n",
              "0 -1.249405       NaN       NaN\n",
              "1 -0.107474       NaN       NaN\n",
              "2  0.200863       NaN  0.679084\n",
              "3  0.509200 -1.571654  0.398065\n",
              "4  0.817538 -2.151813  0.117046\n",
              "5  1.125875 -2.731973  1.677832\n",
              "6  1.434212 -3.312132  1.677832\n",
              "7  1.434212 -3.892291  1.677832"
            ]
          },
          "metadata": {
            "tags": []
          },
          "execution_count": 120
        }
      ]
    },
    {
      "cell_type": "markdown",
      "metadata": {
        "id": "nyLGZ4E6z8iv"
      },
      "source": [
        "Nous pouvons pas la completer totalement puisque il nous manque des valeurs aux extrémité de la table"
      ]
    },
    {
      "cell_type": "code",
      "metadata": {
        "colab": {
          "base_uri": "https://localhost:8080/",
          "height": 300
        },
        "id": "Oj3B8eD70FGp",
        "outputId": "054cef2a-d77f-4cae-fd68-64520d75b0c4"
      },
      "source": [
        "group_df.pivot(columns='B',values='D').interpolate().fillna(method='bfill')"
      ],
      "execution_count": 124,
      "outputs": [
        {
          "output_type": "execute_result",
          "data": {
            "text/html": [
              "<div>\n",
              "<style scoped>\n",
              "    .dataframe tbody tr th:only-of-type {\n",
              "        vertical-align: middle;\n",
              "    }\n",
              "\n",
              "    .dataframe tbody tr th {\n",
              "        vertical-align: top;\n",
              "    }\n",
              "\n",
              "    .dataframe thead th {\n",
              "        text-align: right;\n",
              "    }\n",
              "</style>\n",
              "<table border=\"1\" class=\"dataframe\">\n",
              "  <thead>\n",
              "    <tr style=\"text-align: right;\">\n",
              "      <th>B</th>\n",
              "      <th>one</th>\n",
              "      <th>three</th>\n",
              "      <th>two</th>\n",
              "    </tr>\n",
              "  </thead>\n",
              "  <tbody>\n",
              "    <tr>\n",
              "      <th>0</th>\n",
              "      <td>-1.249405</td>\n",
              "      <td>-1.571654</td>\n",
              "      <td>0.679084</td>\n",
              "    </tr>\n",
              "    <tr>\n",
              "      <th>1</th>\n",
              "      <td>-0.107474</td>\n",
              "      <td>-1.571654</td>\n",
              "      <td>0.679084</td>\n",
              "    </tr>\n",
              "    <tr>\n",
              "      <th>2</th>\n",
              "      <td>0.200863</td>\n",
              "      <td>-1.571654</td>\n",
              "      <td>0.679084</td>\n",
              "    </tr>\n",
              "    <tr>\n",
              "      <th>3</th>\n",
              "      <td>0.509200</td>\n",
              "      <td>-1.571654</td>\n",
              "      <td>0.398065</td>\n",
              "    </tr>\n",
              "    <tr>\n",
              "      <th>4</th>\n",
              "      <td>0.817538</td>\n",
              "      <td>-2.151813</td>\n",
              "      <td>0.117046</td>\n",
              "    </tr>\n",
              "    <tr>\n",
              "      <th>5</th>\n",
              "      <td>1.125875</td>\n",
              "      <td>-2.731973</td>\n",
              "      <td>1.677832</td>\n",
              "    </tr>\n",
              "    <tr>\n",
              "      <th>6</th>\n",
              "      <td>1.434212</td>\n",
              "      <td>-3.312132</td>\n",
              "      <td>1.677832</td>\n",
              "    </tr>\n",
              "    <tr>\n",
              "      <th>7</th>\n",
              "      <td>1.434212</td>\n",
              "      <td>-3.892291</td>\n",
              "      <td>1.677832</td>\n",
              "    </tr>\n",
              "  </tbody>\n",
              "</table>\n",
              "</div>"
            ],
            "text/plain": [
              "B       one     three       two\n",
              "0 -1.249405 -1.571654  0.679084\n",
              "1 -0.107474 -1.571654  0.679084\n",
              "2  0.200863 -1.571654  0.679084\n",
              "3  0.509200 -1.571654  0.398065\n",
              "4  0.817538 -2.151813  0.117046\n",
              "5  1.125875 -2.731973  1.677832\n",
              "6  1.434212 -3.312132  1.677832\n",
              "7  1.434212 -3.892291  1.677832"
            ]
          },
          "metadata": {
            "tags": []
          },
          "execution_count": 124
        }
      ]
    },
    {
      "cell_type": "markdown",
      "metadata": {
        "id": "PZHwyihllKM_"
      },
      "source": [
        "# III. Vizualisation"
      ]
    },
    {
      "cell_type": "markdown",
      "metadata": {
        "id": "R-Zn09Ew0U_G"
      },
      "source": [
        "Reprenons notre dataframe de départ et essayons d'avoir des graphiques pertinents"
      ]
    },
    {
      "cell_type": "code",
      "metadata": {
        "colab": {
          "base_uri": "https://localhost:8080/",
          "height": 283
        },
        "id": "ulYUx8c9eUtf",
        "outputId": "5a2f2b73-8152-4a6d-b064-54a9f69d39da"
      },
      "source": [
        "df['Temperature(°C)'].plot()"
      ],
      "execution_count": 125,
      "outputs": [
        {
          "output_type": "execute_result",
          "data": {
            "text/plain": [
              "<matplotlib.axes._subplots.AxesSubplot at 0x7f50d03e7e90>"
            ]
          },
          "metadata": {
            "tags": []
          },
          "execution_count": 125
        },
        {
          "output_type": "display_data",
          "data": {
            "image/png": "[encoded data removed]",
            "text/plain": [
              "<Figure size 432x288 with 1 Axes>"
            ]
          },
          "metadata": {
            "tags": [],
            "needs_background": "light"
          }
        }
      ]
    },
    {
      "cell_type": "markdown",
      "metadata": {
        "id": "XFq2I8Ae03bc"
      },
      "source": [
        "Observons la répartitions des valeurs"
      ]
    },
    {
      "cell_type": "code",
      "metadata": {
        "colab": {
          "base_uri": "https://localhost:8080/",
          "height": 318
        },
        "id": "D7CAe_oL0zXA",
        "outputId": "98a8898c-25eb-4561-e26e-c5440f708632"
      },
      "source": [
        "df.hist(column='Temperature(°C)')"
      ],
      "execution_count": 127,
      "outputs": [
        {
          "output_type": "execute_result",
          "data": {
            "text/plain": [
              "array([[<matplotlib.axes._subplots.AxesSubplot object at 0x7f50cf621810>]],\n",
              "      dtype=object)"
            ]
          },
          "metadata": {
            "tags": []
          },
          "execution_count": 127
        },
        {
          "output_type": "display_data",
          "data": {
            "image/png": "[encoded data removed]",
            "text/plain": [
              "<Figure size 432x288 with 1 Axes>"
            ]
          },
          "metadata": {
            "tags": [],
            "needs_background": "light"
          }
        }
      ]
    },
    {
      "cell_type": "code",
      "metadata": {
        "colab": {
          "base_uri": "https://localhost:8080/",
          "height": 283
        },
        "id": "DpgfJBBo1ECv",
        "outputId": "8ef027f6-f7ae-4824-9a37-6212d271ea49"
      },
      "source": [
        "df['Temperature(°C)'].plot.kde()"
      ],
      "execution_count": 128,
      "outputs": [
        {
          "output_type": "execute_result",
          "data": {
            "text/plain": [
              "<matplotlib.axes._subplots.AxesSubplot at 0x7f50cf621490>"
            ]
          },
          "metadata": {
            "tags": []
          },
          "execution_count": 128
        },
        {
          "output_type": "display_data",
          "data": {
            "image/png": "[encoded data removed]",
            "text/plain": [
              "<Figure size 432x288 with 1 Axes>"
            ]
          },
          "metadata": {
            "tags": [],
            "needs_background": "light"
          }
        }
      ]
    },
    {
      "cell_type": "markdown",
      "metadata": {
        "id": "coitYp8k1Ns-"
      },
      "source": [
        "Soyons plus précis et prenons en compte les saisons"
      ]
    },
    {
      "cell_type": "code",
      "metadata": {
        "colab": {
          "base_uri": "https://localhost:8080/",
          "height": 376
        },
        "id": "-wFBvSII1RGw",
        "outputId": "c862d48f-9d92-4be0-a366-fd219ae121b7"
      },
      "source": [
        "df.boxplot(column='Temperature(°C)',by='Seasons')"
      ],
      "execution_count": 130,
      "outputs": [
        {
          "output_type": "stream",
          "text": [
            "/usr/local/lib/python3.7/dist-packages/numpy/core/_asarray.py:83: VisibleDeprecationWarning: Creating an ndarray from ragged nested sequences (which is a list-or-tuple of lists-or-tuples-or ndarrays with different lengths or shapes) is deprecated. If you meant to do this, you must specify 'dtype=object' when creating the ndarray\n",
            "  return array(a, dtype, copy=False, order=order)\n"
          ],
          "name": "stderr"
        },
        {
          "output_type": "execute_result",
          "data": {
            "text/plain": [
              "<matplotlib.axes._subplots.AxesSubplot at 0x7f50c2214190>"
            ]
          },
          "metadata": {
            "tags": []
          },
          "execution_count": 130
        },
        {
          "output_type": "display_data",
          "data": {
            "image/png": "[encoded data removed]",
            "text/plain": [
              "<Figure size 432x288 with 1 Axes>"
            ]
          },
          "metadata": {
            "tags": [],
            "needs_background": "light"
          }
        }
      ]
    },
    {
      "cell_type": "code",
      "metadata": {
        "colab": {
          "base_uri": "https://localhost:8080/",
          "height": 383
        },
        "id": "X9hlFHr21eyx",
        "outputId": "449d3f96-f7fa-4e28-9af2-137b9f0cb3dc"
      },
      "source": [
        "df.hist(column='Temperature(°C)',by='Seasons')"
      ],
      "execution_count": 131,
      "outputs": [
        {
          "output_type": "execute_result",
          "data": {
            "text/plain": [
              "array([[<matplotlib.axes._subplots.AxesSubplot object at 0x7f50bf30de90>,\n",
              "        <matplotlib.axes._subplots.AxesSubplot object at 0x7f50bf2a6490>],\n",
              "       [<matplotlib.axes._subplots.AxesSubplot object at 0x7f50bf2d6b10>,\n",
              "        <matplotlib.axes._subplots.AxesSubplot object at 0x7f50bf2911d0>]],\n",
              "      dtype=object)"
            ]
          },
          "metadata": {
            "tags": []
          },
          "execution_count": 131
        },
        {
          "output_type": "display_data",
          "data": {
            "image/png": "[encoded data removed]",
            "text/plain": [
              "<Figure size 432x288 with 4 Axes>"
            ]
          },
          "metadata": {
            "tags": [],
            "needs_background": "light"
          }
        }
      ]
    },
    {
      "cell_type": "markdown",
      "metadata": {
        "id": "azTpJg1V0zI2"
      },
      "source": [
        "Cherchons à être plus vendeur et moins classique"
      ]
    },
    {
      "cell_type": "code",
      "metadata": {
        "colab": {
          "base_uri": "https://localhost:8080/",
          "height": 272
        },
        "id": "vfLT3tLL1vrK",
        "outputId": "41d8e9aa-fb7f-412e-9bc0-a5104a1f6e87"
      },
      "source": [
        "df.plot.hexbin(y='Temperature(°C)',x='Rented Bike Count',gridsize=25)"
      ],
      "execution_count": 135,
      "outputs": [
        {
          "output_type": "execute_result",
          "data": {
            "text/plain": [
              "<matplotlib.axes._subplots.AxesSubplot at 0x7f50befcfc10>"
            ]
          },
          "metadata": {
            "tags": []
          },
          "execution_count": 135
        },
        {
          "output_type": "display_data",
          "data": {
            "image/png": "[encoded data removed]",
            "text/plain": [
              "<Figure size 432x288 with 2 Axes>"
            ]
          },
          "metadata": {
            "tags": [],
            "needs_background": "light"
          }
        }
      ]
    },
    {
      "cell_type": "code",
      "metadata": {
        "colab": {
          "base_uri": "https://localhost:8080/",
          "height": 273
        },
        "id": "JFYKf-8E2Qbc",
        "outputId": "15235ea3-f9b7-4997-a175-a70825e516c7"
      },
      "source": [
        "df.plot.scatter(y='Temperature(°C)',x='Humidity(%)',c='Rented Bike Count',colormap='viridis')"
      ],
      "execution_count": 138,
      "outputs": [
        {
          "output_type": "execute_result",
          "data": {
            "text/plain": [
              "<matplotlib.axes._subplots.AxesSubplot at 0x7f50bed07790>"
            ]
          },
          "metadata": {
            "tags": []
          },
          "execution_count": 138
        },
        {
          "output_type": "display_data",
          "data": {
            "image/png": "[encoded data removed]",
            "text/plain": [
              "<Figure size 432x288 with 2 Axes>"
            ]
          },
          "metadata": {
            "tags": [],
            "needs_background": "light"
          }
        }
      ]
    },
    {
      "cell_type": "code",
      "metadata": {
        "colab": {
          "base_uri": "https://localhost:8080/",
          "height": 616
        },
        "id": "FDsDE2sy2x4f",
        "outputId": "bf2da8c5-f850-4405-b637-e17f4a8a2a10"
      },
      "source": [
        "from pandas.plotting import scatter_matrix\n",
        "scatter_matrix(df[['Temperature(°C)','Humidity(%)','Rented Bike Count','Solar Radiation (MJ/m2)']],diagonal='kde')"
      ],
      "execution_count": 142,
      "outputs": [
        {
          "output_type": "execute_result",
          "data": {
            "text/plain": [
              "array([[<matplotlib.axes._subplots.AxesSubplot object at 0x7f50ba9f1650>,\n",
              "        <matplotlib.axes._subplots.AxesSubplot object at 0x7f50ba8aa8d0>,\n",
              "        <matplotlib.axes._subplots.AxesSubplot object at 0x7f50ba828490>,\n",
              "        <matplotlib.axes._subplots.AxesSubplot object at 0x7f50ba83aa10>],\n",
              "       [<matplotlib.axes._subplots.AxesSubplot object at 0x7f50ba84df90>,\n",
              "        <matplotlib.axes._subplots.AxesSubplot object at 0x7f50ba7ea550>,\n",
              "        <matplotlib.axes._subplots.AxesSubplot object at 0x7f50ba80df90>,\n",
              "        <matplotlib.axes._subplots.AxesSubplot object at 0x7f50ba7c4090>],\n",
              "       [<matplotlib.axes._subplots.AxesSubplot object at 0x7f50ba7cd510>,\n",
              "        <matplotlib.axes._subplots.AxesSubplot object at 0x7f50ba784b90>,\n",
              "        <matplotlib.axes._subplots.AxesSubplot object at 0x7f50ba6f3150>,\n",
              "        <matplotlib.axes._subplots.AxesSubplot object at 0x7f50ba6a76d0>],\n",
              "       [<matplotlib.axes._subplots.AxesSubplot object at 0x7f50ba65cc50>,\n",
              "        <matplotlib.axes._subplots.AxesSubplot object at 0x7f50ba61e210>,\n",
              "        <matplotlib.axes._subplots.AxesSubplot object at 0x7f50ba654790>,\n",
              "        <matplotlib.axes._subplots.AxesSubplot object at 0x7f50ba60bd10>]],\n",
              "      dtype=object)"
            ]
          },
          "metadata": {
            "tags": []
          },
          "execution_count": 142
        },
        {
          "output_type": "display_data",
          "data": {
            "image/png": "[encoded data removed]",
            "text/plain": [
              "<Figure size 432x288 with 16 Axes>"
            ]
          },
          "metadata": {
            "tags": [],
            "needs_background": "light"
          }
        }
      ]
    },
    {
      "cell_type": "markdown",
      "metadata": {
        "id": "DLcaatLv3e65"
      },
      "source": [
        "Cette visualisation permet de rapidement repérer les correlation et distribution de valeurs problèmatiques"
      ]
    },
    {
      "cell_type": "markdown",
      "metadata": {
        "id": "ZvAlPszfxPd4"
      },
      "source": [
        "# IV. A vous de jouer "
      ]
    },
    {
      "cell_type": "markdown",
      "metadata": {
        "id": "O1GzeGwD4jon"
      },
      "source": [
        "Faire une étude détaillé du dataset fournis en copie:"
      ]
    },
    {
      "cell_type": "code",
      "metadata": {
        "id": "4ebb2Nfxe_dX"
      },
      "source": [
        "to_study = pd.read_csv(\"https://raw.githubusercontent.com/njtierney/melb-housing-data/master/data-raw/melbourne_housing_raw.csv\")"
      ],
      "execution_count": 143,
      "outputs": []
    },
    {
      "cell_type": "code",
      "metadata": {
        "colab": {
          "base_uri": "https://localhost:8080/",
          "height": 313
        },
        "id": "RwCHk4E1lOpN",
        "outputId": "dfd0d210-12f9-4c5c-c316-ac1bc75ee1d6"
      },
      "source": [
        "to_study.head()"
      ],
      "execution_count": 144,
      "outputs": [
        {
          "output_type": "execute_result",
          "data": {
            "text/html": [
              "<div>\n",
              "<style scoped>\n",
              "    .dataframe tbody tr th:only-of-type {\n",
              "        vertical-align: middle;\n",
              "    }\n",
              "\n",
              "    .dataframe tbody tr th {\n",
              "        vertical-align: top;\n",
              "    }\n",
              "\n",
              "    .dataframe thead th {\n",
              "        text-align: right;\n",
              "    }\n",
              "</style>\n",
              "<table border=\"1\" class=\"dataframe\">\n",
              "  <thead>\n",
              "    <tr style=\"text-align: right;\">\n",
              "      <th></th>\n",
              "      <th>Suburb</th>\n",
              "      <th>Rooms</th>\n",
              "      <th>Type</th>\n",
              "      <th>Price</th>\n",
              "      <th>Method</th>\n",
              "      <th>SellerG</th>\n",
              "      <th>Date</th>\n",
              "      <th>Distance</th>\n",
              "      <th>Postcode</th>\n",
              "      <th>Bedroom2</th>\n",
              "      <th>Bathroom</th>\n",
              "      <th>Car</th>\n",
              "      <th>Landsize</th>\n",
              "      <th>BuildingArea</th>\n",
              "      <th>YearBuilt</th>\n",
              "      <th>CouncilArea</th>\n",
              "      <th>Lattitude</th>\n",
              "      <th>Longtitude</th>\n",
              "      <th>Regionname</th>\n",
              "      <th>Propertycount</th>\n",
              "    </tr>\n",
              "  </thead>\n",
              "  <tbody>\n",
              "    <tr>\n",
              "      <th>0</th>\n",
              "      <td>Abbotsford</td>\n",
              "      <td>2</td>\n",
              "      <td>h</td>\n",
              "      <td>NaN</td>\n",
              "      <td>SS</td>\n",
              "      <td>Jellis</td>\n",
              "      <td>3/9/16</td>\n",
              "      <td>2.5</td>\n",
              "      <td>3067.0</td>\n",
              "      <td>2.0</td>\n",
              "      <td>1.0</td>\n",
              "      <td>1.0</td>\n",
              "      <td>126.0</td>\n",
              "      <td>NaN</td>\n",
              "      <td>NaN</td>\n",
              "      <td>Yarra City Council</td>\n",
              "      <td>-37.8014</td>\n",
              "      <td>144.9958</td>\n",
              "      <td>Northern Metropolitan</td>\n",
              "      <td>4019.0</td>\n",
              "    </tr>\n",
              "    <tr>\n",
              "      <th>1</th>\n",
              "      <td>Abbotsford</td>\n",
              "      <td>2</td>\n",
              "      <td>h</td>\n",
              "      <td>1480000.0</td>\n",
              "      <td>S</td>\n",
              "      <td>Biggin</td>\n",
              "      <td>3/12/16</td>\n",
              "      <td>2.5</td>\n",
              "      <td>3067.0</td>\n",
              "      <td>2.0</td>\n",
              "      <td>1.0</td>\n",
              "      <td>1.0</td>\n",
              "      <td>202.0</td>\n",
              "      <td>NaN</td>\n",
              "      <td>NaN</td>\n",
              "      <td>Yarra City Council</td>\n",
              "      <td>-37.7996</td>\n",
              "      <td>144.9984</td>\n",
              "      <td>Northern Metropolitan</td>\n",
              "      <td>4019.0</td>\n",
              "    </tr>\n",
              "    <tr>\n",
              "      <th>2</th>\n",
              "      <td>Abbotsford</td>\n",
              "      <td>2</td>\n",
              "      <td>h</td>\n",
              "      <td>1035000.0</td>\n",
              "      <td>S</td>\n",
              "      <td>Biggin</td>\n",
              "      <td>4/2/16</td>\n",
              "      <td>2.5</td>\n",
              "      <td>3067.0</td>\n",
              "      <td>2.0</td>\n",
              "      <td>1.0</td>\n",
              "      <td>0.0</td>\n",
              "      <td>156.0</td>\n",
              "      <td>79.0</td>\n",
              "      <td>1900.0</td>\n",
              "      <td>Yarra City Council</td>\n",
              "      <td>-37.8079</td>\n",
              "      <td>144.9934</td>\n",
              "      <td>Northern Metropolitan</td>\n",
              "      <td>4019.0</td>\n",
              "    </tr>\n",
              "    <tr>\n",
              "      <th>3</th>\n",
              "      <td>Abbotsford</td>\n",
              "      <td>3</td>\n",
              "      <td>u</td>\n",
              "      <td>NaN</td>\n",
              "      <td>VB</td>\n",
              "      <td>Rounds</td>\n",
              "      <td>4/2/16</td>\n",
              "      <td>2.5</td>\n",
              "      <td>3067.0</td>\n",
              "      <td>3.0</td>\n",
              "      <td>2.0</td>\n",
              "      <td>1.0</td>\n",
              "      <td>0.0</td>\n",
              "      <td>NaN</td>\n",
              "      <td>NaN</td>\n",
              "      <td>Yarra City Council</td>\n",
              "      <td>-37.8114</td>\n",
              "      <td>145.0116</td>\n",
              "      <td>Northern Metropolitan</td>\n",
              "      <td>4019.0</td>\n",
              "    </tr>\n",
              "    <tr>\n",
              "      <th>4</th>\n",
              "      <td>Abbotsford</td>\n",
              "      <td>3</td>\n",
              "      <td>h</td>\n",
              "      <td>1465000.0</td>\n",
              "      <td>SP</td>\n",
              "      <td>Biggin</td>\n",
              "      <td>4/3/17</td>\n",
              "      <td>2.5</td>\n",
              "      <td>3067.0</td>\n",
              "      <td>3.0</td>\n",
              "      <td>2.0</td>\n",
              "      <td>0.0</td>\n",
              "      <td>134.0</td>\n",
              "      <td>150.0</td>\n",
              "      <td>1900.0</td>\n",
              "      <td>Yarra City Council</td>\n",
              "      <td>-37.8093</td>\n",
              "      <td>144.9944</td>\n",
              "      <td>Northern Metropolitan</td>\n",
              "      <td>4019.0</td>\n",
              "    </tr>\n",
              "  </tbody>\n",
              "</table>\n",
              "</div>"
            ],
            "text/plain": [
              "       Suburb  Rooms Type  ...  Longtitude             Regionname Propertycount\n",
              "0  Abbotsford      2    h  ...    144.9958  Northern Metropolitan        4019.0\n",
              "1  Abbotsford      2    h  ...    144.9984  Northern Metropolitan        4019.0\n",
              "2  Abbotsford      2    h  ...    144.9934  Northern Metropolitan        4019.0\n",
              "3  Abbotsford      3    u  ...    145.0116  Northern Metropolitan        4019.0\n",
              "4  Abbotsford      3    h  ...    144.9944  Northern Metropolitan        4019.0\n",
              "\n",
              "[5 rows x 20 columns]"
            ]
          },
          "metadata": {
            "tags": []
          },
          "execution_count": 144
        }
      ]
    },
    {
      "cell_type": "code",
      "metadata": {
        "id": "uPqn2duo4tGI"
      },
      "source": [
        ""
      ],
      "execution_count": null,
      "outputs": []
    }
  ]
}