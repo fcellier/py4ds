{
  "nbformat": 4,
  "nbformat_minor": 0,
  "metadata": {
    "colab": {
      "name": "TP_SHOOT.ipynb",
      "provenance": [],
      "collapsed_sections": []
    },
    "kernelspec": {
      "name": "python3",
      "display_name": "Python 3"
    }
  },
  "cells": [
    {
      "cell_type": "markdown",
      "metadata": {
        "id": "rrYWtqB_f4ti"
      },
      "source": [
        "# TP sur les tirs à trois points\r\n",
        "\r\n",
        "Supposons que j'ai 50% de réussite aux tirs à trois points au basket en général,\r\n",
        "quelle est ma probabilité de réussir 9 paniers sur une série de 15 essaies"
      ]
    },
    {
      "cell_type": "code",
      "metadata": {
        "colab": {
          "base_uri": "https://localhost:8080/"
        },
        "id": "8AqcMCZ4rFL2",
        "outputId": "0c5ea658-91ff-4390-d0ff-2a103a3b6eda"
      },
      "source": [
        "import numpy as np\r\n",
        "\r\n",
        "lancees = np.random.randint(0,100,150000)\r\n",
        "\r\n",
        "mat = lancees.reshape((10000,15))\r\n",
        "res = np.where(mat > 50, 1 ,0 )\r\n",
        "\r\n",
        "r = res.sum(axis=1)\r\n",
        "pourcentage = (r[r > 8].size / 10000)*100\r\n",
        "print(f\" {pourcentage} % d'avoir 9 ou plus reussite sur 15 avec une change de 50% de réussite à chaque essaie\") \r\n"
      ],
      "execution_count": 8,
      "outputs": [
        {
          "output_type": "stream",
          "text": [
            " 27.35 % d'avoir 9 ou plus reussite sur 15 avec une change de 50% de réussite à chaque essaie\n"
          ],
          "name": "stdout"
        }
      ]
    },
    {
      "cell_type": "code",
      "metadata": {
        "id": "xn_FKNlDhoUq"
      },
      "source": [
        ""
      ],
      "execution_count": 7,
      "outputs": []
    }
  ]
}